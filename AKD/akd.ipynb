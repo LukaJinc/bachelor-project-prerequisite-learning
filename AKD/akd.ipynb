{
 "cells": [
  {
   "cell_type": "code",
   "id": "initial_id",
   "metadata": {
    "collapsed": true,
    "ExecuteTime": {
     "end_time": "2024-07-24T17:48:59.173791Z",
     "start_time": "2024-07-24T17:48:54.066831Z"
    }
   },
   "source": [
    "import pandas as pd\n",
    "from ContentBasedLearning import ContentBasedLearning\n",
    "from GraphBasedLearning import GraphBasedLearning\n",
    "from sklearn.metrics import classification_report"
   ],
   "outputs": [],
   "execution_count": 1
  },
  {
   "metadata": {
    "ExecuteTime": {
     "end_time": "2024-07-24T17:48:59.178301Z",
     "start_time": "2024-07-24T17:48:59.174794Z"
    }
   },
   "cell_type": "code",
   "source": [
    "import os\n",
    "PATH = os.path.dirname(os.getcwd())"
   ],
   "id": "973e06f7f4feabe8",
   "outputs": [],
   "execution_count": 2
  },
  {
   "metadata": {
    "ExecuteTime": {
     "end_time": "2024-07-24T17:48:59.190342Z",
     "start_time": "2024-07-24T17:48:59.178812Z"
    }
   },
   "cell_type": "code",
   "source": [
    "import torch\n",
    "torch.manual_seed(0)"
   ],
   "id": "25a6ca6c19387d19",
   "outputs": [
    {
     "data": {
      "text/plain": [
       "<torch._C.Generator at 0x25022595af0>"
      ]
     },
     "execution_count": 3,
     "metadata": {},
     "output_type": "execute_result"
    }
   ],
   "execution_count": 3
  },
  {
   "metadata": {},
   "cell_type": "markdown",
   "source": "# AKD\n",
   "id": "5e41746a951e3646"
  },
  {
   "metadata": {
    "ExecuteTime": {
     "end_time": "2024-07-24T17:48:59.195209Z",
     "start_time": "2024-07-24T17:48:59.191382Z"
    }
   },
   "cell_type": "code",
   "source": [
    "def unite_pseudo_data(path, pseudo_data, i, n):\n",
    "    train = pd.read_csv(path)\n",
    "\n",
    "    new_train = pd.concat([train, pseudo_data], axis=0).sort_values(by=['conceptA'])\n",
    "    \n",
    "    new_train[['conceptA', 'conceptB']] = new_train[['conceptA', 'conceptB']].astype(int)\n",
    "    \n",
    "    path_to_write = os.path.join(PATH, f'data/pseudo/akd_united_pseudo_data_fixed_{i}_{n}.csv')\n",
    "    \n",
    "    new_train.to_csv(path_to_write, index=False)\n",
    "    \n",
    "    return path_to_write, new_train['isPrerequisite'].mean()"
   ],
   "id": "6a9dfe0bd1a323b8",
   "outputs": [],
   "execution_count": 4
  },
  {
   "metadata": {
    "ExecuteTime": {
     "end_time": "2024-07-24T18:29:34.462790Z",
     "start_time": "2024-07-24T17:48:59.196214Z"
    }
   },
   "cell_type": "code",
   "source": [
    "train_path = os.path.join(PATH, r'data/train_test/train.csv')\n",
    "test_file = os.path.join(PATH, r'data/train_test/test.csv')\n",
    "\n",
    "for i in range(1, 5):\n",
    "    print()\n",
    "    print(\"#\"*50)\n",
    "    print(f\"Iteration {i}\")\n",
    "    print(\"#\"*50)\n",
    "    print()\n",
    "    \n",
    "    device = torch.device('cuda' if torch.cuda.is_available() else 'cpu')\n",
    "    cbl = ContentBasedLearning(input_size=2048, device=device)\n",
    "    \n",
    "    x_train, y_train, x_test, y_test = cbl.create_train_test_dataset(train_file=train_path, test_file=test_file)\n",
    "    \n",
    "    cbl.train_model(x_train=x_train, y_train=y_train, x_test=x_test, y_test=y_test, num_epochs=500)\n",
    "    \n",
    "    pseudo_nn = cbl.generate_pseudo_data(train_file=train_path)\n",
    "    \n",
    "    train_path, threshold = unite_pseudo_data(train_path, pseudo_nn, i, 0)\n",
    "    \n",
    "    print(train_path)\n",
    "    \n",
    "    gbl = GraphBasedLearning('conceptA', 'conceptB')\n",
    "    \n",
    "    gbl.train(train_path)\n",
    "    \n",
    "    pred = gbl.predict(threshold)       \n",
    "    df_test = pred[pred['_split_set'] == 'test']\n",
    "    print(classification_report(df_test['isPrerequisite'], df_test['pred']))\n",
    "    \n",
    "    pseudo_ncf = gbl.generate_pseudo_data(train_path)\n",
    "    \n",
    "    train_path, _ = unite_pseudo_data(train_path, pseudo_nn, i, 1)\n",
    "    \n",
    "    print(train_path)"
   ],
   "id": "7bbd245aac3c108c",
   "outputs": [
    {
     "name": "stdout",
     "output_type": "stream",
     "text": [
      "\n",
      "##################################################\n",
      "Iteration 1\n",
      "##################################################\n",
      "\n",
      "x_train shape: torch.Size([14846, 2048])\n",
      "y_train shape: torch.Size([14846])\n",
      "x_test shape: torch.Size([3577, 2048])\n",
      "y_test shape: torch.Size([3577])\n",
      "Epoch [10/500], Loss: 0.5987, Train Accuracy: 0.7142, Train F1: 0.0000, Test Accuracy: 0.7157, Test F1: 0.0000\n",
      "Epoch [20/500], Loss: 0.5903, Train Accuracy: 0.7142, Train F1: 0.0000, Test Accuracy: 0.7157, Test F1: 0.0000\n",
      "Epoch [30/500], Loss: 0.5728, Train Accuracy: 0.7142, Train F1: 0.0000, Test Accuracy: 0.7157, Test F1: 0.0000\n",
      "Epoch [40/500], Loss: 0.5390, Train Accuracy: 0.7142, Train F1: 0.0000, Test Accuracy: 0.7157, Test F1: 0.0000\n",
      "Epoch [50/500], Loss: 0.4999, Train Accuracy: 0.7203, Train F1: 0.0490, Test Accuracy: 0.7157, Test F1: 0.0000\n",
      "Epoch [60/500], Loss: 0.4632, Train Accuracy: 0.7432, Train F1: 0.2430, Test Accuracy: 0.7621, Test F1: 0.3519\n",
      "Epoch [70/500], Loss: 0.4315, Train Accuracy: 0.7911, Train F1: 0.5109, Test Accuracy: 0.8026, Test F1: 0.5515\n",
      "Epoch [80/500], Loss: 0.4102, Train Accuracy: 0.8210, Train F1: 0.6271, Test Accuracy: 0.8183, Test F1: 0.6286\n",
      "Epoch [90/500], Loss: 0.3866, Train Accuracy: 0.8384, Train F1: 0.6968, Test Accuracy: 0.8211, Test F1: 0.6351\n",
      "Epoch [100/500], Loss: 0.3660, Train Accuracy: 0.8511, Train F1: 0.7270, Test Accuracy: 0.8283, Test F1: 0.6706\n",
      "Epoch [110/500], Loss: 0.3408, Train Accuracy: 0.8602, Train F1: 0.7419, Test Accuracy: 0.8373, Test F1: 0.6991\n",
      "Epoch [120/500], Loss: 0.3238, Train Accuracy: 0.8711, Train F1: 0.7676, Test Accuracy: 0.8434, Test F1: 0.7086\n",
      "Epoch [130/500], Loss: 0.3105, Train Accuracy: 0.8734, Train F1: 0.7619, Test Accuracy: 0.8443, Test F1: 0.7310\n",
      "Epoch [140/500], Loss: 0.2906, Train Accuracy: 0.8851, Train F1: 0.7918, Test Accuracy: 0.8543, Test F1: 0.7319\n",
      "Epoch [150/500], Loss: 0.2754, Train Accuracy: 0.8928, Train F1: 0.8133, Test Accuracy: 0.8555, Test F1: 0.7353\n",
      "Epoch [160/500], Loss: 0.2615, Train Accuracy: 0.8989, Train F1: 0.8210, Test Accuracy: 0.8605, Test F1: 0.7514\n",
      "Epoch [170/500], Loss: 0.2516, Train Accuracy: 0.9011, Train F1: 0.8225, Test Accuracy: 0.8655, Test F1: 0.7632\n",
      "Epoch [180/500], Loss: 0.2368, Train Accuracy: 0.9074, Train F1: 0.8380, Test Accuracy: 0.8672, Test F1: 0.7605\n",
      "Epoch [190/500], Loss: 0.2236, Train Accuracy: 0.9138, Train F1: 0.8518, Test Accuracy: 0.8722, Test F1: 0.7658\n",
      "Epoch [200/500], Loss: 0.2185, Train Accuracy: 0.9153, Train F1: 0.8472, Test Accuracy: 0.8750, Test F1: 0.7759\n",
      "Epoch [210/500], Loss: 0.2036, Train Accuracy: 0.9224, Train F1: 0.8641, Test Accuracy: 0.8742, Test F1: 0.7725\n",
      "Epoch [220/500], Loss: 0.1925, Train Accuracy: 0.9286, Train F1: 0.8748, Test Accuracy: 0.8753, Test F1: 0.7747\n",
      "Epoch [230/500], Loss: 0.1879, Train Accuracy: 0.9271, Train F1: 0.8747, Test Accuracy: 0.8773, Test F1: 0.7729\n",
      "Epoch [240/500], Loss: 0.1819, Train Accuracy: 0.9309, Train F1: 0.8774, Test Accuracy: 0.8812, Test F1: 0.7868\n",
      "Epoch [250/500], Loss: 0.1707, Train Accuracy: 0.9357, Train F1: 0.8862, Test Accuracy: 0.8817, Test F1: 0.7888\n",
      "Epoch [260/500], Loss: 0.1637, Train Accuracy: 0.9386, Train F1: 0.8946, Test Accuracy: 0.8834, Test F1: 0.7849\n",
      "Epoch [270/500], Loss: 0.1614, Train Accuracy: 0.9381, Train F1: 0.8941, Test Accuracy: 0.8848, Test F1: 0.7865\n",
      "Epoch [280/500], Loss: 0.1563, Train Accuracy: 0.9415, Train F1: 0.8994, Test Accuracy: 0.8854, Test F1: 0.7873\n",
      "Epoch [290/500], Loss: 0.1503, Train Accuracy: 0.9434, Train F1: 0.9016, Test Accuracy: 0.8887, Test F1: 0.7959\n",
      "Epoch [300/500], Loss: 0.1471, Train Accuracy: 0.9447, Train F1: 0.9029, Test Accuracy: 0.8882, Test F1: 0.8002\n",
      "Epoch [310/500], Loss: 0.1433, Train Accuracy: 0.9460, Train F1: 0.9064, Test Accuracy: 0.8912, Test F1: 0.7992\n",
      "Epoch [320/500], Loss: 0.1362, Train Accuracy: 0.9483, Train F1: 0.9107, Test Accuracy: 0.8915, Test F1: 0.8002\n",
      "Epoch [330/500], Loss: 0.1349, Train Accuracy: 0.9504, Train F1: 0.9151, Test Accuracy: 0.8876, Test F1: 0.7880\n",
      "Epoch [340/500], Loss: 0.1320, Train Accuracy: 0.9515, Train F1: 0.9159, Test Accuracy: 0.8890, Test F1: 0.7961\n",
      "Epoch [350/500], Loss: 0.1276, Train Accuracy: 0.9518, Train F1: 0.9156, Test Accuracy: 0.8940, Test F1: 0.8083\n",
      "Epoch [360/500], Loss: 0.1225, Train Accuracy: 0.9539, Train F1: 0.9192, Test Accuracy: 0.8935, Test F1: 0.8027\n",
      "Epoch [370/500], Loss: 0.1235, Train Accuracy: 0.9534, Train F1: 0.9187, Test Accuracy: 0.8907, Test F1: 0.7977\n",
      "Epoch [380/500], Loss: 0.1149, Train Accuracy: 0.9570, Train F1: 0.9253, Test Accuracy: 0.8904, Test F1: 0.7960\n",
      "Epoch [390/500], Loss: 0.1122, Train Accuracy: 0.9582, Train F1: 0.9280, Test Accuracy: 0.8926, Test F1: 0.8002\n",
      "Epoch [400/500], Loss: 0.1112, Train Accuracy: 0.9579, Train F1: 0.9268, Test Accuracy: 0.8938, Test F1: 0.8045\n",
      "Epoch [410/500], Loss: 0.1100, Train Accuracy: 0.9578, Train F1: 0.9264, Test Accuracy: 0.8932, Test F1: 0.8008\n",
      "Epoch [420/500], Loss: 0.1085, Train Accuracy: 0.9573, Train F1: 0.9255, Test Accuracy: 0.8943, Test F1: 0.8048\n",
      "Epoch [430/500], Loss: 0.1045, Train Accuracy: 0.9599, Train F1: 0.9297, Test Accuracy: 0.8929, Test F1: 0.7998\n",
      "Epoch [440/500], Loss: 0.1052, Train Accuracy: 0.9590, Train F1: 0.9288, Test Accuracy: 0.8915, Test F1: 0.7969\n",
      "Epoch [450/500], Loss: 0.1020, Train Accuracy: 0.9604, Train F1: 0.9310, Test Accuracy: 0.8885, Test F1: 0.7865\n",
      "Epoch [460/500], Loss: 0.1001, Train Accuracy: 0.9607, Train F1: 0.9317, Test Accuracy: 0.8901, Test F1: 0.7930\n",
      "Epoch [470/500], Loss: 0.1022, Train Accuracy: 0.9615, Train F1: 0.9323, Test Accuracy: 0.8915, Test F1: 0.7971\n",
      "Epoch [480/500], Loss: 0.0969, Train Accuracy: 0.9625, Train F1: 0.9345, Test Accuracy: 0.8929, Test F1: 0.7994\n",
      "Epoch [490/500], Loss: 0.0980, Train Accuracy: 0.9615, Train F1: 0.9328, Test Accuracy: 0.8926, Test F1: 0.8008\n",
      "Epoch [500/500], Loss: 0.0960, Train Accuracy: 0.9619, Train F1: 0.9333, Test Accuracy: 0.8943, Test F1: 0.8037\n"
     ]
    },
    {
     "name": "stderr",
     "output_type": "stream",
     "text": [
      "100%|██████████| 1384/1384 [08:02<00:00,  2.87it/s]\n"
     ]
    },
    {
     "name": "stdout",
     "output_type": "stream",
     "text": [
      "Original positives: 4243, Pseudo positives: 1049\n"
     ]
    },
    {
     "name": "stderr",
     "output_type": "stream",
     "text": [
      "INFO:ncf.dataset:Indexing C:\\Users\\achiq\\PycharmProjects\\bachelor-project-prerequisite-learning\\data/pseudo/akd_united_pseudo_data_fixed_1_0.csv ...\n"
     ]
    },
    {
     "name": "stdout",
     "output_type": "stream",
     "text": [
      "C:\\Users\\achiq\\PycharmProjects\\bachelor-project-prerequisite-learning\\data/pseudo/akd_united_pseudo_data_fixed_1_0.csv\n"
     ]
    },
    {
     "name": "stderr",
     "output_type": "stream",
     "text": [
      "INFO:ncf.ncf:Epoch 20 [1.76s]: train_loss = 0.039472 \n"
     ]
    },
    {
     "name": "stdout",
     "output_type": "stream",
     "text": [
      "              precision    recall  f1-score   support\n",
      "\n",
      "           0       0.89      0.97      0.93      2652\n",
      "           1       0.90      0.69      0.78      1064\n",
      "\n",
      "    accuracy                           0.89      3716\n",
      "   macro avg       0.89      0.83      0.85      3716\n",
      "weighted avg       0.89      0.89      0.88      3716\n",
      "\n",
      "C:\\Users\\achiq\\PycharmProjects\\bachelor-project-prerequisite-learning\\data/pseudo/akd_united_pseudo_data_fixed_1_1.csv\n",
      "\n",
      "##################################################\n",
      "Iteration 2\n",
      "##################################################\n",
      "\n",
      "x_train shape: torch.Size([16944, 2048])\n",
      "y_train shape: torch.Size([16944])\n",
      "x_test shape: torch.Size([3577, 2048])\n",
      "y_test shape: torch.Size([3577])\n",
      "Epoch [10/500], Loss: 0.6153, Train Accuracy: 0.6877, Train F1: 0.0000, Test Accuracy: 0.7157, Test F1: 0.0000\n",
      "Epoch [20/500], Loss: 0.5878, Train Accuracy: 0.6877, Train F1: 0.0000, Test Accuracy: 0.7157, Test F1: 0.0000\n",
      "Epoch [30/500], Loss: 0.5506, Train Accuracy: 0.7041, Train F1: 0.0998, Test Accuracy: 0.7168, Test F1: 0.0078\n",
      "Epoch [40/500], Loss: 0.5040, Train Accuracy: 0.7481, Train F1: 0.3460, Test Accuracy: 0.7484, Test F1: 0.2562\n",
      "Epoch [50/500], Loss: 0.4617, Train Accuracy: 0.7969, Train F1: 0.5895, Test Accuracy: 0.7845, Test F1: 0.4944\n",
      "Epoch [60/500], Loss: 0.4191, Train Accuracy: 0.8202, Train F1: 0.6644, Test Accuracy: 0.8026, Test F1: 0.5757\n",
      "Epoch [70/500], Loss: 0.3872, Train Accuracy: 0.8404, Train F1: 0.7135, Test Accuracy: 0.8085, Test F1: 0.6010\n",
      "Epoch [80/500], Loss: 0.3613, Train Accuracy: 0.8548, Train F1: 0.7454, Test Accuracy: 0.8138, Test F1: 0.6304\n",
      "Epoch [90/500], Loss: 0.3363, Train Accuracy: 0.8650, Train F1: 0.7712, Test Accuracy: 0.8228, Test F1: 0.6505\n",
      "Epoch [100/500], Loss: 0.3163, Train Accuracy: 0.8730, Train F1: 0.7900, Test Accuracy: 0.8342, Test F1: 0.6803\n",
      "Epoch [110/500], Loss: 0.2941, Train Accuracy: 0.8830, Train F1: 0.8063, Test Accuracy: 0.8437, Test F1: 0.7034\n",
      "Epoch [120/500], Loss: 0.2783, Train Accuracy: 0.8895, Train F1: 0.8140, Test Accuracy: 0.8429, Test F1: 0.7193\n",
      "Epoch [130/500], Loss: 0.2607, Train Accuracy: 0.8990, Train F1: 0.8346, Test Accuracy: 0.8504, Test F1: 0.7215\n",
      "Epoch [140/500], Loss: 0.2524, Train Accuracy: 0.8983, Train F1: 0.8276, Test Accuracy: 0.8516, Test F1: 0.7419\n",
      "Epoch [150/500], Loss: 0.2336, Train Accuracy: 0.9062, Train F1: 0.8466, Test Accuracy: 0.8599, Test F1: 0.7376\n",
      "Epoch [160/500], Loss: 0.2234, Train Accuracy: 0.9126, Train F1: 0.8600, Test Accuracy: 0.8602, Test F1: 0.7431\n",
      "Epoch [170/500], Loss: 0.2134, Train Accuracy: 0.9161, Train F1: 0.8626, Test Accuracy: 0.8666, Test F1: 0.7595\n",
      "Epoch [180/500], Loss: 0.2028, Train Accuracy: 0.9215, Train F1: 0.8728, Test Accuracy: 0.8664, Test F1: 0.7549\n",
      "Epoch [190/500], Loss: 0.1953, Train Accuracy: 0.9260, Train F1: 0.8775, Test Accuracy: 0.8720, Test F1: 0.7703\n",
      "Epoch [200/500], Loss: 0.1894, Train Accuracy: 0.9295, Train F1: 0.8833, Test Accuracy: 0.8722, Test F1: 0.7776\n",
      "Epoch [210/500], Loss: 0.1814, Train Accuracy: 0.9302, Train F1: 0.8841, Test Accuracy: 0.8776, Test F1: 0.7834\n",
      "Epoch [220/500], Loss: 0.1683, Train Accuracy: 0.9351, Train F1: 0.8932, Test Accuracy: 0.8762, Test F1: 0.7823\n",
      "Epoch [230/500], Loss: 0.1653, Train Accuracy: 0.9359, Train F1: 0.8956, Test Accuracy: 0.8795, Test F1: 0.7855\n",
      "Epoch [240/500], Loss: 0.1578, Train Accuracy: 0.9406, Train F1: 0.9029, Test Accuracy: 0.8787, Test F1: 0.7847\n",
      "Epoch [250/500], Loss: 0.1533, Train Accuracy: 0.9402, Train F1: 0.9028, Test Accuracy: 0.8834, Test F1: 0.7920\n",
      "Epoch [260/500], Loss: 0.1444, Train Accuracy: 0.9460, Train F1: 0.9129, Test Accuracy: 0.8843, Test F1: 0.7918\n",
      "Epoch [270/500], Loss: 0.1411, Train Accuracy: 0.9466, Train F1: 0.9145, Test Accuracy: 0.8834, Test F1: 0.7878\n",
      "Epoch [280/500], Loss: 0.1367, Train Accuracy: 0.9475, Train F1: 0.9149, Test Accuracy: 0.8896, Test F1: 0.7996\n",
      "Epoch [290/500], Loss: 0.1289, Train Accuracy: 0.9520, Train F1: 0.9219, Test Accuracy: 0.8868, Test F1: 0.7960\n",
      "Epoch [300/500], Loss: 0.1259, Train Accuracy: 0.9540, Train F1: 0.9263, Test Accuracy: 0.8865, Test F1: 0.7931\n",
      "Epoch [310/500], Loss: 0.1232, Train Accuracy: 0.9531, Train F1: 0.9239, Test Accuracy: 0.8876, Test F1: 0.7990\n",
      "Epoch [320/500], Loss: 0.1216, Train Accuracy: 0.9549, Train F1: 0.9272, Test Accuracy: 0.8904, Test F1: 0.8008\n",
      "Epoch [330/500], Loss: 0.1195, Train Accuracy: 0.9523, Train F1: 0.9223, Test Accuracy: 0.8910, Test F1: 0.8024\n",
      "Epoch [340/500], Loss: 0.1156, Train Accuracy: 0.9555, Train F1: 0.9293, Test Accuracy: 0.8851, Test F1: 0.7831\n",
      "Epoch [350/500], Loss: 0.1120, Train Accuracy: 0.9574, Train F1: 0.9310, Test Accuracy: 0.8926, Test F1: 0.8057\n",
      "Epoch [360/500], Loss: 0.1113, Train Accuracy: 0.9572, Train F1: 0.9329, Test Accuracy: 0.8871, Test F1: 0.7865\n",
      "Epoch [370/500], Loss: 0.1100, Train Accuracy: 0.9560, Train F1: 0.9287, Test Accuracy: 0.8932, Test F1: 0.8061\n",
      "Epoch [380/500], Loss: 0.0994, Train Accuracy: 0.9625, Train F1: 0.9404, Test Accuracy: 0.8876, Test F1: 0.7891\n",
      "Epoch [390/500], Loss: 0.1000, Train Accuracy: 0.9606, Train F1: 0.9369, Test Accuracy: 0.8887, Test F1: 0.7918\n",
      "Epoch [400/500], Loss: 0.0975, Train Accuracy: 0.9608, Train F1: 0.9368, Test Accuracy: 0.8879, Test F1: 0.7915\n",
      "Epoch [410/500], Loss: 0.0950, Train Accuracy: 0.9625, Train F1: 0.9399, Test Accuracy: 0.8868, Test F1: 0.7887\n",
      "Epoch [420/500], Loss: 0.0952, Train Accuracy: 0.9638, Train F1: 0.9419, Test Accuracy: 0.8910, Test F1: 0.7992\n",
      "Epoch [430/500], Loss: 0.0916, Train Accuracy: 0.9642, Train F1: 0.9427, Test Accuracy: 0.8907, Test F1: 0.7996\n",
      "Epoch [440/500], Loss: 0.0904, Train Accuracy: 0.9652, Train F1: 0.9445, Test Accuracy: 0.8890, Test F1: 0.7918\n",
      "Epoch [450/500], Loss: 0.0900, Train Accuracy: 0.9629, Train F1: 0.9405, Test Accuracy: 0.8899, Test F1: 0.7969\n",
      "Epoch [460/500], Loss: 0.0878, Train Accuracy: 0.9660, Train F1: 0.9455, Test Accuracy: 0.8859, Test F1: 0.7862\n",
      "Epoch [470/500], Loss: 0.0861, Train Accuracy: 0.9653, Train F1: 0.9446, Test Accuracy: 0.8899, Test F1: 0.7959\n",
      "Epoch [480/500], Loss: 0.0870, Train Accuracy: 0.9640, Train F1: 0.9422, Test Accuracy: 0.8918, Test F1: 0.8008\n",
      "Epoch [490/500], Loss: 0.0799, Train Accuracy: 0.9674, Train F1: 0.9480, Test Accuracy: 0.8885, Test F1: 0.7938\n",
      "Epoch [500/500], Loss: 0.0824, Train Accuracy: 0.9655, Train F1: 0.9454, Test Accuracy: 0.8887, Test F1: 0.7916\n"
     ]
    },
    {
     "name": "stderr",
     "output_type": "stream",
     "text": [
      "100%|██████████| 1384/1384 [08:09<00:00,  2.83it/s]\n"
     ]
    },
    {
     "name": "stdout",
     "output_type": "stream",
     "text": [
      "Original positives: 5292, Pseudo positives: 1307\n"
     ]
    },
    {
     "name": "stderr",
     "output_type": "stream",
     "text": [
      "INFO:ncf.dataset:Indexing C:\\Users\\achiq\\PycharmProjects\\bachelor-project-prerequisite-learning\\data/pseudo/akd_united_pseudo_data_fixed_2_0.csv ...\n"
     ]
    },
    {
     "name": "stdout",
     "output_type": "stream",
     "text": [
      "C:\\Users\\achiq\\PycharmProjects\\bachelor-project-prerequisite-learning\\data/pseudo/akd_united_pseudo_data_fixed_2_0.csv\n"
     ]
    },
    {
     "name": "stderr",
     "output_type": "stream",
     "text": [
      "INFO:ncf.ncf:Epoch 20 [1.72s]: train_loss = 0.042443 \n"
     ]
    },
    {
     "name": "stdout",
     "output_type": "stream",
     "text": [
      "              precision    recall  f1-score   support\n",
      "\n",
      "           0       0.87      0.97      0.92      2652\n",
      "           1       0.91      0.62      0.74      1064\n",
      "\n",
      "    accuracy                           0.87      3716\n",
      "   macro avg       0.89      0.80      0.83      3716\n",
      "weighted avg       0.88      0.87      0.87      3716\n",
      "\n",
      "C:\\Users\\achiq\\PycharmProjects\\bachelor-project-prerequisite-learning\\data/pseudo/akd_united_pseudo_data_fixed_2_1.csv\n",
      "\n",
      "##################################################\n",
      "Iteration 3\n",
      "##################################################\n",
      "\n",
      "x_train shape: torch.Size([19558, 2048])\n",
      "y_train shape: torch.Size([19558])\n",
      "x_test shape: torch.Size([3577, 2048])\n",
      "y_test shape: torch.Size([3577])\n",
      "Epoch [10/500], Loss: 0.6106, Train Accuracy: 0.6626, Train F1: 0.0000, Test Accuracy: 0.7157, Test F1: 0.0000\n",
      "Epoch [20/500], Loss: 0.5426, Train Accuracy: 0.7766, Train F1: 0.5259, Test Accuracy: 0.7442, Test F1: 0.2407\n",
      "Epoch [30/500], Loss: 0.4724, Train Accuracy: 0.7968, Train F1: 0.6048, Test Accuracy: 0.7531, Test F1: 0.3064\n",
      "Epoch [40/500], Loss: 0.4093, Train Accuracy: 0.8262, Train F1: 0.6996, Test Accuracy: 0.7839, Test F1: 0.5154\n",
      "Epoch [50/500], Loss: 0.3654, Train Accuracy: 0.8438, Train F1: 0.7392, Test Accuracy: 0.7984, Test F1: 0.5696\n",
      "Epoch [60/500], Loss: 0.3339, Train Accuracy: 0.8585, Train F1: 0.7655, Test Accuracy: 0.8085, Test F1: 0.6083\n",
      "Epoch [70/500], Loss: 0.3094, Train Accuracy: 0.8699, Train F1: 0.7881, Test Accuracy: 0.8138, Test F1: 0.6296\n",
      "Epoch [80/500], Loss: 0.2889, Train Accuracy: 0.8813, Train F1: 0.8171, Test Accuracy: 0.8211, Test F1: 0.6359\n",
      "Epoch [90/500], Loss: 0.2698, Train Accuracy: 0.8882, Train F1: 0.8244, Test Accuracy: 0.8320, Test F1: 0.6842\n",
      "Epoch [100/500], Loss: 0.2518, Train Accuracy: 0.8954, Train F1: 0.8364, Test Accuracy: 0.8376, Test F1: 0.6991\n",
      "Epoch [110/500], Loss: 0.2407, Train Accuracy: 0.9011, Train F1: 0.8519, Test Accuracy: 0.8474, Test F1: 0.7016\n",
      "Epoch [120/500], Loss: 0.2261, Train Accuracy: 0.9088, Train F1: 0.8622, Test Accuracy: 0.8502, Test F1: 0.7203\n",
      "Epoch [130/500], Loss: 0.2151, Train Accuracy: 0.9127, Train F1: 0.8651, Test Accuracy: 0.8496, Test F1: 0.7326\n",
      "Epoch [140/500], Loss: 0.2041, Train Accuracy: 0.9182, Train F1: 0.8772, Test Accuracy: 0.8566, Test F1: 0.7387\n",
      "Epoch [150/500], Loss: 0.1917, Train Accuracy: 0.9223, Train F1: 0.8844, Test Accuracy: 0.8633, Test F1: 0.7468\n",
      "Epoch [160/500], Loss: 0.1846, Train Accuracy: 0.9270, Train F1: 0.8932, Test Accuracy: 0.8622, Test F1: 0.7428\n",
      "Epoch [170/500], Loss: 0.1769, Train Accuracy: 0.9281, Train F1: 0.8952, Test Accuracy: 0.8641, Test F1: 0.7455\n",
      "Epoch [180/500], Loss: 0.1658, Train Accuracy: 0.9358, Train F1: 0.9048, Test Accuracy: 0.8717, Test F1: 0.7681\n",
      "Epoch [190/500], Loss: 0.1563, Train Accuracy: 0.9391, Train F1: 0.9101, Test Accuracy: 0.8725, Test F1: 0.7683\n",
      "Epoch [200/500], Loss: 0.1509, Train Accuracy: 0.9419, Train F1: 0.9124, Test Accuracy: 0.8764, Test F1: 0.7848\n",
      "Epoch [210/500], Loss: 0.1450, Train Accuracy: 0.9440, Train F1: 0.9187, Test Accuracy: 0.8781, Test F1: 0.7757\n",
      "Epoch [220/500], Loss: 0.1370, Train Accuracy: 0.9479, Train F1: 0.9237, Test Accuracy: 0.8748, Test F1: 0.7681\n",
      "Epoch [230/500], Loss: 0.1316, Train Accuracy: 0.9497, Train F1: 0.9255, Test Accuracy: 0.8798, Test F1: 0.7797\n",
      "Epoch [240/500], Loss: 0.1247, Train Accuracy: 0.9529, Train F1: 0.9298, Test Accuracy: 0.8812, Test F1: 0.7848\n",
      "Epoch [250/500], Loss: 0.1228, Train Accuracy: 0.9531, Train F1: 0.9313, Test Accuracy: 0.8809, Test F1: 0.7786\n",
      "Epoch [260/500], Loss: 0.1147, Train Accuracy: 0.9569, Train F1: 0.9370, Test Accuracy: 0.8820, Test F1: 0.7804\n",
      "Epoch [270/500], Loss: 0.1140, Train Accuracy: 0.9563, Train F1: 0.9359, Test Accuracy: 0.8834, Test F1: 0.7827\n",
      "Epoch [280/500], Loss: 0.1084, Train Accuracy: 0.9591, Train F1: 0.9402, Test Accuracy: 0.8854, Test F1: 0.7893\n",
      "Epoch [290/500], Loss: 0.1053, Train Accuracy: 0.9612, Train F1: 0.9435, Test Accuracy: 0.8823, Test F1: 0.7799\n",
      "Epoch [300/500], Loss: 0.1029, Train Accuracy: 0.9604, Train F1: 0.9420, Test Accuracy: 0.8876, Test F1: 0.7957\n",
      "Epoch [310/500], Loss: 0.1006, Train Accuracy: 0.9620, Train F1: 0.9436, Test Accuracy: 0.8896, Test F1: 0.8046\n",
      "Epoch [320/500], Loss: 0.1004, Train Accuracy: 0.9624, Train F1: 0.9440, Test Accuracy: 0.8879, Test F1: 0.7957\n",
      "Epoch [330/500], Loss: 0.0952, Train Accuracy: 0.9639, Train F1: 0.9468, Test Accuracy: 0.8904, Test F1: 0.8004\n",
      "Epoch [340/500], Loss: 0.0927, Train Accuracy: 0.9633, Train F1: 0.9459, Test Accuracy: 0.8879, Test F1: 0.7955\n",
      "Epoch [350/500], Loss: 0.0890, Train Accuracy: 0.9665, Train F1: 0.9507, Test Accuracy: 0.8893, Test F1: 0.7944\n",
      "Epoch [360/500], Loss: 0.0872, Train Accuracy: 0.9657, Train F1: 0.9497, Test Accuracy: 0.8893, Test F1: 0.7967\n",
      "Epoch [370/500], Loss: 0.0884, Train Accuracy: 0.9661, Train F1: 0.9498, Test Accuracy: 0.8887, Test F1: 0.7963\n",
      "Epoch [380/500], Loss: 0.0836, Train Accuracy: 0.9692, Train F1: 0.9550, Test Accuracy: 0.8896, Test F1: 0.7967\n",
      "Epoch [390/500], Loss: 0.0817, Train Accuracy: 0.9696, Train F1: 0.9553, Test Accuracy: 0.8857, Test F1: 0.7862\n",
      "Epoch [400/500], Loss: 0.0861, Train Accuracy: 0.9668, Train F1: 0.9504, Test Accuracy: 0.8915, Test F1: 0.8040\n",
      "Epoch [410/500], Loss: 0.0835, Train Accuracy: 0.9676, Train F1: 0.9529, Test Accuracy: 0.8912, Test F1: 0.8018\n",
      "Epoch [420/500], Loss: 0.0806, Train Accuracy: 0.9697, Train F1: 0.9554, Test Accuracy: 0.8806, Test F1: 0.7670\n",
      "Epoch [430/500], Loss: 0.0898, Train Accuracy: 0.9621, Train F1: 0.9430, Test Accuracy: 0.8938, Test F1: 0.8083\n",
      "Epoch [440/500], Loss: 0.0773, Train Accuracy: 0.9704, Train F1: 0.9563, Test Accuracy: 0.8896, Test F1: 0.7986\n",
      "Epoch [450/500], Loss: 0.0746, Train Accuracy: 0.9715, Train F1: 0.9579, Test Accuracy: 0.8890, Test F1: 0.7925\n",
      "Epoch [460/500], Loss: 0.0704, Train Accuracy: 0.9729, Train F1: 0.9600, Test Accuracy: 0.8915, Test F1: 0.7981\n",
      "Epoch [470/500], Loss: 0.0731, Train Accuracy: 0.9707, Train F1: 0.9567, Test Accuracy: 0.8929, Test F1: 0.8035\n",
      "Epoch [480/500], Loss: 0.0698, Train Accuracy: 0.9721, Train F1: 0.9588, Test Accuracy: 0.8871, Test F1: 0.7867\n",
      "Epoch [490/500], Loss: 0.0696, Train Accuracy: 0.9725, Train F1: 0.9595, Test Accuracy: 0.8924, Test F1: 0.7979\n",
      "Epoch [500/500], Loss: 0.0690, Train Accuracy: 0.9722, Train F1: 0.9591, Test Accuracy: 0.8904, Test F1: 0.7941\n"
     ]
    },
    {
     "name": "stderr",
     "output_type": "stream",
     "text": [
      "100%|██████████| 1384/1384 [08:34<00:00,  2.69it/s]\n"
     ]
    },
    {
     "name": "stdout",
     "output_type": "stream",
     "text": [
      "Original positives: 6599, Pseudo positives: 1634\n"
     ]
    },
    {
     "name": "stderr",
     "output_type": "stream",
     "text": [
      "INFO:ncf.dataset:Indexing C:\\Users\\achiq\\PycharmProjects\\bachelor-project-prerequisite-learning\\data/pseudo/akd_united_pseudo_data_fixed_3_0.csv ...\n"
     ]
    },
    {
     "name": "stdout",
     "output_type": "stream",
     "text": [
      "C:\\Users\\achiq\\PycharmProjects\\bachelor-project-prerequisite-learning\\data/pseudo/akd_united_pseudo_data_fixed_3_0.csv\n"
     ]
    },
    {
     "name": "stderr",
     "output_type": "stream",
     "text": [
      "INFO:ncf.ncf:Epoch 20 [1.75s]: train_loss = 0.039793 \n"
     ]
    },
    {
     "name": "stdout",
     "output_type": "stream",
     "text": [
      "              precision    recall  f1-score   support\n",
      "\n",
      "           0       0.85      0.98      0.91      2652\n",
      "           1       0.92      0.56      0.69      1064\n",
      "\n",
      "    accuracy                           0.86      3716\n",
      "   macro avg       0.88      0.77      0.80      3716\n",
      "weighted avg       0.87      0.86      0.85      3716\n",
      "\n",
      "C:\\Users\\achiq\\PycharmProjects\\bachelor-project-prerequisite-learning\\data/pseudo/akd_united_pseudo_data_fixed_3_1.csv\n",
      "\n",
      "##################################################\n",
      "Iteration 4\n",
      "##################################################\n",
      "\n",
      "x_train shape: torch.Size([22826, 2048])\n",
      "y_train shape: torch.Size([22826])\n",
      "x_test shape: torch.Size([3577, 2048])\n",
      "y_test shape: torch.Size([3577])\n",
      "Epoch [10/500], Loss: 0.6169, Train Accuracy: 0.6394, Train F1: 0.0007, Test Accuracy: 0.7157, Test F1: 0.0000\n",
      "Epoch [20/500], Loss: 0.5200, Train Accuracy: 0.8055, Train F1: 0.6612, Test Accuracy: 0.7422, Test F1: 0.3516\n",
      "Epoch [30/500], Loss: 0.4406, Train Accuracy: 0.8179, Train F1: 0.7008, Test Accuracy: 0.7450, Test F1: 0.2621\n",
      "Epoch [40/500], Loss: 0.3762, Train Accuracy: 0.8424, Train F1: 0.7468, Test Accuracy: 0.7702, Test F1: 0.4438\n",
      "Epoch [50/500], Loss: 0.3355, Train Accuracy: 0.8620, Train F1: 0.7864, Test Accuracy: 0.7892, Test F1: 0.5264\n",
      "Epoch [60/500], Loss: 0.3110, Train Accuracy: 0.8696, Train F1: 0.7996, Test Accuracy: 0.7965, Test F1: 0.5620\n",
      "Epoch [70/500], Loss: 0.2903, Train Accuracy: 0.8783, Train F1: 0.8126, Test Accuracy: 0.8079, Test F1: 0.6031\n",
      "Epoch [80/500], Loss: 0.2724, Train Accuracy: 0.8857, Train F1: 0.8283, Test Accuracy: 0.8110, Test F1: 0.6142\n",
      "Epoch [90/500], Loss: 0.2554, Train Accuracy: 0.8945, Train F1: 0.8430, Test Accuracy: 0.8194, Test F1: 0.6359\n",
      "Epoch [100/500], Loss: 0.2413, Train Accuracy: 0.9019, Train F1: 0.8555, Test Accuracy: 0.8264, Test F1: 0.6579\n",
      "Epoch [110/500], Loss: 0.2296, Train Accuracy: 0.9058, Train F1: 0.8602, Test Accuracy: 0.8325, Test F1: 0.6872\n",
      "Epoch [120/500], Loss: 0.2201, Train Accuracy: 0.9108, Train F1: 0.8684, Test Accuracy: 0.8387, Test F1: 0.7076\n",
      "Epoch [130/500], Loss: 0.2061, Train Accuracy: 0.9170, Train F1: 0.8801, Test Accuracy: 0.8471, Test F1: 0.7070\n",
      "Epoch [140/500], Loss: 0.1958, Train Accuracy: 0.9221, Train F1: 0.8878, Test Accuracy: 0.8510, Test F1: 0.7243\n",
      "Epoch [150/500], Loss: 0.1858, Train Accuracy: 0.9264, Train F1: 0.8945, Test Accuracy: 0.8552, Test F1: 0.7338\n",
      "Epoch [160/500], Loss: 0.1777, Train Accuracy: 0.9287, Train F1: 0.8984, Test Accuracy: 0.8569, Test F1: 0.7396\n",
      "Epoch [170/500], Loss: 0.1699, Train Accuracy: 0.9325, Train F1: 0.9065, Test Accuracy: 0.8585, Test F1: 0.7429\n",
      "Epoch [180/500], Loss: 0.1624, Train Accuracy: 0.9363, Train F1: 0.9087, Test Accuracy: 0.8630, Test F1: 0.7557\n",
      "Epoch [190/500], Loss: 0.1547, Train Accuracy: 0.9393, Train F1: 0.9149, Test Accuracy: 0.8636, Test F1: 0.7520\n",
      "Epoch [200/500], Loss: 0.1477, Train Accuracy: 0.9428, Train F1: 0.9190, Test Accuracy: 0.8680, Test F1: 0.7656\n",
      "Epoch [210/500], Loss: 0.1427, Train Accuracy: 0.9457, Train F1: 0.9243, Test Accuracy: 0.8683, Test F1: 0.7615\n",
      "Epoch [220/500], Loss: 0.1348, Train Accuracy: 0.9478, Train F1: 0.9280, Test Accuracy: 0.8680, Test F1: 0.7534\n",
      "Epoch [230/500], Loss: 0.1300, Train Accuracy: 0.9507, Train F1: 0.9311, Test Accuracy: 0.8762, Test F1: 0.7750\n",
      "Epoch [240/500], Loss: 0.1278, Train Accuracy: 0.9513, Train F1: 0.9316, Test Accuracy: 0.8815, Test F1: 0.7884\n",
      "Epoch [250/500], Loss: 0.1213, Train Accuracy: 0.9543, Train F1: 0.9367, Test Accuracy: 0.8764, Test F1: 0.7698\n",
      "Epoch [260/500], Loss: 0.1239, Train Accuracy: 0.9520, Train F1: 0.9320, Test Accuracy: 0.8809, Test F1: 0.7868\n",
      "Epoch [270/500], Loss: 0.1122, Train Accuracy: 0.9570, Train F1: 0.9402, Test Accuracy: 0.8798, Test F1: 0.7786\n",
      "Epoch [280/500], Loss: 0.1087, Train Accuracy: 0.9581, Train F1: 0.9424, Test Accuracy: 0.8817, Test F1: 0.7832\n",
      "Epoch [290/500], Loss: 0.1045, Train Accuracy: 0.9606, Train F1: 0.9449, Test Accuracy: 0.8879, Test F1: 0.8014\n",
      "Epoch [300/500], Loss: 0.0991, Train Accuracy: 0.9636, Train F1: 0.9497, Test Accuracy: 0.8826, Test F1: 0.7819\n",
      "Epoch [310/500], Loss: 0.0992, Train Accuracy: 0.9624, Train F1: 0.9484, Test Accuracy: 0.8859, Test F1: 0.7910\n",
      "Epoch [320/500], Loss: 0.0957, Train Accuracy: 0.9652, Train F1: 0.9516, Test Accuracy: 0.8899, Test F1: 0.8044\n",
      "Epoch [330/500], Loss: 0.0908, Train Accuracy: 0.9671, Train F1: 0.9543, Test Accuracy: 0.8851, Test F1: 0.7865\n",
      "Epoch [340/500], Loss: 0.0886, Train Accuracy: 0.9660, Train F1: 0.9534, Test Accuracy: 0.8851, Test F1: 0.7887\n",
      "Epoch [350/500], Loss: 0.0859, Train Accuracy: 0.9666, Train F1: 0.9538, Test Accuracy: 0.8879, Test F1: 0.7978\n",
      "Epoch [360/500], Loss: 0.0856, Train Accuracy: 0.9679, Train F1: 0.9555, Test Accuracy: 0.8857, Test F1: 0.7893\n",
      "Epoch [370/500], Loss: 0.0856, Train Accuracy: 0.9669, Train F1: 0.9539, Test Accuracy: 0.8904, Test F1: 0.8032\n",
      "Epoch [380/500], Loss: 0.0826, Train Accuracy: 0.9686, Train F1: 0.9563, Test Accuracy: 0.8882, Test F1: 0.7953\n",
      "Epoch [390/500], Loss: 0.0811, Train Accuracy: 0.9700, Train F1: 0.9589, Test Accuracy: 0.8876, Test F1: 0.7917\n",
      "Epoch [400/500], Loss: 0.0807, Train Accuracy: 0.9691, Train F1: 0.9571, Test Accuracy: 0.8879, Test F1: 0.7917\n",
      "Epoch [410/500], Loss: 0.0760, Train Accuracy: 0.9706, Train F1: 0.9596, Test Accuracy: 0.8868, Test F1: 0.7905\n",
      "Epoch [420/500], Loss: 0.0757, Train Accuracy: 0.9713, Train F1: 0.9602, Test Accuracy: 0.8904, Test F1: 0.7981\n",
      "Epoch [430/500], Loss: 0.0731, Train Accuracy: 0.9717, Train F1: 0.9607, Test Accuracy: 0.8943, Test F1: 0.8069\n",
      "Epoch [440/500], Loss: 0.0710, Train Accuracy: 0.9723, Train F1: 0.9618, Test Accuracy: 0.8882, Test F1: 0.7936\n",
      "Epoch [450/500], Loss: 0.0683, Train Accuracy: 0.9744, Train F1: 0.9645, Test Accuracy: 0.8887, Test F1: 0.7931\n",
      "Epoch [460/500], Loss: 0.0670, Train Accuracy: 0.9751, Train F1: 0.9656, Test Accuracy: 0.8882, Test F1: 0.7923\n",
      "Epoch [470/500], Loss: 0.0673, Train Accuracy: 0.9737, Train F1: 0.9635, Test Accuracy: 0.8899, Test F1: 0.7971\n",
      "Epoch [480/500], Loss: 0.0649, Train Accuracy: 0.9748, Train F1: 0.9651, Test Accuracy: 0.8899, Test F1: 0.7986\n",
      "Epoch [490/500], Loss: 0.0656, Train Accuracy: 0.9739, Train F1: 0.9637, Test Accuracy: 0.8887, Test F1: 0.7969\n",
      "Epoch [500/500], Loss: 0.0647, Train Accuracy: 0.9737, Train F1: 0.9636, Test Accuracy: 0.8901, Test F1: 0.7954\n"
     ]
    },
    {
     "name": "stderr",
     "output_type": "stream",
     "text": [
      "100%|██████████| 1384/1384 [09:09<00:00,  2.52it/s]\n"
     ]
    },
    {
     "name": "stdout",
     "output_type": "stream",
     "text": [
      "Original positives: 8233, Pseudo positives: 2008\n"
     ]
    },
    {
     "name": "stderr",
     "output_type": "stream",
     "text": [
      "INFO:ncf.dataset:Indexing C:\\Users\\achiq\\PycharmProjects\\bachelor-project-prerequisite-learning\\data/pseudo/akd_united_pseudo_data_fixed_4_0.csv ...\n"
     ]
    },
    {
     "name": "stdout",
     "output_type": "stream",
     "text": [
      "C:\\Users\\achiq\\PycharmProjects\\bachelor-project-prerequisite-learning\\data/pseudo/akd_united_pseudo_data_fixed_4_0.csv\n"
     ]
    },
    {
     "name": "stderr",
     "output_type": "stream",
     "text": [
      "INFO:ncf.ncf:Epoch 20 [2.10s]: train_loss = 0.036068 \n"
     ]
    },
    {
     "name": "stdout",
     "output_type": "stream",
     "text": [
      "              precision    recall  f1-score   support\n",
      "\n",
      "           0       0.83      0.98      0.90      2652\n",
      "           1       0.93      0.50      0.65      1064\n",
      "\n",
      "    accuracy                           0.85      3716\n",
      "   macro avg       0.88      0.74      0.78      3716\n",
      "weighted avg       0.86      0.85      0.83      3716\n",
      "\n",
      "C:\\Users\\achiq\\PycharmProjects\\bachelor-project-prerequisite-learning\\data/pseudo/akd_united_pseudo_data_fixed_4_1.csv\n"
     ]
    }
   ],
   "execution_count": 5
  },
  {
   "metadata": {
    "ExecuteTime": {
     "end_time": "2024-07-24T18:30:02.271019Z",
     "start_time": "2024-07-24T18:29:34.463795Z"
    }
   },
   "cell_type": "code",
   "source": [
    "device = torch.device('cuda' if torch.cuda.is_available() else 'cpu')\n",
    "cbl = ContentBasedLearning(input_size=2048, device=device)\n",
    "\n",
    "x_train, y_train, x_test, y_test = cbl.create_train_test_dataset(train_file=train_path, test_file=test_file)\n",
    "\n",
    "cbl.train_model(x_train=x_train, y_train=y_train, x_test=x_test, y_test=y_test, num_epochs=500)"
   ],
   "id": "96b65db3251d3b2e",
   "outputs": [
    {
     "name": "stdout",
     "output_type": "stream",
     "text": [
      "x_train shape: torch.Size([26842, 2048])\n",
      "y_train shape: torch.Size([26842])\n",
      "x_test shape: torch.Size([3577, 2048])\n",
      "y_test shape: torch.Size([3577])\n",
      "Epoch [10/500], Loss: 0.5851, Train Accuracy: 0.6746, Train F1: 0.2737, Test Accuracy: 0.7417, Test F1: 0.2364\n",
      "Epoch [20/500], Loss: 0.4653, Train Accuracy: 0.8322, Train F1: 0.7623, Test Accuracy: 0.7358, Test F1: 0.4090\n",
      "Epoch [30/500], Loss: 0.3791, Train Accuracy: 0.8377, Train F1: 0.7691, Test Accuracy: 0.7571, Test F1: 0.3859\n",
      "Epoch [40/500], Loss: 0.3201, Train Accuracy: 0.8730, Train F1: 0.8149, Test Accuracy: 0.7755, Test F1: 0.4902\n",
      "Epoch [50/500], Loss: 0.2901, Train Accuracy: 0.8797, Train F1: 0.8295, Test Accuracy: 0.7881, Test F1: 0.5298\n",
      "Epoch [60/500], Loss: 0.2667, Train Accuracy: 0.8907, Train F1: 0.8448, Test Accuracy: 0.8010, Test F1: 0.5767\n",
      "Epoch [70/500], Loss: 0.2469, Train Accuracy: 0.8983, Train F1: 0.8569, Test Accuracy: 0.8099, Test F1: 0.6083\n",
      "Epoch [80/500], Loss: 0.2320, Train Accuracy: 0.9041, Train F1: 0.8663, Test Accuracy: 0.8155, Test F1: 0.6167\n",
      "Epoch [90/500], Loss: 0.2176, Train Accuracy: 0.9103, Train F1: 0.8761, Test Accuracy: 0.8191, Test F1: 0.6416\n",
      "Epoch [100/500], Loss: 0.2066, Train Accuracy: 0.9160, Train F1: 0.8841, Test Accuracy: 0.8253, Test F1: 0.6642\n",
      "Epoch [110/500], Loss: 0.1970, Train Accuracy: 0.9203, Train F1: 0.8929, Test Accuracy: 0.8334, Test F1: 0.6648\n",
      "Epoch [120/500], Loss: 0.1864, Train Accuracy: 0.9233, Train F1: 0.8946, Test Accuracy: 0.8423, Test F1: 0.7053\n",
      "Epoch [130/500], Loss: 0.1753, Train Accuracy: 0.9290, Train F1: 0.9031, Test Accuracy: 0.8454, Test F1: 0.7194\n",
      "Epoch [140/500], Loss: 0.1648, Train Accuracy: 0.9337, Train F1: 0.9108, Test Accuracy: 0.8490, Test F1: 0.7214\n",
      "Epoch [150/500], Loss: 0.1582, Train Accuracy: 0.9356, Train F1: 0.9150, Test Accuracy: 0.8563, Test F1: 0.7231\n",
      "Epoch [160/500], Loss: 0.1518, Train Accuracy: 0.9393, Train F1: 0.9196, Test Accuracy: 0.8580, Test F1: 0.7263\n",
      "Epoch [170/500], Loss: 0.1434, Train Accuracy: 0.9412, Train F1: 0.9226, Test Accuracy: 0.8594, Test F1: 0.7354\n",
      "Epoch [180/500], Loss: 0.1371, Train Accuracy: 0.9470, Train F1: 0.9295, Test Accuracy: 0.8625, Test F1: 0.7429\n",
      "Epoch [190/500], Loss: 0.1309, Train Accuracy: 0.9485, Train F1: 0.9328, Test Accuracy: 0.8633, Test F1: 0.7384\n",
      "Epoch [200/500], Loss: 0.1241, Train Accuracy: 0.9505, Train F1: 0.9353, Test Accuracy: 0.8633, Test F1: 0.7417\n",
      "Epoch [210/500], Loss: 0.1181, Train Accuracy: 0.9547, Train F1: 0.9406, Test Accuracy: 0.8661, Test F1: 0.7522\n",
      "Epoch [220/500], Loss: 0.1142, Train Accuracy: 0.9564, Train F1: 0.9427, Test Accuracy: 0.8686, Test F1: 0.7595\n",
      "Epoch [230/500], Loss: 0.1075, Train Accuracy: 0.9587, Train F1: 0.9458, Test Accuracy: 0.8717, Test F1: 0.7623\n",
      "Epoch [240/500], Loss: 0.1059, Train Accuracy: 0.9592, Train F1: 0.9462, Test Accuracy: 0.8750, Test F1: 0.7748\n",
      "Epoch [250/500], Loss: 0.1025, Train Accuracy: 0.9613, Train F1: 0.9492, Test Accuracy: 0.8817, Test F1: 0.7882\n",
      "Epoch [260/500], Loss: 0.0960, Train Accuracy: 0.9642, Train F1: 0.9536, Test Accuracy: 0.8759, Test F1: 0.7685\n",
      "Epoch [270/500], Loss: 0.0940, Train Accuracy: 0.9638, Train F1: 0.9520, Test Accuracy: 0.8792, Test F1: 0.7866\n",
      "Epoch [280/500], Loss: 0.0901, Train Accuracy: 0.9654, Train F1: 0.9544, Test Accuracy: 0.8798, Test F1: 0.7846\n",
      "Epoch [290/500], Loss: 0.0891, Train Accuracy: 0.9656, Train F1: 0.9549, Test Accuracy: 0.8834, Test F1: 0.7908\n",
      "Epoch [300/500], Loss: 0.0858, Train Accuracy: 0.9671, Train F1: 0.9571, Test Accuracy: 0.8823, Test F1: 0.7829\n",
      "Epoch [310/500], Loss: 0.0829, Train Accuracy: 0.9687, Train F1: 0.9589, Test Accuracy: 0.8859, Test F1: 0.7972\n",
      "Epoch [320/500], Loss: 0.0795, Train Accuracy: 0.9692, Train F1: 0.9599, Test Accuracy: 0.8831, Test F1: 0.7848\n",
      "Epoch [330/500], Loss: 0.0771, Train Accuracy: 0.9705, Train F1: 0.9613, Test Accuracy: 0.8848, Test F1: 0.7896\n",
      "Epoch [340/500], Loss: 0.0737, Train Accuracy: 0.9727, Train F1: 0.9642, Test Accuracy: 0.8845, Test F1: 0.7879\n",
      "Epoch [350/500], Loss: 0.0745, Train Accuracy: 0.9719, Train F1: 0.9632, Test Accuracy: 0.8862, Test F1: 0.7910\n",
      "Epoch [360/500], Loss: 0.0733, Train Accuracy: 0.9717, Train F1: 0.9628, Test Accuracy: 0.8890, Test F1: 0.8041\n",
      "Epoch [370/500], Loss: 0.0703, Train Accuracy: 0.9720, Train F1: 0.9635, Test Accuracy: 0.8885, Test F1: 0.7996\n",
      "Epoch [380/500], Loss: 0.0671, Train Accuracy: 0.9746, Train F1: 0.9667, Test Accuracy: 0.8882, Test F1: 0.8026\n",
      "Epoch [390/500], Loss: 0.0678, Train Accuracy: 0.9730, Train F1: 0.9644, Test Accuracy: 0.8901, Test F1: 0.8026\n",
      "Epoch [400/500], Loss: 0.0652, Train Accuracy: 0.9752, Train F1: 0.9676, Test Accuracy: 0.8885, Test F1: 0.7967\n",
      "Epoch [410/500], Loss: 0.0620, Train Accuracy: 0.9764, Train F1: 0.9691, Test Accuracy: 0.8882, Test F1: 0.7953\n",
      "Epoch [420/500], Loss: 0.0632, Train Accuracy: 0.9752, Train F1: 0.9676, Test Accuracy: 0.8859, Test F1: 0.7888\n",
      "Epoch [430/500], Loss: 0.0615, Train Accuracy: 0.9772, Train F1: 0.9702, Test Accuracy: 0.8873, Test F1: 0.7919\n",
      "Epoch [440/500], Loss: 0.0598, Train Accuracy: 0.9773, Train F1: 0.9703, Test Accuracy: 0.8907, Test F1: 0.7994\n",
      "Epoch [450/500], Loss: 0.0606, Train Accuracy: 0.9763, Train F1: 0.9689, Test Accuracy: 0.8890, Test F1: 0.7967\n",
      "Epoch [460/500], Loss: 0.0583, Train Accuracy: 0.9775, Train F1: 0.9705, Test Accuracy: 0.8904, Test F1: 0.8020\n",
      "Epoch [470/500], Loss: 0.0565, Train Accuracy: 0.9785, Train F1: 0.9719, Test Accuracy: 0.8910, Test F1: 0.7979\n",
      "Epoch [480/500], Loss: 0.0558, Train Accuracy: 0.9778, Train F1: 0.9711, Test Accuracy: 0.8887, Test F1: 0.7946\n",
      "Epoch [490/500], Loss: 0.0559, Train Accuracy: 0.9773, Train F1: 0.9703, Test Accuracy: 0.8890, Test F1: 0.7946\n",
      "Epoch [500/500], Loss: 0.0556, Train Accuracy: 0.9790, Train F1: 0.9724, Test Accuracy: 0.8887, Test F1: 0.7978\n"
     ]
    }
   ],
   "execution_count": 6
  },
  {
   "metadata": {
    "ExecuteTime": {
     "end_time": "2024-07-24T18:32:13.159316Z",
     "start_time": "2024-07-24T18:32:13.146334Z"
    }
   },
   "cell_type": "code",
   "source": "torch.save(cbl.model.state_dict(), os.path.join(PATH, r'models/model_final.pt'))",
   "id": "a227345be7221568",
   "outputs": [],
   "execution_count": 8
  },
  {
   "metadata": {
    "ExecuteTime": {
     "end_time": "2024-07-24T18:32:16.974488Z",
     "start_time": "2024-07-24T18:32:16.964828Z"
    }
   },
   "cell_type": "code",
   "source": "torch.save(cbl.model.state_dict(), os.path.join(PATH, r'server/model/model_final.pt'))",
   "id": "fc928017eda00b1a",
   "outputs": [],
   "execution_count": 9
  },
  {
   "metadata": {},
   "cell_type": "code",
   "outputs": [],
   "execution_count": null,
   "source": "",
   "id": "cecb9a57f270865"
  }
 ],
 "metadata": {
  "kernelspec": {
   "display_name": "Python 3",
   "language": "python",
   "name": "python3"
  },
  "language_info": {
   "codemirror_mode": {
    "name": "ipython",
    "version": 2
   },
   "file_extension": ".py",
   "mimetype": "text/x-python",
   "name": "python",
   "nbconvert_exporter": "python",
   "pygments_lexer": "ipython2",
   "version": "2.7.6"
  }
 },
 "nbformat": 4,
 "nbformat_minor": 5
}
