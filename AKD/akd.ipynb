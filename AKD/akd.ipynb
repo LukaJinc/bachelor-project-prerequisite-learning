{
 "cells": [
  {
   "cell_type": "code",
   "id": "initial_id",
   "metadata": {
    "collapsed": true,
    "ExecuteTime": {
     "end_time": "2024-07-21T15:16:57.873051Z",
     "start_time": "2024-07-21T15:16:57.868752Z"
    }
   },
   "source": [
    "import torch\n",
    "\n",
    "import pandas as pd\n",
    "\n",
    "from ContentBasedLearning import ContentBasedLearning\n",
    "from GraphBasedLearning import GraphBasedLearning\n",
    "\n",
    "from config import train_file, test_file, PATH\n",
    "\n",
    "from sklearn.metrics import recall_score, precision_score, f1_score, classification_report"
   ],
   "outputs": [],
   "execution_count": 2
  },
  {
   "metadata": {},
   "cell_type": "markdown",
   "source": "# AKD\n",
   "id": "5e41746a951e3646"
  },
  {
   "metadata": {
    "ExecuteTime": {
     "end_time": "2024-07-21T14:28:07.099384Z",
     "start_time": "2024-07-21T14:28:07.093510Z"
    }
   },
   "cell_type": "code",
   "source": [
    "def unite_pseudo_data(path, pseudo_data, i, n):\n",
    "    train = pd.read_csv(path)\n",
    "    \n",
    "    new_train = pd.concat([train, pseudo_data], axis=0).sort_values(by=['conceptA'])\n",
    "    \n",
    "    new_train[['conceptA', 'conceptB']] = new_train[['conceptA', 'conceptB']].astype(int)\n",
    "    \n",
    "    path_to_write = PATH + f'akd_united_pseudo_data_fixed_{i}_{n}.csv'\n",
    "    \n",
    "    new_train.to_csv(path_to_write, index=False)\n",
    "    \n",
    "    return path_to_write, new_train['isPrerequisite'].mean()"
   ],
   "id": "6a9dfe0bd1a323b8",
   "outputs": [],
   "execution_count": 2
  },
  {
   "metadata": {
    "ExecuteTime": {
     "start_time": "2024-07-21T14:28:07.101383Z"
    }
   },
   "cell_type": "code",
   "source": [
    "train_path = train_file\n",
    "\n",
    "i = 1\n",
    "\n",
    "device = torch.device('cuda' if torch.cuda.is_available() else 'cpu')\n",
    "cbl = ContentBasedLearning(input_size=2048, device=device)\n",
    "\n",
    "x_train, y_train, x_test, y_test = cbl.create_train_test_dataset(train_file=train_path, test_file=test_file)\n",
    "\n",
    "cbl.train_model(x_train=x_train, y_train=y_train, x_test=x_test, y_test=y_test, num_epochs=500)\n",
    "\n",
    "pseudo_nn = cbl.generate_pseudo_data(train_file=train_path)\n",
    "\n",
    "train_path, threshold = unite_pseudo_data(train_path, pseudo_nn, i, 0)\n",
    "\n",
    "print(train_path)\n",
    "\n",
    "gbl = GraphBasedLearning('conceptA', 'conceptB')\n",
    "\n",
    "gbl.train(train_path)\n",
    "\n",
    "pred = gbl.predict(threshold)       \n",
    "df_test = pred[pred['_split_set'] == 'test']\n",
    "print(classification_report(df_test['isPrerequisite'], df_test['pred']))\n",
    "\n",
    "pseudo_ncf = gbl.generate_pseudo_data(train_path)\n",
    "\n",
    "train_path, _ = unite_pseudo_data(train_path, pseudo_nn, i, 1)\n",
    "\n",
    "print(train_path)\n",
    "    "
   ],
   "id": "7bbd245aac3c108c",
   "outputs": [
    {
     "name": "stdout",
     "output_type": "stream",
     "text": [
      "x_train shape: torch.Size([14958, 2048])\n",
      "y_train shape: torch.Size([14958])\n",
      "x_test shape: torch.Size([3620, 2048])\n",
      "y_test shape: torch.Size([3620])\n",
      "Epoch [10/500], Loss: 0.6010, Train Accuracy: 0.7126, Train F1: 0.0000, Test Accuracy: 0.7152, Test F1: 0.0000\n",
      "Epoch [20/500], Loss: 0.5920, Train Accuracy: 0.7126, Train F1: 0.0000, Test Accuracy: 0.7152, Test F1: 0.0000\n",
      "Epoch [30/500], Loss: 0.5719, Train Accuracy: 0.7126, Train F1: 0.0000, Test Accuracy: 0.7152, Test F1: 0.0000\n",
      "Epoch [40/500], Loss: 0.5346, Train Accuracy: 0.7126, Train F1: 0.0000, Test Accuracy: 0.7152, Test F1: 0.0000\n",
      "Epoch [50/500], Loss: 0.4925, Train Accuracy: 0.7168, Train F1: 0.0368, Test Accuracy: 0.7152, Test F1: 0.0000\n",
      "Epoch [60/500], Loss: 0.4556, Train Accuracy: 0.7511, Train F1: 0.2979, Test Accuracy: 0.7829, Test F1: 0.4449\n",
      "Epoch [70/500], Loss: 0.4307, Train Accuracy: 0.7829, Train F1: 0.4861, Test Accuracy: 0.8215, Test F1: 0.6266\n",
      "Epoch [80/500], Loss: 0.4045, Train Accuracy: 0.8188, Train F1: 0.6325, Test Accuracy: 0.8287, Test F1: 0.6552\n",
      "Epoch [90/500], Loss: 0.3792, Train Accuracy: 0.8378, Train F1: 0.6938, Test Accuracy: 0.8331, Test F1: 0.6703\n",
      "Epoch [100/500], Loss: 0.3559, Train Accuracy: 0.8527, Train F1: 0.7292, Test Accuracy: 0.8434, Test F1: 0.7002\n",
      "Epoch [110/500], Loss: 0.3387, Train Accuracy: 0.8581, Train F1: 0.7365, Test Accuracy: 0.8470, Test F1: 0.7202\n",
      "Epoch [120/500], Loss: 0.3226, Train Accuracy: 0.8666, Train F1: 0.7541, Test Accuracy: 0.8475, Test F1: 0.7320\n",
      "Epoch [130/500], Loss: 0.3038, Train Accuracy: 0.8765, Train F1: 0.7753, Test Accuracy: 0.8508, Test F1: 0.7404\n",
      "Epoch [140/500], Loss: 0.2887, Train Accuracy: 0.8846, Train F1: 0.7889, Test Accuracy: 0.8572, Test F1: 0.7419\n",
      "Epoch [150/500], Loss: 0.2749, Train Accuracy: 0.8902, Train F1: 0.8104, Test Accuracy: 0.8644, Test F1: 0.7476\n",
      "Epoch [160/500], Loss: 0.2596, Train Accuracy: 0.8989, Train F1: 0.8273, Test Accuracy: 0.8669, Test F1: 0.7548\n",
      "Epoch [170/500], Loss: 0.2467, Train Accuracy: 0.9055, Train F1: 0.8397, Test Accuracy: 0.8691, Test F1: 0.7562\n",
      "Epoch [180/500], Loss: 0.2338, Train Accuracy: 0.9105, Train F1: 0.8478, Test Accuracy: 0.8735, Test F1: 0.7644\n",
      "Epoch [190/500], Loss: 0.2239, Train Accuracy: 0.9136, Train F1: 0.8504, Test Accuracy: 0.8754, Test F1: 0.7691\n",
      "Epoch [200/500], Loss: 0.2132, Train Accuracy: 0.9200, Train F1: 0.8592, Test Accuracy: 0.8801, Test F1: 0.7839\n",
      "Epoch [210/500], Loss: 0.2024, Train Accuracy: 0.9242, Train F1: 0.8684, Test Accuracy: 0.8829, Test F1: 0.7911\n",
      "Epoch [220/500], Loss: 0.1916, Train Accuracy: 0.9283, Train F1: 0.8753, Test Accuracy: 0.8862, Test F1: 0.7950\n",
      "Epoch [230/500], Loss: 0.1893, Train Accuracy: 0.9286, Train F1: 0.8766, Test Accuracy: 0.8901, Test F1: 0.7998\n",
      "Epoch [240/500], Loss: 0.1823, Train Accuracy: 0.9310, Train F1: 0.8788, Test Accuracy: 0.8887, Test F1: 0.8014\n",
      "Epoch [250/500], Loss: 0.1788, Train Accuracy: 0.9319, Train F1: 0.8843, Test Accuracy: 0.8906, Test F1: 0.7975\n",
      "Epoch [260/500], Loss: 0.1680, Train Accuracy: 0.9375, Train F1: 0.8918, Test Accuracy: 0.8920, Test F1: 0.8008\n",
      "Epoch [270/500], Loss: 0.1611, Train Accuracy: 0.9392, Train F1: 0.8940, Test Accuracy: 0.8959, Test F1: 0.8108\n",
      "Epoch [280/500], Loss: 0.1546, Train Accuracy: 0.9423, Train F1: 0.9009, Test Accuracy: 0.8978, Test F1: 0.8135\n",
      "Epoch [290/500], Loss: 0.1495, Train Accuracy: 0.9440, Train F1: 0.9030, Test Accuracy: 0.8978, Test F1: 0.8152\n",
      "Epoch [300/500], Loss: 0.1483, Train Accuracy: 0.9436, Train F1: 0.9028, Test Accuracy: 0.8964, Test F1: 0.8109\n",
      "Epoch [310/500], Loss: 0.1464, Train Accuracy: 0.9445, Train F1: 0.9062, Test Accuracy: 0.8975, Test F1: 0.8118\n",
      "Epoch [320/500], Loss: 0.1374, Train Accuracy: 0.9496, Train F1: 0.9124, Test Accuracy: 0.9000, Test F1: 0.8185\n",
      "Epoch [330/500], Loss: 0.1374, Train Accuracy: 0.9473, Train F1: 0.9082, Test Accuracy: 0.8964, Test F1: 0.8120\n",
      "Epoch [340/500], Loss: 0.1322, Train Accuracy: 0.9496, Train F1: 0.9136, Test Accuracy: 0.8959, Test F1: 0.8093\n",
      "Epoch [350/500], Loss: 0.1330, Train Accuracy: 0.9484, Train F1: 0.9117, Test Accuracy: 0.8956, Test F1: 0.8085\n",
      "Epoch [360/500], Loss: 0.1231, Train Accuracy: 0.9546, Train F1: 0.9213, Test Accuracy: 0.8986, Test F1: 0.8142\n",
      "Epoch [370/500], Loss: 0.1243, Train Accuracy: 0.9534, Train F1: 0.9202, Test Accuracy: 0.9000, Test F1: 0.8162\n",
      "Epoch [380/500], Loss: 0.1214, Train Accuracy: 0.9542, Train F1: 0.9213, Test Accuracy: 0.8994, Test F1: 0.8145\n",
      "Epoch [390/500], Loss: 0.1190, Train Accuracy: 0.9549, Train F1: 0.9226, Test Accuracy: 0.8986, Test F1: 0.8134\n",
      "Epoch [400/500], Loss: 0.1134, Train Accuracy: 0.9579, Train F1: 0.9274, Test Accuracy: 0.8992, Test F1: 0.8098\n",
      "Epoch [410/500], Loss: 0.1220, Train Accuracy: 0.9527, Train F1: 0.9162, Test Accuracy: 0.8986, Test F1: 0.8197\n",
      "Epoch [420/500], Loss: 0.1112, Train Accuracy: 0.9592, Train F1: 0.9299, Test Accuracy: 0.8986, Test F1: 0.8123\n",
      "Epoch [430/500], Loss: 0.1078, Train Accuracy: 0.9592, Train F1: 0.9291, Test Accuracy: 0.9006, Test F1: 0.8167\n",
      "Epoch [440/500], Loss: 0.1079, Train Accuracy: 0.9576, Train F1: 0.9267, Test Accuracy: 0.9030, Test F1: 0.8216\n",
      "Epoch [450/500], Loss: 0.1054, Train Accuracy: 0.9597, Train F1: 0.9298, Test Accuracy: 0.9006, Test F1: 0.8154\n",
      "Epoch [460/500], Loss: 0.1079, Train Accuracy: 0.9563, Train F1: 0.9240, Test Accuracy: 0.9011, Test F1: 0.8186\n",
      "Epoch [470/500], Loss: 0.1032, Train Accuracy: 0.9612, Train F1: 0.9329, Test Accuracy: 0.9022, Test F1: 0.8186\n",
      "Epoch [480/500], Loss: 0.0964, Train Accuracy: 0.9620, Train F1: 0.9340, Test Accuracy: 0.9003, Test F1: 0.8131\n",
      "Epoch [490/500], Loss: 0.0978, Train Accuracy: 0.9622, Train F1: 0.9348, Test Accuracy: 0.8992, Test F1: 0.8094\n",
      "Epoch [500/500], Loss: 0.0924, Train Accuracy: 0.9632, Train F1: 0.9363, Test Accuracy: 0.8983, Test F1: 0.8073\n"
     ]
    },
    {
     "name": "stderr",
     "output_type": "stream",
     "text": [
      " 94%|█████████▎| 1296/1384 [17:22<00:47,  1.85it/s]  "
     ]
    }
   ],
   "execution_count": null
  },
  {
   "metadata": {},
   "cell_type": "code",
   "outputs": [],
   "execution_count": null,
   "source": "",
   "id": "96b65db3251d3b2e"
  },
  {
   "metadata": {},
   "cell_type": "markdown",
   "source": "# Rest Code",
   "id": "5093db002258ca26"
  },
  {
   "metadata": {
    "ExecuteTime": {
     "end_time": "2024-07-21T15:17:04.913567Z",
     "start_time": "2024-07-21T15:17:03.907558Z"
    }
   },
   "cell_type": "code",
   "source": [
    "device = torch.device('cuda' if torch.cuda.is_available() else 'cpu')\n",
    "cbl = ContentBasedLearning(input_size=2048, device=device)"
   ],
   "id": "f2f1e6d3a0fcc4d1",
   "outputs": [],
   "execution_count": 3
  },
  {
   "metadata": {
    "ExecuteTime": {
     "end_time": "2024-07-21T15:17:12.420086Z",
     "start_time": "2024-07-21T15:17:05.641381Z"
    }
   },
   "cell_type": "code",
   "source": "x_train, y_train, x_test, y_test = cbl.create_train_test_dataset(train_file=train_file, test_file=test_file)",
   "id": "8197d843cbe9cf71",
   "outputs": [
    {
     "name": "stdout",
     "output_type": "stream",
     "text": [
      "x_train shape: torch.Size([14958, 2048])\n",
      "y_train shape: torch.Size([14958])\n",
      "x_test shape: torch.Size([3620, 2048])\n",
      "y_test shape: torch.Size([3620])\n"
     ]
    }
   ],
   "execution_count": 4
  },
  {
   "metadata": {
    "ExecuteTime": {
     "end_time": "2024-07-21T15:23:05.845528Z",
     "start_time": "2024-07-21T15:17:26.256446Z"
    }
   },
   "cell_type": "code",
   "source": "cbl.train_model(x_train=x_train, y_train=y_train, x_test=x_test, y_test=y_test, num_epochs=500)",
   "id": "e4d69cb5495e9a29",
   "outputs": [
    {
     "name": "stdout",
     "output_type": "stream",
     "text": [
      "Epoch [10/500], Loss: 0.6011, Train Accuracy: 0.7126, Train F1: 0.0000, Test Accuracy: 0.7152, Test F1: 0.0000\n",
      "Epoch [20/500], Loss: 0.5911, Train Accuracy: 0.7126, Train F1: 0.0000, Test Accuracy: 0.7152, Test F1: 0.0000\n",
      "Epoch [30/500], Loss: 0.5759, Train Accuracy: 0.7126, Train F1: 0.0000, Test Accuracy: 0.7152, Test F1: 0.0000\n",
      "Epoch [40/500], Loss: 0.5452, Train Accuracy: 0.7126, Train F1: 0.0000, Test Accuracy: 0.7152, Test F1: 0.0000\n",
      "Epoch [50/500], Loss: 0.5049, Train Accuracy: 0.7150, Train F1: 0.0171, Test Accuracy: 0.7152, Test F1: 0.0000\n",
      "Epoch [60/500], Loss: 0.4677, Train Accuracy: 0.7319, Train F1: 0.1687, Test Accuracy: 0.7155, Test F1: 0.0019\n",
      "Epoch [70/500], Loss: 0.4364, Train Accuracy: 0.7640, Train F1: 0.3822, Test Accuracy: 0.8069, Test F1: 0.5505\n",
      "Epoch [80/500], Loss: 0.4151, Train Accuracy: 0.8135, Train F1: 0.5980, Test Accuracy: 0.8262, Test F1: 0.6424\n",
      "Epoch [90/500], Loss: 0.3937, Train Accuracy: 0.8377, Train F1: 0.6873, Test Accuracy: 0.8331, Test F1: 0.6678\n",
      "Epoch [100/500], Loss: 0.3733, Train Accuracy: 0.8494, Train F1: 0.7150, Test Accuracy: 0.8376, Test F1: 0.6918\n",
      "Epoch [110/500], Loss: 0.3551, Train Accuracy: 0.8564, Train F1: 0.7328, Test Accuracy: 0.8475, Test F1: 0.7169\n",
      "Epoch [120/500], Loss: 0.3354, Train Accuracy: 0.8642, Train F1: 0.7577, Test Accuracy: 0.8528, Test F1: 0.7243\n",
      "Epoch [130/500], Loss: 0.3163, Train Accuracy: 0.8753, Train F1: 0.7801, Test Accuracy: 0.8569, Test F1: 0.7341\n",
      "Epoch [140/500], Loss: 0.2983, Train Accuracy: 0.8809, Train F1: 0.7919, Test Accuracy: 0.8594, Test F1: 0.7380\n",
      "Epoch [150/500], Loss: 0.2860, Train Accuracy: 0.8910, Train F1: 0.8134, Test Accuracy: 0.8622, Test F1: 0.7429\n",
      "Epoch [160/500], Loss: 0.2690, Train Accuracy: 0.8944, Train F1: 0.8134, Test Accuracy: 0.8652, Test F1: 0.7503\n",
      "Epoch [170/500], Loss: 0.2569, Train Accuracy: 0.9001, Train F1: 0.8275, Test Accuracy: 0.8646, Test F1: 0.7540\n",
      "Epoch [180/500], Loss: 0.2428, Train Accuracy: 0.9079, Train F1: 0.8431, Test Accuracy: 0.8710, Test F1: 0.7609\n",
      "Epoch [190/500], Loss: 0.2358, Train Accuracy: 0.9082, Train F1: 0.8414, Test Accuracy: 0.8718, Test F1: 0.7694\n",
      "Epoch [200/500], Loss: 0.2240, Train Accuracy: 0.9140, Train F1: 0.8478, Test Accuracy: 0.8757, Test F1: 0.7766\n",
      "Epoch [210/500], Loss: 0.2180, Train Accuracy: 0.9174, Train F1: 0.8524, Test Accuracy: 0.8773, Test F1: 0.7853\n",
      "Epoch [220/500], Loss: 0.2030, Train Accuracy: 0.9206, Train F1: 0.8619, Test Accuracy: 0.8787, Test F1: 0.7754\n",
      "Epoch [230/500], Loss: 0.1934, Train Accuracy: 0.9283, Train F1: 0.8756, Test Accuracy: 0.8851, Test F1: 0.7884\n",
      "Epoch [240/500], Loss: 0.1864, Train Accuracy: 0.9303, Train F1: 0.8804, Test Accuracy: 0.8895, Test F1: 0.8004\n",
      "Epoch [250/500], Loss: 0.1731, Train Accuracy: 0.9344, Train F1: 0.8878, Test Accuracy: 0.8909, Test F1: 0.8020\n",
      "Epoch [260/500], Loss: 0.1702, Train Accuracy: 0.9372, Train F1: 0.8919, Test Accuracy: 0.8903, Test F1: 0.7998\n",
      "Epoch [270/500], Loss: 0.1659, Train Accuracy: 0.9369, Train F1: 0.8926, Test Accuracy: 0.8961, Test F1: 0.8082\n",
      "Epoch [280/500], Loss: 0.1638, Train Accuracy: 0.9397, Train F1: 0.8938, Test Accuracy: 0.8914, Test F1: 0.8091\n",
      "Epoch [290/500], Loss: 0.1578, Train Accuracy: 0.9408, Train F1: 0.8983, Test Accuracy: 0.8934, Test F1: 0.8029\n",
      "Epoch [300/500], Loss: 0.1560, Train Accuracy: 0.9398, Train F1: 0.8945, Test Accuracy: 0.8950, Test F1: 0.8134\n",
      "Epoch [310/500], Loss: 0.1507, Train Accuracy: 0.9432, Train F1: 0.9004, Test Accuracy: 0.8956, Test F1: 0.8114\n",
      "Epoch [320/500], Loss: 0.1452, Train Accuracy: 0.9464, Train F1: 0.9064, Test Accuracy: 0.8953, Test F1: 0.8115\n",
      "Epoch [330/500], Loss: 0.1420, Train Accuracy: 0.9478, Train F1: 0.9100, Test Accuracy: 0.8975, Test F1: 0.8089\n",
      "Epoch [340/500], Loss: 0.1398, Train Accuracy: 0.9473, Train F1: 0.9085, Test Accuracy: 0.8961, Test F1: 0.8111\n",
      "Epoch [350/500], Loss: 0.1378, Train Accuracy: 0.9469, Train F1: 0.9084, Test Accuracy: 0.8970, Test F1: 0.8138\n",
      "Epoch [360/500], Loss: 0.1298, Train Accuracy: 0.9509, Train F1: 0.9153, Test Accuracy: 0.8981, Test F1: 0.8132\n",
      "Epoch [370/500], Loss: 0.1256, Train Accuracy: 0.9532, Train F1: 0.9188, Test Accuracy: 0.9003, Test F1: 0.8201\n",
      "Epoch [380/500], Loss: 0.1282, Train Accuracy: 0.9519, Train F1: 0.9178, Test Accuracy: 0.8975, Test F1: 0.8112\n",
      "Epoch [390/500], Loss: 0.1248, Train Accuracy: 0.9524, Train F1: 0.9172, Test Accuracy: 0.9000, Test F1: 0.8174\n",
      "Epoch [400/500], Loss: 0.1179, Train Accuracy: 0.9567, Train F1: 0.9242, Test Accuracy: 0.8997, Test F1: 0.8184\n",
      "Epoch [410/500], Loss: 0.1167, Train Accuracy: 0.9553, Train F1: 0.9236, Test Accuracy: 0.8978, Test F1: 0.8097\n",
      "Epoch [420/500], Loss: 0.1170, Train Accuracy: 0.9563, Train F1: 0.9241, Test Accuracy: 0.9014, Test F1: 0.8198\n",
      "Epoch [430/500], Loss: 0.1150, Train Accuracy: 0.9553, Train F1: 0.9231, Test Accuracy: 0.9006, Test F1: 0.8160\n",
      "Epoch [440/500], Loss: 0.1117, Train Accuracy: 0.9582, Train F1: 0.9276, Test Accuracy: 0.8992, Test F1: 0.8141\n",
      "Epoch [450/500], Loss: 0.1056, Train Accuracy: 0.9586, Train F1: 0.9280, Test Accuracy: 0.9003, Test F1: 0.8144\n",
      "Epoch [460/500], Loss: 0.1054, Train Accuracy: 0.9587, Train F1: 0.9280, Test Accuracy: 0.8992, Test F1: 0.8118\n",
      "Epoch [470/500], Loss: 0.1032, Train Accuracy: 0.9600, Train F1: 0.9310, Test Accuracy: 0.9019, Test F1: 0.8188\n",
      "Epoch [480/500], Loss: 0.1010, Train Accuracy: 0.9607, Train F1: 0.9321, Test Accuracy: 0.9039, Test F1: 0.8202\n",
      "Epoch [490/500], Loss: 0.0987, Train Accuracy: 0.9616, Train F1: 0.9338, Test Accuracy: 0.8981, Test F1: 0.8057\n",
      "Epoch [500/500], Loss: 0.0990, Train Accuracy: 0.9608, Train F1: 0.9322, Test Accuracy: 0.8972, Test F1: 0.8073\n"
     ]
    }
   ],
   "execution_count": 5
  },
  {
   "metadata": {
    "jupyter": {
     "is_executing": true
    },
    "ExecuteTime": {
     "start_time": "2024-07-21T15:23:05.847517Z"
    }
   },
   "cell_type": "code",
   "source": "pseudo_nn = cbl.generate_pseudo_data(train_file=train_file)",
   "id": "c0f6960d0f4d089",
   "outputs": [
    {
     "name": "stderr",
     "output_type": "stream",
     "text": [
      " 37%|███▋      | 509/1384 [04:49<09:35,  1.52it/s]"
     ]
    }
   ],
   "execution_count": null
  },
  {
   "metadata": {
    "ExecuteTime": {
     "end_time": "2024-07-20T19:23:45.867166Z",
     "start_time": "2024-07-20T19:23:45.835218Z"
    }
   },
   "cell_type": "code",
   "source": [
    "\n",
    "\n",
    "train = pd.read_csv(train_file)"
   ],
   "id": "1f863a6efb6bf2b6",
   "outputs": [],
   "execution_count": 9
  },
  {
   "metadata": {
    "ExecuteTime": {
     "end_time": "2024-07-20T19:29:13.997690Z",
     "start_time": "2024-07-20T19:29:13.970326Z"
    }
   },
   "cell_type": "code",
   "source": "new_train = pd.concat([train, pseudo_nn], axis=0).sort_values(by=['conceptA'])",
   "id": "5b7c033b9f328af",
   "outputs": [],
   "execution_count": 16
  },
  {
   "metadata": {
    "ExecuteTime": {
     "end_time": "2024-07-20T19:31:48.639461Z",
     "start_time": "2024-07-20T19:31:48.626221Z"
    }
   },
   "cell_type": "code",
   "source": "new_train[['conceptA', 'conceptB']] = new_train[['conceptA', 'conceptB']].astype(int)",
   "id": "dd7d93d595d706c4",
   "outputs": [],
   "execution_count": 22
  },
  {
   "metadata": {
    "ExecuteTime": {
     "end_time": "2024-07-20T19:31:50.091211Z",
     "start_time": "2024-07-20T19:31:49.927793Z"
    }
   },
   "cell_type": "code",
   "source": "new_train.to_csv(PATH + 'akd_united_pseudo_1_0.csv')",
   "id": "3fd6117a0072d64a",
   "outputs": [],
   "execution_count": 23
  },
  {
   "metadata": {
    "ExecuteTime": {
     "end_time": "2024-07-20T19:31:50.950752Z",
     "start_time": "2024-07-20T19:31:50.944132Z"
    }
   },
   "cell_type": "code",
   "source": "new_train.shape",
   "id": "2d06eab7fb67c4c7",
   "outputs": [
    {
     "data": {
      "text/plain": [
       "(17076, 8)"
      ]
     },
     "execution_count": 24,
     "metadata": {},
     "output_type": "execute_result"
    }
   ],
   "execution_count": 24
  },
  {
   "metadata": {
    "ExecuteTime": {
     "end_time": "2024-07-20T19:35:58.445542Z",
     "start_time": "2024-07-20T19:35:58.433831Z"
    }
   },
   "cell_type": "code",
   "source": "train['isPrerequisite'].mean(), new_train['isPrerequisite'].mean()",
   "id": "60b21e51c12c7ddd",
   "outputs": [
    {
     "data": {
      "text/plain": [
       "(0.2874047332531087, 0.3137737174982431)"
      ]
     },
     "execution_count": 31,
     "metadata": {},
     "output_type": "execute_result"
    }
   ],
   "execution_count": 31
  },
  {
   "metadata": {
    "ExecuteTime": {
     "end_time": "2024-07-20T19:45:45.567742Z",
     "start_time": "2024-07-20T19:45:45.549519Z"
    }
   },
   "cell_type": "code",
   "source": "gbl = GraphBasedLearning('conceptA', 'conceptB')",
   "id": "f9190dec9b0ea3fd",
   "outputs": [],
   "execution_count": 2
  },
  {
   "metadata": {
    "ExecuteTime": {
     "end_time": "2024-07-20T19:44:49.567876Z",
     "start_time": "2024-07-20T19:42:55.378584Z"
    }
   },
   "cell_type": "code",
   "source": "gbl.train(PATH + 'akd_united_pseudo_1_0.csv')",
   "id": "8834604cd376b1b1",
   "outputs": [
    {
     "name": "stderr",
     "output_type": "stream",
     "text": [
      "INFO:ncf.dataset:Indexing C:/Users/Luka/Documents/University/bachelor-project-prerequisite-learning/generated_data/akd_united_pseudo_1_0.csv ...\n",
      "INFO:ncf.ncf:Epoch 20 [5.88s]: train_loss = 0.041799 \n"
     ]
    }
   ],
   "execution_count": 35
  },
  {
   "metadata": {
    "ExecuteTime": {
     "end_time": "2024-07-20T19:44:53.821407Z",
     "start_time": "2024-07-20T19:44:53.780823Z"
    }
   },
   "cell_type": "code",
   "source": "pred = gbl.predict(0.31)",
   "id": "4b16ac95395bf994",
   "outputs": [
    {
     "ename": "TypeError",
     "evalue": "GraphBasedLearning.predict() takes 1 positional argument but 2 were given",
     "output_type": "error",
     "traceback": [
      "\u001B[1;31m---------------------------------------------------------------------------\u001B[0m",
      "\u001B[1;31mTypeError\u001B[0m                                 Traceback (most recent call last)",
      "Cell \u001B[1;32mIn[36], line 1\u001B[0m\n\u001B[1;32m----> 1\u001B[0m pred \u001B[38;5;241m=\u001B[39m \u001B[43mgbl\u001B[49m\u001B[38;5;241;43m.\u001B[39;49m\u001B[43mpredict\u001B[49m\u001B[43m(\u001B[49m\u001B[38;5;241;43m0.31\u001B[39;49m\u001B[43m)\u001B[49m\n",
      "\u001B[1;31mTypeError\u001B[0m: GraphBasedLearning.predict() takes 1 positional argument but 2 were given"
     ]
    }
   ],
   "execution_count": 36
  },
  {
   "metadata": {
    "ExecuteTime": {
     "end_time": "2024-07-20T19:34:51.539170Z",
     "start_time": "2024-07-20T19:34:51.519534Z"
    }
   },
   "cell_type": "code",
   "source": "df_test = pred[pred['_split_set'] == 'test']",
   "id": "4101a02a3c20f2d8",
   "outputs": [],
   "execution_count": 28
  },
  {
   "metadata": {
    "ExecuteTime": {
     "end_time": "2024-07-20T19:34:52.492127Z",
     "start_time": "2024-07-20T19:34:52.418765Z"
    }
   },
   "cell_type": "code",
   "source": "print(classification_report(df_test['isPrerequisite'], df_test['pred']))",
   "id": "32e2a4b72b337263",
   "outputs": [
    {
     "name": "stdout",
     "output_type": "stream",
     "text": [
      "              precision    recall  f1-score   support\n",
      "\n",
      "           0       0.87      0.97      0.92      2652\n",
      "           1       0.88      0.66      0.75      1064\n",
      "\n",
      "    accuracy                           0.88      3716\n",
      "   macro avg       0.88      0.81      0.84      3716\n",
      "weighted avg       0.88      0.88      0.87      3716\n",
      "\n"
     ]
    }
   ],
   "execution_count": 29
  },
  {
   "metadata": {
    "ExecuteTime": {
     "end_time": "2024-07-19T16:35:34.556403Z",
     "start_time": "2024-07-19T16:35:34.533414Z"
    }
   },
   "cell_type": "code",
   "source": "print(classification_report(df_test['isPrerequisite'], df_test['pred']))",
   "id": "5fecadaa91c83aea",
   "outputs": [
    {
     "name": "stdout",
     "output_type": "stream",
     "text": [
      "              precision    recall  f1-score   support\n",
      "\n",
      "           0       0.87      0.96      0.92      2652\n",
      "           1       0.88      0.65      0.75      1064\n",
      "\n",
      "    accuracy                           0.87      3716\n",
      "   macro avg       0.88      0.81      0.83      3716\n",
      "weighted avg       0.87      0.87      0.87      3716\n",
      "\n"
     ]
    }
   ],
   "execution_count": 10
  },
  {
   "metadata": {
    "ExecuteTime": {
     "end_time": "2024-07-19T16:36:00.467269Z",
     "start_time": "2024-07-19T16:36:00.447734Z"
    }
   },
   "cell_type": "code",
   "source": "print(precision_score(df_test['isPrerequisite'], df_test['pred']), recall_score(df_test['isPrerequisite'], df_test['pred']), f1_score(df_test['isPrerequisite'], df_test['pred']))",
   "id": "95e80cf2a537a4a8",
   "outputs": [
    {
     "name": "stdout",
     "output_type": "stream",
     "text": [
      "0.879948914431673 0.6475563909774437 0.7460747157552788\n"
     ]
    }
   ],
   "execution_count": 11
  },
  {
   "metadata": {
    "ExecuteTime": {
     "end_time": "2024-07-19T16:36:27.728003Z",
     "start_time": "2024-07-19T16:36:06.464005Z"
    }
   },
   "cell_type": "code",
   "source": "pseudo = gbl.generate_pseudo_data(train_file)",
   "id": "61d525a5e42bb329",
   "outputs": [],
   "execution_count": 12
  },
  {
   "metadata": {},
   "cell_type": "code",
   "outputs": [],
   "execution_count": null,
   "source": "",
   "id": "a227345be7221568"
  }
 ],
 "metadata": {
  "kernelspec": {
   "display_name": "Python 3",
   "language": "python",
   "name": "python3"
  },
  "language_info": {
   "codemirror_mode": {
    "name": "ipython",
    "version": 2
   },
   "file_extension": ".py",
   "mimetype": "text/x-python",
   "name": "python",
   "nbconvert_exporter": "python",
   "pygments_lexer": "ipython2",
   "version": "2.7.6"
  }
 },
 "nbformat": 4,
 "nbformat_minor": 5
}
