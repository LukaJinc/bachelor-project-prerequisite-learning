{
 "cells": [
  {
   "cell_type": "code",
   "id": "initial_id",
   "metadata": {
    "collapsed": true,
    "ExecuteTime": {
     "end_time": "2024-07-21T10:33:32.902772Z",
     "start_time": "2024-07-21T10:33:26.742941Z"
    }
   },
   "source": [
    "import numpy as np\n",
    "import pandas as pd\n",
    "\n",
    "from config import train_file, test_file, PATH, SEED, ENCODED_SPLIT_PATH\n",
    "from utils import *\n",
    "\n",
    "from ncf.ncf import NCF\n",
    "from ncf.dataset import Dataset as NCFDataset\n",
    "\n",
    "from sklearn.metrics import recall_score, precision_score, f1_score, classification_report"
   ],
   "outputs": [
    {
     "name": "stdout",
     "output_type": "stream",
     "text": [
      "WARNING:tensorflow:From C:\\Users\\Luka\\Documents\\University\\bachelor-project-prerequisite-learning\\ncf\\ncf.py:12: The name tf.disable_eager_execution is deprecated. Please use tf.compat.v1.disable_eager_execution instead.\n",
      "\n"
     ]
    }
   ],
   "execution_count": 1
  },
  {
   "metadata": {
    "ExecuteTime": {
     "end_time": "2024-07-21T10:33:32.918234Z",
     "start_time": "2024-07-21T10:33:32.904747Z"
    }
   },
   "cell_type": "code",
   "source": [
    "def generate_pseudo_data(model, train_path):\n",
    "    train = pd.read_csv(train_path)\n",
    "\n",
    "    users, items, preds = [], [], []\n",
    "\n",
    "    for user in train[\"conceptA\"].unique():\n",
    "        itemsA = list(train.loc[train['conceptA'] == user, \"conceptB\"].unique())\n",
    "\n",
    "        item = list(train.loc[~(train['conceptB'].isin(itemsA)), \"conceptB\"].unique())\n",
    "\n",
    "        user = [user] * len(item)\n",
    "        users.extend(user)\n",
    "        items.extend(item)\n",
    "        preds.extend(list(model.predict(user, item, is_list=True)))\n",
    "\n",
    "    pseudo_predictions = pd.DataFrame(data={\"conceptA\": users, \"conceptB\": items, \"isPrerequisite_pred\": preds})\n",
    "    pseudo_predictions.sort_values(by=['conceptA', 'isPrerequisite_pred'], ascending=[True, False], inplace=True)\n",
    "\n",
    "    vs = train.groupby('conceptA').agg('sum')['isPrerequisite'].reset_index()\n",
    "\n",
    "    np.random.seed(SEED)\n",
    "\n",
    "    vs['k'] = (vs['isPrerequisite']).apply(biased_coin_toss)\n",
    "\n",
    "    vs['isPrerequisite'].sum(), vs['k'].sum()\n",
    "\n",
    "    pseudo_data = unite_pos_neg(pseudo_predictions, vs, train)\n",
    "\n",
    "    return pseudo_data"
   ],
   "id": "d9fb807be46b11f5",
   "outputs": [],
   "execution_count": 2
  },
  {
   "metadata": {
    "ExecuteTime": {
     "end_time": "2024-07-21T10:33:34.136039Z",
     "start_time": "2024-07-21T10:33:34.132251Z"
    }
   },
   "cell_type": "code",
   "source": "train_path = 'C:/Users/Luka/Documents/University/bachelor-project-prerequisite-learning/generated_data/akd_united_pseudo_data_1_0.csv'",
   "id": "bab3619bed6f6692",
   "outputs": [],
   "execution_count": 3
  },
  {
   "metadata": {
    "ExecuteTime": {
     "end_time": "2024-07-21T10:33:35.124364Z",
     "start_time": "2024-07-21T10:33:35.089319Z"
    }
   },
   "cell_type": "code",
   "source": "train = pd.read_csv(train_path)",
   "id": "52b2dac0c86d6a1a",
   "outputs": [],
   "execution_count": 4
  },
  {
   "metadata": {
    "ExecuteTime": {
     "end_time": "2024-07-21T10:33:35.751529Z",
     "start_time": "2024-07-21T10:33:35.737907Z"
    }
   },
   "cell_type": "code",
   "source": "train['isPrerequisite'].mean()",
   "id": "903e7d2d4238b0fc",
   "outputs": [
    {
     "data": {
      "text/plain": [
       "0.3137737174982431"
      ]
     },
     "execution_count": 5,
     "metadata": {},
     "output_type": "execute_result"
    }
   ],
   "execution_count": 5
  },
  {
   "metadata": {
    "ExecuteTime": {
     "end_time": "2024-07-21T10:33:36.535230Z",
     "start_time": "2024-07-21T10:33:36.390028Z"
    }
   },
   "cell_type": "code",
   "source": "data = NCFDataset(train_file=train_file, seed=SEED, col_user='conceptA', col_item='conceptB')",
   "id": "b05fa7c6ba64277",
   "outputs": [
    {
     "name": "stderr",
     "output_type": "stream",
     "text": [
      "INFO:ncf.dataset:Indexing C:/Users/Luka/Documents/University/bachelor-project-prerequisite-learning/generated_data/akd_train_42.csv ...\n"
     ]
    }
   ],
   "execution_count": 6
  },
  {
   "metadata": {
    "ExecuteTime": {
     "end_time": "2024-07-21T10:33:38.131693Z",
     "start_time": "2024-07-21T10:33:37.170096Z"
    }
   },
   "cell_type": "code",
   "source": [
    "model = NCF(\n",
    "    n_users=data.n_users, \n",
    "    n_items=data.n_items,\n",
    "    model_type=\"NeuMF\",\n",
    "    n_factors=16,\n",
    "    layer_sizes=[8,4],\n",
    "    # previously 16, 8, 4\n",
    "    n_epochs=20,\n",
    "    batch_size=256,\n",
    "    learning_rate=0.001,\n",
    "    verbose=20, \n",
    "    seed=SEED\n",
    ")"
   ],
   "id": "5c36c614f94c5e3f",
   "outputs": [
    {
     "name": "stderr",
     "output_type": "stream",
     "text": [
      "C:\\Users\\Luka\\Documents\\University\\bachelor-project-prerequisite-learning\\venv\\Lib\\site-packages\\tensorflow\\python\\keras\\engine\\base_layer_v1.py:1694: UserWarning: `layer.apply` is deprecated and will be removed in a future version. Please use `layer.__call__` method instead.\n",
      "  warnings.warn('`layer.apply` is deprecated and '\n"
     ]
    },
    {
     "name": "stdout",
     "output_type": "stream",
     "text": [
      "WARNING:tensorflow:From C:\\Users\\Luka\\Documents\\University\\bachelor-project-prerequisite-learning\\ncf\\ncf.py:264: The name tf.losses.log_loss is deprecated. Please use tf.compat.v1.losses.log_loss instead.\n",
      "\n"
     ]
    },
    {
     "name": "stderr",
     "output_type": "stream",
     "text": [
      "WARNING:tensorflow:From C:\\Users\\Luka\\Documents\\University\\bachelor-project-prerequisite-learning\\ncf\\ncf.py:264: The name tf.losses.log_loss is deprecated. Please use tf.compat.v1.losses.log_loss instead.\n",
      "\n"
     ]
    },
    {
     "name": "stdout",
     "output_type": "stream",
     "text": [
      "WARNING:tensorflow:From C:\\Users\\Luka\\Documents\\University\\bachelor-project-prerequisite-learning\\ncf\\ncf.py:269: The name tf.train.AdamOptimizer is deprecated. Please use tf.compat.v1.train.AdamOptimizer instead.\n",
      "\n"
     ]
    },
    {
     "name": "stderr",
     "output_type": "stream",
     "text": [
      "WARNING:tensorflow:From C:\\Users\\Luka\\Documents\\University\\bachelor-project-prerequisite-learning\\ncf\\ncf.py:269: The name tf.train.AdamOptimizer is deprecated. Please use tf.compat.v1.train.AdamOptimizer instead.\n",
      "\n"
     ]
    }
   ],
   "execution_count": 7
  },
  {
   "metadata": {
    "ExecuteTime": {
     "end_time": "2024-07-21T10:34:35.842043Z",
     "start_time": "2024-07-21T10:33:38.361628Z"
    }
   },
   "cell_type": "code",
   "source": [
    "%%time\n",
    "\n",
    "model.fit(data)"
   ],
   "id": "ec6dd7347c3cc6d1",
   "outputs": [
    {
     "name": "stderr",
     "output_type": "stream",
     "text": [
      "INFO:ncf.ncf:Epoch 20 [2.58s]: train_loss = 0.035806 \n"
     ]
    },
    {
     "name": "stdout",
     "output_type": "stream",
     "text": [
      "CPU times: total: 1min 1s\n",
      "Wall time: 57.5 s\n"
     ]
    }
   ],
   "execution_count": 8
  },
  {
   "metadata": {
    "ExecuteTime": {
     "end_time": "2024-07-21T10:34:43.681615Z",
     "start_time": "2024-07-21T10:34:35.844035Z"
    }
   },
   "cell_type": "code",
   "source": [
    "threshold = 0.31\n",
    "\n",
    "df = pd.read_csv(ENCODED_SPLIT_PATH)\n",
    "predictions = [[row.conceptA, row.conceptB, model.predict(row.conceptA, row.conceptB)]\n",
    "               for (_, row) in df.iterrows()]\n",
    "\n",
    "predictions = pd.DataFrame(predictions, columns=['conceptA', 'conceptB', 'isPrerequisite_pred'])\n",
    "\n",
    "predictions['isPrerequisite'] = df['isPrerequisite']\n",
    "predictions['dataset'] = df['dataset']\n",
    "predictions['_split_set'] = df['_split_set']\n",
    "sorted_predictions = predictions.sort_values(by='isPrerequisite_pred', ascending=False)\n",
    "sorted_predictions['pred'] = (sorted_predictions['isPrerequisite_pred'] >= threshold).astype(int)"
   ],
   "id": "f01a620daf1e5664",
   "outputs": [],
   "execution_count": 9
  },
  {
   "metadata": {
    "ExecuteTime": {
     "end_time": "2024-07-21T10:34:43.703666Z",
     "start_time": "2024-07-21T10:34:43.682619Z"
    }
   },
   "cell_type": "code",
   "source": [
    "df_test = sorted_predictions[sorted_predictions['_split_set'] == 'test']\n",
    "print(classification_report(df_test['isPrerequisite'], df_test['pred']))"
   ],
   "id": "7e5772178e088ca5",
   "outputs": [
    {
     "name": "stdout",
     "output_type": "stream",
     "text": [
      "              precision    recall  f1-score   support\n",
      "\n",
      "           0       0.87      0.97      0.92      2652\n",
      "           1       0.89      0.64      0.74      1064\n",
      "\n",
      "    accuracy                           0.87      3716\n",
      "   macro avg       0.88      0.80      0.83      3716\n",
      "weighted avg       0.87      0.87      0.87      3716\n",
      "\n"
     ]
    }
   ],
   "execution_count": 10
  },
  {
   "metadata": {
    "ExecuteTime": {
     "end_time": "2024-07-21T10:35:11.385499Z",
     "start_time": "2024-07-21T10:34:43.705660Z"
    }
   },
   "cell_type": "code",
   "source": "pseudo_data = generate_pseudo_data(model, train_path)",
   "id": "feebe6bf9deb504f",
   "outputs": [],
   "execution_count": 11
  },
  {
   "metadata": {
    "ExecuteTime": {
     "end_time": "2024-07-21T10:35:11.405596Z",
     "start_time": "2024-07-21T10:35:11.386472Z"
    }
   },
   "cell_type": "code",
   "source": "pseudo_data",
   "id": "8450e1065ffaa4be",
   "outputs": [
    {
     "data": {
      "text/plain": [
       "       conceptA  conceptB  isPrerequisite dataset    file  conceptA_ind  \\\n",
       "0           0.0    1512.0               1  pseudo  al_cpl           386   \n",
       "7           1.0    1542.0               1  pseudo   drive           254   \n",
       "23          2.0     429.0               1  pseudo    mooc           256   \n",
       "35          3.0     277.0               1  pseudo    mooc           272   \n",
       "131         6.0     624.0               1  pseudo  al_cpl            72   \n",
       "...         ...       ...             ...     ...     ...           ...   \n",
       "17008    1370.0     220.0               0  pseudo   drive           105   \n",
       "17008    1370.0    1266.0               0  pseudo   drive           163   \n",
       "17015    1371.0    1013.0               0  pseudo  al_cpl           114   \n",
       "17038    1376.0    1306.0               0  pseudo   drive           294   \n",
       "17060    1381.0    1306.0               0  pseudo   drive           294   \n",
       "\n",
       "       conceptB_ind   fileB  \n",
       "0               490  al_cpl  \n",
       "7               299  al_cpl  \n",
       "23               16    mooc  \n",
       "35              100    mooc  \n",
       "131             391  al_cpl  \n",
       "...             ...     ...  \n",
       "17008           528   drive  \n",
       "17008           567   drive  \n",
       "17015           319    mooc  \n",
       "17038           698   drive  \n",
       "17060           698   drive  \n",
       "\n",
       "[2650 rows x 8 columns]"
      ],
      "text/html": [
       "<div>\n",
       "<style scoped>\n",
       "    .dataframe tbody tr th:only-of-type {\n",
       "        vertical-align: middle;\n",
       "    }\n",
       "\n",
       "    .dataframe tbody tr th {\n",
       "        vertical-align: top;\n",
       "    }\n",
       "\n",
       "    .dataframe thead th {\n",
       "        text-align: right;\n",
       "    }\n",
       "</style>\n",
       "<table border=\"1\" class=\"dataframe\">\n",
       "  <thead>\n",
       "    <tr style=\"text-align: right;\">\n",
       "      <th></th>\n",
       "      <th>conceptA</th>\n",
       "      <th>conceptB</th>\n",
       "      <th>isPrerequisite</th>\n",
       "      <th>dataset</th>\n",
       "      <th>file</th>\n",
       "      <th>conceptA_ind</th>\n",
       "      <th>conceptB_ind</th>\n",
       "      <th>fileB</th>\n",
       "    </tr>\n",
       "  </thead>\n",
       "  <tbody>\n",
       "    <tr>\n",
       "      <th>0</th>\n",
       "      <td>0.0</td>\n",
       "      <td>1512.0</td>\n",
       "      <td>1</td>\n",
       "      <td>pseudo</td>\n",
       "      <td>al_cpl</td>\n",
       "      <td>386</td>\n",
       "      <td>490</td>\n",
       "      <td>al_cpl</td>\n",
       "    </tr>\n",
       "    <tr>\n",
       "      <th>7</th>\n",
       "      <td>1.0</td>\n",
       "      <td>1542.0</td>\n",
       "      <td>1</td>\n",
       "      <td>pseudo</td>\n",
       "      <td>drive</td>\n",
       "      <td>254</td>\n",
       "      <td>299</td>\n",
       "      <td>al_cpl</td>\n",
       "    </tr>\n",
       "    <tr>\n",
       "      <th>23</th>\n",
       "      <td>2.0</td>\n",
       "      <td>429.0</td>\n",
       "      <td>1</td>\n",
       "      <td>pseudo</td>\n",
       "      <td>mooc</td>\n",
       "      <td>256</td>\n",
       "      <td>16</td>\n",
       "      <td>mooc</td>\n",
       "    </tr>\n",
       "    <tr>\n",
       "      <th>35</th>\n",
       "      <td>3.0</td>\n",
       "      <td>277.0</td>\n",
       "      <td>1</td>\n",
       "      <td>pseudo</td>\n",
       "      <td>mooc</td>\n",
       "      <td>272</td>\n",
       "      <td>100</td>\n",
       "      <td>mooc</td>\n",
       "    </tr>\n",
       "    <tr>\n",
       "      <th>131</th>\n",
       "      <td>6.0</td>\n",
       "      <td>624.0</td>\n",
       "      <td>1</td>\n",
       "      <td>pseudo</td>\n",
       "      <td>al_cpl</td>\n",
       "      <td>72</td>\n",
       "      <td>391</td>\n",
       "      <td>al_cpl</td>\n",
       "    </tr>\n",
       "    <tr>\n",
       "      <th>...</th>\n",
       "      <td>...</td>\n",
       "      <td>...</td>\n",
       "      <td>...</td>\n",
       "      <td>...</td>\n",
       "      <td>...</td>\n",
       "      <td>...</td>\n",
       "      <td>...</td>\n",
       "      <td>...</td>\n",
       "    </tr>\n",
       "    <tr>\n",
       "      <th>17008</th>\n",
       "      <td>1370.0</td>\n",
       "      <td>220.0</td>\n",
       "      <td>0</td>\n",
       "      <td>pseudo</td>\n",
       "      <td>drive</td>\n",
       "      <td>105</td>\n",
       "      <td>528</td>\n",
       "      <td>drive</td>\n",
       "    </tr>\n",
       "    <tr>\n",
       "      <th>17008</th>\n",
       "      <td>1370.0</td>\n",
       "      <td>1266.0</td>\n",
       "      <td>0</td>\n",
       "      <td>pseudo</td>\n",
       "      <td>drive</td>\n",
       "      <td>163</td>\n",
       "      <td>567</td>\n",
       "      <td>drive</td>\n",
       "    </tr>\n",
       "    <tr>\n",
       "      <th>17015</th>\n",
       "      <td>1371.0</td>\n",
       "      <td>1013.0</td>\n",
       "      <td>0</td>\n",
       "      <td>pseudo</td>\n",
       "      <td>al_cpl</td>\n",
       "      <td>114</td>\n",
       "      <td>319</td>\n",
       "      <td>mooc</td>\n",
       "    </tr>\n",
       "    <tr>\n",
       "      <th>17038</th>\n",
       "      <td>1376.0</td>\n",
       "      <td>1306.0</td>\n",
       "      <td>0</td>\n",
       "      <td>pseudo</td>\n",
       "      <td>drive</td>\n",
       "      <td>294</td>\n",
       "      <td>698</td>\n",
       "      <td>drive</td>\n",
       "    </tr>\n",
       "    <tr>\n",
       "      <th>17060</th>\n",
       "      <td>1381.0</td>\n",
       "      <td>1306.0</td>\n",
       "      <td>0</td>\n",
       "      <td>pseudo</td>\n",
       "      <td>drive</td>\n",
       "      <td>294</td>\n",
       "      <td>698</td>\n",
       "      <td>drive</td>\n",
       "    </tr>\n",
       "  </tbody>\n",
       "</table>\n",
       "<p>2650 rows × 8 columns</p>\n",
       "</div>"
      ]
     },
     "execution_count": 12,
     "metadata": {},
     "output_type": "execute_result"
    }
   ],
   "execution_count": 12
  },
  {
   "metadata": {},
   "cell_type": "code",
   "outputs": [],
   "execution_count": null,
   "source": "",
   "id": "d2a65f31010bcd6c"
  }
 ],
 "metadata": {
  "kernelspec": {
   "display_name": "Python 3",
   "language": "python",
   "name": "python3"
  },
  "language_info": {
   "codemirror_mode": {
    "name": "ipython",
    "version": 2
   },
   "file_extension": ".py",
   "mimetype": "text/x-python",
   "name": "python",
   "nbconvert_exporter": "python",
   "pygments_lexer": "ipython2",
   "version": "2.7.6"
  }
 },
 "nbformat": 4,
 "nbformat_minor": 5
}
