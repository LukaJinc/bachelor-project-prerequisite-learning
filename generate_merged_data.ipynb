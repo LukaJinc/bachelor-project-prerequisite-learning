{
 "cells": [
  {
   "cell_type": "code",
   "id": "initial_id",
   "metadata": {
    "collapsed": true,
    "ExecuteTime": {
     "end_time": "2024-07-12T19:45:27.541803Z",
     "start_time": "2024-07-12T19:45:26.832827Z"
    }
   },
   "source": "import pandas as pd",
   "outputs": [],
   "execution_count": 1
  },
  {
   "metadata": {
    "ExecuteTime": {
     "end_time": "2024-07-12T19:45:28.618486Z",
     "start_time": "2024-07-12T19:45:28.552175Z"
    }
   },
   "cell_type": "code",
   "source": [
    "df_names = pd.read_csv(r'C:\\Users\\Luka\\Documents\\University\\bachelor-project-prerequisite-learning\\generated_data\\united_data.csv')\n",
    "df_encoded = pd.read_csv(r'C:\\Users\\Luka\\Documents\\University\\bachelor-project-prerequisite-learning\\generated_data\\united_data_encoded.csv')"
   ],
   "id": "9cd2d0517b07146",
   "outputs": [],
   "execution_count": 2
  },
  {
   "metadata": {
    "ExecuteTime": {
     "end_time": "2024-07-12T19:45:29.817307Z",
     "start_time": "2024-07-12T19:45:29.808769Z"
    }
   },
   "cell_type": "code",
   "source": "df_names.shape, df_encoded.shape",
   "id": "6ad6eaad45b5aa6e",
   "outputs": [
    {
     "data": {
      "text/plain": [
       "((18578, 4), (18578, 4))"
      ]
     },
     "execution_count": 3,
     "metadata": {},
     "output_type": "execute_result"
    }
   ],
   "execution_count": 3
  },
  {
   "metadata": {
    "ExecuteTime": {
     "end_time": "2024-07-12T19:45:30.668334Z",
     "start_time": "2024-07-12T19:45:30.659717Z"
    }
   },
   "cell_type": "code",
   "source": "df_names['dataset'].value_counts()",
   "id": "eeff7e30d1643560",
   "outputs": [
    {
     "data": {
      "text/plain": [
       "dataset\n",
       "moocML     6712\n",
       "al_cpl     6529\n",
       "drive      2797\n",
       "moocDSA    2540\n",
       "Name: count, dtype: int64"
      ]
     },
     "execution_count": 4,
     "metadata": {},
     "output_type": "execute_result"
    }
   ],
   "execution_count": 4
  },
  {
   "metadata": {
    "ExecuteTime": {
     "end_time": "2024-07-12T19:45:33.982556Z",
     "start_time": "2024-07-12T19:45:33.971404Z"
    }
   },
   "cell_type": "code",
   "source": [
    "df_names['file'] = df_names['dataset']\n",
    "df_names.loc[(df_names['dataset'] == 'moocML') | (df_names['dataset'] == 'moocDSA'), 'file'] = 'mooc'"
   ],
   "id": "4d1c7b5b67399d12",
   "outputs": [],
   "execution_count": 5
  },
  {
   "metadata": {
    "ExecuteTime": {
     "end_time": "2024-07-12T19:45:34.730650Z",
     "start_time": "2024-07-12T19:45:34.714690Z"
    }
   },
   "cell_type": "code",
   "source": "df_names['file'].value_counts()",
   "id": "934fc1b180ce5f28",
   "outputs": [
    {
     "data": {
      "text/plain": [
       "file\n",
       "mooc      9252\n",
       "al_cpl    6529\n",
       "drive     2797\n",
       "Name: count, dtype: int64"
      ]
     },
     "execution_count": 6,
     "metadata": {},
     "output_type": "execute_result"
    }
   ],
   "execution_count": 6
  },
  {
   "metadata": {
    "ExecuteTime": {
     "end_time": "2024-07-12T19:45:38.858263Z",
     "start_time": "2024-07-12T19:45:38.231115Z"
    }
   },
   "cell_type": "code",
   "source": [
    "EMBEDDINGS_PATH = r'C:\\Users\\Luka\\Documents\\University\\bachelor-project-prerequisite-learning\\embeddings'\n",
    "\n",
    "emb_al_cpl = pd.read_csv(EMBEDDINGS_PATH + r'\\al_cpl_embeddings_mistral.csv')\n",
    "emb_drive = pd.read_csv(EMBEDDINGS_PATH + r'\\drive_embeddings_mistral.csv')\n",
    "emb_mooc = pd.read_csv(EMBEDDINGS_PATH + r'\\mooc_embeddings_mistral.csv')"
   ],
   "id": "78f276f886d52a5d",
   "outputs": [],
   "execution_count": 7
  },
  {
   "metadata": {
    "ExecuteTime": {
     "end_time": "2024-07-12T19:45:41.666779Z",
     "start_time": "2024-07-12T19:45:41.649716Z"
    }
   },
   "cell_type": "code",
   "source": [
    "emb_al_cpl = emb_al_cpl.reset_index()\n",
    "emb_drive = emb_drive.reset_index()\n",
    "emb_mooc = emb_mooc.reset_index()"
   ],
   "id": "bf48ae2400055afc",
   "outputs": [],
   "execution_count": 8
  },
  {
   "metadata": {
    "ExecuteTime": {
     "end_time": "2024-07-12T19:45:44.024621Z",
     "start_time": "2024-07-12T19:45:44.019115Z"
    }
   },
   "cell_type": "code",
   "source": [
    "al_cpl_dict = dict(zip(emb_al_cpl['Unnamed: 0'], emb_al_cpl['index']))\n",
    "mooc_dict = dict(zip(emb_mooc['Unnamed: 0'], emb_mooc['index']))\n",
    "drive_dict = dict(zip(emb_drive['Unnamed: 0'], emb_drive['index']))"
   ],
   "id": "158efc636958a7a6",
   "outputs": [],
   "execution_count": 9
  },
  {
   "metadata": {
    "ExecuteTime": {
     "end_time": "2024-07-12T19:46:16.462243Z",
     "start_time": "2024-07-12T19:46:16.456568Z"
    }
   },
   "cell_type": "code",
   "source": [
    "df_names['conceptA_ind'] = df_names['conceptA']\n",
    "df_names['conceptB_ind'] = df_names['conceptB']"
   ],
   "id": "1d5cbb92cb3ab106",
   "outputs": [],
   "execution_count": 11
  },
  {
   "metadata": {
    "ExecuteTime": {
     "end_time": "2024-07-12T19:46:34.695532Z",
     "start_time": "2024-07-12T19:46:33.913374Z"
    }
   },
   "cell_type": "code",
   "source": [
    "df_names.loc[df_names['file'] == 'mooc', 'conceptA_ind'] = df_names.loc[df_names['file'] == 'mooc', 'conceptA_ind'].replace(mooc_dict)\n",
    "df_names.loc[df_names['file'] == 'al_cpl', 'conceptA_ind'] = df_names.loc[df_names['file'] == 'al_cpl', 'conceptA_ind'].replace(al_cpl_dict)\n",
    "df_names.loc[df_names['file'] == 'drive', 'conceptA_ind'] = df_names.loc[df_names['file'] == 'drive', 'conceptA_ind'].replace(drive_dict)\n"
   ],
   "id": "7fecc171b3e4eb65",
   "outputs": [
    {
     "name": "stderr",
     "output_type": "stream",
     "text": [
      "C:\\Users\\Luka\\AppData\\Local\\Temp\\ipykernel_9972\\3071635467.py:1: FutureWarning: Downcasting behavior in `replace` is deprecated and will be removed in a future version. To retain the old behavior, explicitly call `result.infer_objects(copy=False)`. To opt-in to the future behavior, set `pd.set_option('future.no_silent_downcasting', True)`\n",
      "  df_names.loc[df_names['file'] == 'mooc', 'conceptA_ind'] = df_names.loc[df_names['file'] == 'mooc', 'conceptA_ind'].replace(mooc_dict)\n",
      "C:\\Users\\Luka\\AppData\\Local\\Temp\\ipykernel_9972\\3071635467.py:2: FutureWarning: Downcasting behavior in `replace` is deprecated and will be removed in a future version. To retain the old behavior, explicitly call `result.infer_objects(copy=False)`. To opt-in to the future behavior, set `pd.set_option('future.no_silent_downcasting', True)`\n",
      "  df_names.loc[df_names['file'] == 'al_cpl', 'conceptA_ind'] = df_names.loc[df_names['file'] == 'al_cpl', 'conceptA_ind'].replace(al_cpl_dict)\n",
      "C:\\Users\\Luka\\AppData\\Local\\Temp\\ipykernel_9972\\3071635467.py:3: FutureWarning: Downcasting behavior in `replace` is deprecated and will be removed in a future version. To retain the old behavior, explicitly call `result.infer_objects(copy=False)`. To opt-in to the future behavior, set `pd.set_option('future.no_silent_downcasting', True)`\n",
      "  df_names.loc[df_names['file'] == 'drive', 'conceptA_ind'] = df_names.loc[df_names['file'] == 'drive', 'conceptA_ind'].replace(drive_dict)\n"
     ]
    }
   ],
   "execution_count": 12
  },
  {
   "metadata": {
    "ExecuteTime": {
     "end_time": "2024-07-12T19:46:40.891828Z",
     "start_time": "2024-07-12T19:46:40.102732Z"
    }
   },
   "cell_type": "code",
   "source": [
    "df_names.loc[df_names['file'] == 'mooc', 'conceptB_ind'] = df_names.loc[df_names['file'] == 'mooc', 'conceptB_ind'].replace(mooc_dict)\n",
    "df_names.loc[df_names['file'] == 'al_cpl', 'conceptB_ind'] = df_names.loc[df_names['file'] == 'al_cpl', 'conceptB_ind'].replace(al_cpl_dict)\n",
    "df_names.loc[df_names['file'] == 'drive', 'conceptB_ind'] = df_names.loc[df_names['file'] == 'drive', 'conceptB_ind'].replace(drive_dict)\n"
   ],
   "id": "8b73f03852127c06",
   "outputs": [
    {
     "name": "stderr",
     "output_type": "stream",
     "text": [
      "C:\\Users\\Luka\\AppData\\Local\\Temp\\ipykernel_9972\\3062146404.py:1: FutureWarning: Downcasting behavior in `replace` is deprecated and will be removed in a future version. To retain the old behavior, explicitly call `result.infer_objects(copy=False)`. To opt-in to the future behavior, set `pd.set_option('future.no_silent_downcasting', True)`\n",
      "  df_names.loc[df_names['file'] == 'mooc', 'conceptB_ind'] = df_names.loc[df_names['file'] == 'mooc', 'conceptB_ind'].replace(mooc_dict)\n",
      "C:\\Users\\Luka\\AppData\\Local\\Temp\\ipykernel_9972\\3062146404.py:2: FutureWarning: Downcasting behavior in `replace` is deprecated and will be removed in a future version. To retain the old behavior, explicitly call `result.infer_objects(copy=False)`. To opt-in to the future behavior, set `pd.set_option('future.no_silent_downcasting', True)`\n",
      "  df_names.loc[df_names['file'] == 'al_cpl', 'conceptB_ind'] = df_names.loc[df_names['file'] == 'al_cpl', 'conceptB_ind'].replace(al_cpl_dict)\n",
      "C:\\Users\\Luka\\AppData\\Local\\Temp\\ipykernel_9972\\3062146404.py:3: FutureWarning: Downcasting behavior in `replace` is deprecated and will be removed in a future version. To retain the old behavior, explicitly call `result.infer_objects(copy=False)`. To opt-in to the future behavior, set `pd.set_option('future.no_silent_downcasting', True)`\n",
      "  df_names.loc[df_names['file'] == 'drive', 'conceptB_ind'] = df_names.loc[df_names['file'] == 'drive', 'conceptB_ind'].replace(drive_dict)\n"
     ]
    }
   ],
   "execution_count": 13
  },
  {
   "metadata": {
    "ExecuteTime": {
     "end_time": "2024-07-12T19:46:43.352806Z",
     "start_time": "2024-07-12T19:46:43.342488Z"
    }
   },
   "cell_type": "code",
   "source": "df_names.head()",
   "id": "c5e5fdacc591ef2f",
   "outputs": [
    {
     "data": {
      "text/plain": [
       "              conceptA             conceptB  isPrerequisite dataset  file  \\\n",
       "0    activation values  activation function               1  moocML  mooc   \n",
       "1  activation function            back prop               1  moocML  mooc   \n",
       "2  activation function            bias unit               0  moocML  mooc   \n",
       "3  activation function             features               0  moocML  mooc   \n",
       "4  activation function      derivative term               0  moocML  mooc   \n",
       "\n",
       "  conceptA_ind conceptB_ind  \n",
       "0          128          160  \n",
       "1          160          417  \n",
       "2          160          101  \n",
       "3          160          301  \n",
       "4          160          120  "
      ],
      "text/html": [
       "<div>\n",
       "<style scoped>\n",
       "    .dataframe tbody tr th:only-of-type {\n",
       "        vertical-align: middle;\n",
       "    }\n",
       "\n",
       "    .dataframe tbody tr th {\n",
       "        vertical-align: top;\n",
       "    }\n",
       "\n",
       "    .dataframe thead th {\n",
       "        text-align: right;\n",
       "    }\n",
       "</style>\n",
       "<table border=\"1\" class=\"dataframe\">\n",
       "  <thead>\n",
       "    <tr style=\"text-align: right;\">\n",
       "      <th></th>\n",
       "      <th>conceptA</th>\n",
       "      <th>conceptB</th>\n",
       "      <th>isPrerequisite</th>\n",
       "      <th>dataset</th>\n",
       "      <th>file</th>\n",
       "      <th>conceptA_ind</th>\n",
       "      <th>conceptB_ind</th>\n",
       "    </tr>\n",
       "  </thead>\n",
       "  <tbody>\n",
       "    <tr>\n",
       "      <th>0</th>\n",
       "      <td>activation values</td>\n",
       "      <td>activation function</td>\n",
       "      <td>1</td>\n",
       "      <td>moocML</td>\n",
       "      <td>mooc</td>\n",
       "      <td>128</td>\n",
       "      <td>160</td>\n",
       "    </tr>\n",
       "    <tr>\n",
       "      <th>1</th>\n",
       "      <td>activation function</td>\n",
       "      <td>back prop</td>\n",
       "      <td>1</td>\n",
       "      <td>moocML</td>\n",
       "      <td>mooc</td>\n",
       "      <td>160</td>\n",
       "      <td>417</td>\n",
       "    </tr>\n",
       "    <tr>\n",
       "      <th>2</th>\n",
       "      <td>activation function</td>\n",
       "      <td>bias unit</td>\n",
       "      <td>0</td>\n",
       "      <td>moocML</td>\n",
       "      <td>mooc</td>\n",
       "      <td>160</td>\n",
       "      <td>101</td>\n",
       "    </tr>\n",
       "    <tr>\n",
       "      <th>3</th>\n",
       "      <td>activation function</td>\n",
       "      <td>features</td>\n",
       "      <td>0</td>\n",
       "      <td>moocML</td>\n",
       "      <td>mooc</td>\n",
       "      <td>160</td>\n",
       "      <td>301</td>\n",
       "    </tr>\n",
       "    <tr>\n",
       "      <th>4</th>\n",
       "      <td>activation function</td>\n",
       "      <td>derivative term</td>\n",
       "      <td>0</td>\n",
       "      <td>moocML</td>\n",
       "      <td>mooc</td>\n",
       "      <td>160</td>\n",
       "      <td>120</td>\n",
       "    </tr>\n",
       "  </tbody>\n",
       "</table>\n",
       "</div>"
      ]
     },
     "execution_count": 14,
     "metadata": {},
     "output_type": "execute_result"
    }
   ],
   "execution_count": 14
  },
  {
   "metadata": {
    "ExecuteTime": {
     "end_time": "2024-07-12T19:48:48.693602Z",
     "start_time": "2024-07-12T19:48:48.686124Z"
    }
   },
   "cell_type": "code",
   "source": [
    "df_encoded['file'] = df_names['file']\n",
    "df_encoded['conceptA_ind'] = df_names['conceptA_ind'] \n",
    "df_encoded['conceptB_ind'] = df_names['conceptB_ind'] "
   ],
   "id": "a5d734a5167e2e97",
   "outputs": [],
   "execution_count": 19
  },
  {
   "metadata": {
    "ExecuteTime": {
     "end_time": "2024-07-12T19:48:50.166112Z",
     "start_time": "2024-07-12T19:48:50.158676Z"
    }
   },
   "cell_type": "code",
   "source": "df_names.shape, df_encoded.shape",
   "id": "c57559a9c3f6dc7a",
   "outputs": [
    {
     "data": {
      "text/plain": [
       "((18578, 7), (18578, 7))"
      ]
     },
     "execution_count": 20,
     "metadata": {},
     "output_type": "execute_result"
    }
   ],
   "execution_count": 20
  },
  {
   "metadata": {
    "ExecuteTime": {
     "end_time": "2024-07-12T19:48:54.821092Z",
     "start_time": "2024-07-12T19:48:54.692827Z"
    }
   },
   "cell_type": "code",
   "source": [
    "df_encoded.to_csv(r'C:\\Users\\Luka\\Documents\\University\\bachelor-project-prerequisite-learning\\generated_data\\united_data_encoded_embeddings.csv')\n",
    "df_names.to_csv(r'C:\\Users\\Luka\\Documents\\University\\bachelor-project-prerequisite-learning\\generated_data\\united_data_embeddings.csv')"
   ],
   "id": "6913d1cb31256020",
   "outputs": [],
   "execution_count": 21
  },
  {
   "metadata": {},
   "cell_type": "code",
   "source": "",
   "id": "74572e36e5835936",
   "outputs": [],
   "execution_count": null
  }
 ],
 "metadata": {
  "kernelspec": {
   "display_name": "Python 3",
   "language": "python",
   "name": "python3"
  },
  "language_info": {
   "codemirror_mode": {
    "name": "ipython",
    "version": 2
   },
   "file_extension": ".py",
   "mimetype": "text/x-python",
   "name": "python",
   "nbconvert_exporter": "python",
   "pygments_lexer": "ipython2",
   "version": "2.7.6"
  }
 },
 "nbformat": 4,
 "nbformat_minor": 5
}
