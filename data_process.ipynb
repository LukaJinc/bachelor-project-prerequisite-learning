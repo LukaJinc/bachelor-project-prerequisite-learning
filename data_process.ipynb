{
 "cells": [
  {
   "cell_type": "code",
   "id": "initial_id",
   "metadata": {
    "collapsed": true,
    "ExecuteTime": {
     "end_time": "2024-07-24T10:32:24.630907Z",
     "start_time": "2024-07-24T10:32:23.511362Z"
    }
   },
   "source": [
    "import pandas as pd\n",
    "from sklearn.model_selection import train_test_split\n",
    "from config import *"
   ],
   "outputs": [],
   "execution_count": 22
  },
  {
   "metadata": {
    "ExecuteTime": {
     "end_time": "2024-07-24T10:30:49.162719Z",
     "start_time": "2024-07-24T10:30:49.124906Z"
    }
   },
   "cell_type": "code",
   "source": [
    "df_names = pd.read_csv(DATA_PATH + 'united_data.csv')\n",
    "df_encoded = pd.read_csv(DATA_PATH + 'united_data_encoded.csv')"
   ],
   "id": "9cd2d0517b07146",
   "outputs": [],
   "execution_count": 2
  },
  {
   "metadata": {
    "ExecuteTime": {
     "end_time": "2024-07-24T10:30:49.172524Z",
     "start_time": "2024-07-24T10:30:49.164869Z"
    }
   },
   "cell_type": "code",
   "source": "df_names.shape, df_encoded.shape",
   "id": "6ad6eaad45b5aa6e",
   "outputs": [
    {
     "data": {
      "text/plain": [
       "((18578, 4), (18578, 4))"
      ]
     },
     "execution_count": 3,
     "metadata": {},
     "output_type": "execute_result"
    }
   ],
   "execution_count": 3
  },
  {
   "metadata": {
    "ExecuteTime": {
     "end_time": "2024-07-24T10:30:49.446791Z",
     "start_time": "2024-07-24T10:30:49.436803Z"
    }
   },
   "cell_type": "code",
   "source": "df_names['dataset'].value_counts()",
   "id": "eeff7e30d1643560",
   "outputs": [
    {
     "data": {
      "text/plain": [
       "dataset\n",
       "moocML     6712\n",
       "al_cpl     6529\n",
       "drive      2797\n",
       "moocDSA    2540\n",
       "Name: count, dtype: int64"
      ]
     },
     "execution_count": 4,
     "metadata": {},
     "output_type": "execute_result"
    }
   ],
   "execution_count": 4
  },
  {
   "metadata": {
    "ExecuteTime": {
     "end_time": "2024-07-24T10:30:51.082637Z",
     "start_time": "2024-07-24T10:30:51.068969Z"
    }
   },
   "cell_type": "code",
   "source": [
    "df_names['fileA'] = df_names['dataset']\n",
    "df_names['fileB'] = df_names['dataset']\n",
    "df_names.loc[(df_names['dataset'] == 'moocML') | (df_names['dataset'] == 'moocDSA'), ['fileA', 'fileB']] = 'mooc'"
   ],
   "id": "4d1c7b5b67399d12",
   "outputs": [],
   "execution_count": 5
  },
  {
   "metadata": {
    "ExecuteTime": {
     "end_time": "2024-07-24T10:31:18.864384Z",
     "start_time": "2024-07-24T10:31:18.847754Z"
    }
   },
   "cell_type": "code",
   "source": "df_names[['fileA', 'fileB']].value_counts()",
   "id": "934fc1b180ce5f28",
   "outputs": [
    {
     "data": {
      "text/plain": [
       "fileA   fileB \n",
       "mooc    mooc      9252\n",
       "al_cpl  al_cpl    6529\n",
       "drive   drive     2797\n",
       "Name: count, dtype: int64"
      ]
     },
     "execution_count": 6,
     "metadata": {},
     "output_type": "execute_result"
    }
   ],
   "execution_count": 6
  },
  {
   "metadata": {
    "ExecuteTime": {
     "end_time": "2024-07-24T10:31:24.837423Z",
     "start_time": "2024-07-24T10:31:24.342395Z"
    }
   },
   "cell_type": "code",
   "source": [
    "emb_al_cpl = pd.read_csv(EMBEDDINGS_PATH + 'al_cpl_embeddings_mistral.csv')\n",
    "emb_drive = pd.read_csv(EMBEDDINGS_PATH + 'drive_embeddings_mistral.csv')\n",
    "emb_mooc = pd.read_csv(EMBEDDINGS_PATH + 'mooc_embeddings_mistral.csv')"
   ],
   "id": "78f276f886d52a5d",
   "outputs": [],
   "execution_count": 7
  },
  {
   "metadata": {
    "ExecuteTime": {
     "end_time": "2024-07-24T10:31:25.792736Z",
     "start_time": "2024-07-24T10:31:25.777244Z"
    }
   },
   "cell_type": "code",
   "source": [
    "emb_al_cpl = emb_al_cpl.reset_index()\n",
    "emb_drive = emb_drive.reset_index()\n",
    "emb_mooc = emb_mooc.reset_index()"
   ],
   "id": "bf48ae2400055afc",
   "outputs": [],
   "execution_count": 8
  },
  {
   "metadata": {
    "ExecuteTime": {
     "end_time": "2024-07-24T10:31:27.120689Z",
     "start_time": "2024-07-24T10:31:27.115628Z"
    }
   },
   "cell_type": "code",
   "source": [
    "al_cpl_dict = dict(zip(emb_al_cpl['Unnamed: 0'], emb_al_cpl['index']))\n",
    "mooc_dict = dict(zip(emb_mooc['Unnamed: 0'], emb_mooc['index']))\n",
    "drive_dict = dict(zip(emb_drive['Unnamed: 0'], emb_drive['index']))"
   ],
   "id": "158efc636958a7a6",
   "outputs": [],
   "execution_count": 9
  },
  {
   "metadata": {
    "ExecuteTime": {
     "end_time": "2024-07-24T10:31:27.723764Z",
     "start_time": "2024-07-24T10:31:27.718719Z"
    }
   },
   "cell_type": "code",
   "source": [
    "df_names['conceptA_ind'] = df_names['conceptA']\n",
    "df_names['conceptB_ind'] = df_names['conceptB']"
   ],
   "id": "1d5cbb92cb3ab106",
   "outputs": [],
   "execution_count": 10
  },
  {
   "metadata": {
    "ExecuteTime": {
     "end_time": "2024-07-24T10:31:29.079977Z",
     "start_time": "2024-07-24T10:31:28.618115Z"
    }
   },
   "cell_type": "code",
   "source": [
    "df_names.loc[df_names['fileA'] == 'mooc', 'conceptA_ind'] = df_names.loc[df_names['fileA'] == 'mooc', 'conceptA_ind'].replace(mooc_dict)\n",
    "df_names.loc[df_names['fileA'] == 'al_cpl', 'conceptA_ind'] = df_names.loc[df_names['fileA'] == 'al_cpl', 'conceptA_ind'].replace(al_cpl_dict)\n",
    "df_names.loc[df_names['fileA'] == 'drive', 'conceptA_ind'] = df_names.loc[df_names['fileA'] == 'drive', 'conceptA_ind'].replace(drive_dict)\n"
   ],
   "id": "7fecc171b3e4eb65",
   "outputs": [
    {
     "name": "stderr",
     "output_type": "stream",
     "text": [
      "C:\\Users\\Luka\\AppData\\Local\\Temp\\ipykernel_10756\\1392052861.py:1: FutureWarning: Downcasting behavior in `replace` is deprecated and will be removed in a future version. To retain the old behavior, explicitly call `result.infer_objects(copy=False)`. To opt-in to the future behavior, set `pd.set_option('future.no_silent_downcasting', True)`\n",
      "  df_names.loc[df_names['fileA'] == 'mooc', 'conceptA_ind'] = df_names.loc[df_names['fileA'] == 'mooc', 'conceptA_ind'].replace(mooc_dict)\n",
      "C:\\Users\\Luka\\AppData\\Local\\Temp\\ipykernel_10756\\1392052861.py:2: FutureWarning: Downcasting behavior in `replace` is deprecated and will be removed in a future version. To retain the old behavior, explicitly call `result.infer_objects(copy=False)`. To opt-in to the future behavior, set `pd.set_option('future.no_silent_downcasting', True)`\n",
      "  df_names.loc[df_names['fileA'] == 'al_cpl', 'conceptA_ind'] = df_names.loc[df_names['fileA'] == 'al_cpl', 'conceptA_ind'].replace(al_cpl_dict)\n",
      "C:\\Users\\Luka\\AppData\\Local\\Temp\\ipykernel_10756\\1392052861.py:3: FutureWarning: Downcasting behavior in `replace` is deprecated and will be removed in a future version. To retain the old behavior, explicitly call `result.infer_objects(copy=False)`. To opt-in to the future behavior, set `pd.set_option('future.no_silent_downcasting', True)`\n",
      "  df_names.loc[df_names['fileA'] == 'drive', 'conceptA_ind'] = df_names.loc[df_names['fileA'] == 'drive', 'conceptA_ind'].replace(drive_dict)\n"
     ]
    }
   ],
   "execution_count": 11
  },
  {
   "metadata": {
    "ExecuteTime": {
     "end_time": "2024-07-24T10:31:29.727755Z",
     "start_time": "2024-07-24T10:31:29.255388Z"
    }
   },
   "cell_type": "code",
   "source": [
    "df_names.loc[df_names['fileA'] == 'mooc', 'conceptB_ind'] = df_names.loc[df_names['fileA'] == 'mooc', 'conceptB_ind'].replace(mooc_dict)\n",
    "df_names.loc[df_names['fileA'] == 'al_cpl', 'conceptB_ind'] = df_names.loc[df_names['fileA'] == 'al_cpl', 'conceptB_ind'].replace(al_cpl_dict)\n",
    "df_names.loc[df_names['fileA'] == 'drive', 'conceptB_ind'] = df_names.loc[df_names['fileA'] == 'drive', 'conceptB_ind'].replace(drive_dict)\n"
   ],
   "id": "8b73f03852127c06",
   "outputs": [
    {
     "name": "stderr",
     "output_type": "stream",
     "text": [
      "C:\\Users\\Luka\\AppData\\Local\\Temp\\ipykernel_10756\\1283734222.py:1: FutureWarning: Downcasting behavior in `replace` is deprecated and will be removed in a future version. To retain the old behavior, explicitly call `result.infer_objects(copy=False)`. To opt-in to the future behavior, set `pd.set_option('future.no_silent_downcasting', True)`\n",
      "  df_names.loc[df_names['fileA'] == 'mooc', 'conceptB_ind'] = df_names.loc[df_names['fileA'] == 'mooc', 'conceptB_ind'].replace(mooc_dict)\n",
      "C:\\Users\\Luka\\AppData\\Local\\Temp\\ipykernel_10756\\1283734222.py:2: FutureWarning: Downcasting behavior in `replace` is deprecated and will be removed in a future version. To retain the old behavior, explicitly call `result.infer_objects(copy=False)`. To opt-in to the future behavior, set `pd.set_option('future.no_silent_downcasting', True)`\n",
      "  df_names.loc[df_names['fileA'] == 'al_cpl', 'conceptB_ind'] = df_names.loc[df_names['fileA'] == 'al_cpl', 'conceptB_ind'].replace(al_cpl_dict)\n",
      "C:\\Users\\Luka\\AppData\\Local\\Temp\\ipykernel_10756\\1283734222.py:3: FutureWarning: Downcasting behavior in `replace` is deprecated and will be removed in a future version. To retain the old behavior, explicitly call `result.infer_objects(copy=False)`. To opt-in to the future behavior, set `pd.set_option('future.no_silent_downcasting', True)`\n",
      "  df_names.loc[df_names['fileA'] == 'drive', 'conceptB_ind'] = df_names.loc[df_names['fileA'] == 'drive', 'conceptB_ind'].replace(drive_dict)\n"
     ]
    }
   ],
   "execution_count": 12
  },
  {
   "metadata": {
    "ExecuteTime": {
     "end_time": "2024-07-24T10:31:30.505745Z",
     "start_time": "2024-07-24T10:31:30.495263Z"
    }
   },
   "cell_type": "code",
   "source": "df_names.head()",
   "id": "c5e5fdacc591ef2f",
   "outputs": [
    {
     "data": {
      "text/plain": [
       "              conceptA             conceptB  isPrerequisite dataset fileA  \\\n",
       "0    activation values  activation function               1  moocML  mooc   \n",
       "1  activation function            back prop               1  moocML  mooc   \n",
       "2  activation function            bias unit               0  moocML  mooc   \n",
       "3  activation function             features               0  moocML  mooc   \n",
       "4  activation function      derivative term               0  moocML  mooc   \n",
       "\n",
       "  fileB conceptA_ind conceptB_ind  \n",
       "0  mooc          128          160  \n",
       "1  mooc          160          417  \n",
       "2  mooc          160          101  \n",
       "3  mooc          160          301  \n",
       "4  mooc          160          120  "
      ],
      "text/html": [
       "<div>\n",
       "<style scoped>\n",
       "    .dataframe tbody tr th:only-of-type {\n",
       "        vertical-align: middle;\n",
       "    }\n",
       "\n",
       "    .dataframe tbody tr th {\n",
       "        vertical-align: top;\n",
       "    }\n",
       "\n",
       "    .dataframe thead th {\n",
       "        text-align: right;\n",
       "    }\n",
       "</style>\n",
       "<table border=\"1\" class=\"dataframe\">\n",
       "  <thead>\n",
       "    <tr style=\"text-align: right;\">\n",
       "      <th></th>\n",
       "      <th>conceptA</th>\n",
       "      <th>conceptB</th>\n",
       "      <th>isPrerequisite</th>\n",
       "      <th>dataset</th>\n",
       "      <th>fileA</th>\n",
       "      <th>fileB</th>\n",
       "      <th>conceptA_ind</th>\n",
       "      <th>conceptB_ind</th>\n",
       "    </tr>\n",
       "  </thead>\n",
       "  <tbody>\n",
       "    <tr>\n",
       "      <th>0</th>\n",
       "      <td>activation values</td>\n",
       "      <td>activation function</td>\n",
       "      <td>1</td>\n",
       "      <td>moocML</td>\n",
       "      <td>mooc</td>\n",
       "      <td>mooc</td>\n",
       "      <td>128</td>\n",
       "      <td>160</td>\n",
       "    </tr>\n",
       "    <tr>\n",
       "      <th>1</th>\n",
       "      <td>activation function</td>\n",
       "      <td>back prop</td>\n",
       "      <td>1</td>\n",
       "      <td>moocML</td>\n",
       "      <td>mooc</td>\n",
       "      <td>mooc</td>\n",
       "      <td>160</td>\n",
       "      <td>417</td>\n",
       "    </tr>\n",
       "    <tr>\n",
       "      <th>2</th>\n",
       "      <td>activation function</td>\n",
       "      <td>bias unit</td>\n",
       "      <td>0</td>\n",
       "      <td>moocML</td>\n",
       "      <td>mooc</td>\n",
       "      <td>mooc</td>\n",
       "      <td>160</td>\n",
       "      <td>101</td>\n",
       "    </tr>\n",
       "    <tr>\n",
       "      <th>3</th>\n",
       "      <td>activation function</td>\n",
       "      <td>features</td>\n",
       "      <td>0</td>\n",
       "      <td>moocML</td>\n",
       "      <td>mooc</td>\n",
       "      <td>mooc</td>\n",
       "      <td>160</td>\n",
       "      <td>301</td>\n",
       "    </tr>\n",
       "    <tr>\n",
       "      <th>4</th>\n",
       "      <td>activation function</td>\n",
       "      <td>derivative term</td>\n",
       "      <td>0</td>\n",
       "      <td>moocML</td>\n",
       "      <td>mooc</td>\n",
       "      <td>mooc</td>\n",
       "      <td>160</td>\n",
       "      <td>120</td>\n",
       "    </tr>\n",
       "  </tbody>\n",
       "</table>\n",
       "</div>"
      ]
     },
     "execution_count": 13,
     "metadata": {},
     "output_type": "execute_result"
    }
   ],
   "execution_count": 13
  },
  {
   "metadata": {
    "ExecuteTime": {
     "end_time": "2024-07-24T10:31:33.594207Z",
     "start_time": "2024-07-24T10:31:33.585731Z"
    }
   },
   "cell_type": "code",
   "source": [
    "df_encoded['fileA'] = df_names['fileA']\n",
    "df_encoded['fileB'] = df_names['fileB']\n",
    "df_encoded['conceptA_ind'] = df_names['conceptA_ind'] \n",
    "df_encoded['conceptB_ind'] = df_names['conceptB_ind'] "
   ],
   "id": "a5d734a5167e2e97",
   "outputs": [],
   "execution_count": 14
  },
  {
   "metadata": {
    "ExecuteTime": {
     "end_time": "2024-07-24T10:31:34.421877Z",
     "start_time": "2024-07-24T10:31:34.416782Z"
    }
   },
   "cell_type": "code",
   "source": "df_names.shape, df_encoded.shape",
   "id": "c57559a9c3f6dc7a",
   "outputs": [
    {
     "data": {
      "text/plain": [
       "((18578, 8), (18578, 8))"
      ]
     },
     "execution_count": 15,
     "metadata": {},
     "output_type": "execute_result"
    }
   ],
   "execution_count": 15
  },
  {
   "metadata": {
    "ExecuteTime": {
     "end_time": "2024-07-24T10:31:35.801483Z",
     "start_time": "2024-07-24T10:31:35.778042Z"
    }
   },
   "cell_type": "code",
   "source": [
    "df_1 = df_encoded.drop_duplicates(subset=['conceptA', 'conceptB', 'dataset']).reset_index(drop=True)\n",
    "df_2 = df_names.drop_duplicates(subset=['conceptA', 'conceptB', 'dataset']).reset_index(drop=True)"
   ],
   "id": "38af4a898a7cb645",
   "outputs": [],
   "execution_count": 16
  },
  {
   "metadata": {
    "ExecuteTime": {
     "end_time": "2024-07-24T10:31:37.067680Z",
     "start_time": "2024-07-24T10:31:37.062694Z"
    }
   },
   "cell_type": "code",
   "source": "DATA_PATH + UNITED_DATA_FOLDER",
   "id": "cbc81bc2323e8dcb",
   "outputs": [
    {
     "data": {
      "text/plain": [
       "'C:/Users/Luka/Documents/University/bachelor-project-prerequisite-learning/data/united_data/'"
      ]
     },
     "execution_count": 17,
     "metadata": {},
     "output_type": "execute_result"
    }
   ],
   "execution_count": 17
  },
  {
   "metadata": {
    "ExecuteTime": {
     "end_time": "2024-07-24T10:31:37.824945Z",
     "start_time": "2024-07-24T10:31:37.700484Z"
    }
   },
   "cell_type": "code",
   "source": [
    "df_1.to_csv(DATA_PATH + UNITED_DATA_FOLDER + 'united_data_encoded_embeddings.csv')\n",
    "df_2.to_csv(DATA_PATH + UNITED_DATA_FOLDER + 'united_data_embeddings.csv')"
   ],
   "id": "3333a2bc3e97ae11",
   "outputs": [],
   "execution_count": 18
  },
  {
   "metadata": {},
   "cell_type": "markdown",
   "source": "# Train/Test Split",
   "id": "fb6eb03aee2bffb2"
  },
  {
   "metadata": {
    "ExecuteTime": {
     "end_time": "2024-07-24T10:31:40.159969Z",
     "start_time": "2024-07-24T10:31:40.149636Z"
    }
   },
   "cell_type": "code",
   "source": [
    "df = df_1\n",
    "\n",
    "df.head()"
   ],
   "id": "74572e36e5835936",
   "outputs": [
    {
     "data": {
      "text/plain": [
       "   conceptA  conceptB  isPrerequisite dataset fileA fileB conceptA_ind  \\\n",
       "0      1076      1562               1  moocML  mooc  mooc          128   \n",
       "1      1347       855               1  moocML  mooc  mooc          160   \n",
       "2      1347       516               0  moocML  mooc  mooc          160   \n",
       "3      1347      1274               0  moocML  mooc  mooc          160   \n",
       "4      1347       443               0  moocML  mooc  mooc          160   \n",
       "\n",
       "  conceptB_ind  \n",
       "0          160  \n",
       "1          417  \n",
       "2          101  \n",
       "3          301  \n",
       "4          120  "
      ],
      "text/html": [
       "<div>\n",
       "<style scoped>\n",
       "    .dataframe tbody tr th:only-of-type {\n",
       "        vertical-align: middle;\n",
       "    }\n",
       "\n",
       "    .dataframe tbody tr th {\n",
       "        vertical-align: top;\n",
       "    }\n",
       "\n",
       "    .dataframe thead th {\n",
       "        text-align: right;\n",
       "    }\n",
       "</style>\n",
       "<table border=\"1\" class=\"dataframe\">\n",
       "  <thead>\n",
       "    <tr style=\"text-align: right;\">\n",
       "      <th></th>\n",
       "      <th>conceptA</th>\n",
       "      <th>conceptB</th>\n",
       "      <th>isPrerequisite</th>\n",
       "      <th>dataset</th>\n",
       "      <th>fileA</th>\n",
       "      <th>fileB</th>\n",
       "      <th>conceptA_ind</th>\n",
       "      <th>conceptB_ind</th>\n",
       "    </tr>\n",
       "  </thead>\n",
       "  <tbody>\n",
       "    <tr>\n",
       "      <th>0</th>\n",
       "      <td>1076</td>\n",
       "      <td>1562</td>\n",
       "      <td>1</td>\n",
       "      <td>moocML</td>\n",
       "      <td>mooc</td>\n",
       "      <td>mooc</td>\n",
       "      <td>128</td>\n",
       "      <td>160</td>\n",
       "    </tr>\n",
       "    <tr>\n",
       "      <th>1</th>\n",
       "      <td>1347</td>\n",
       "      <td>855</td>\n",
       "      <td>1</td>\n",
       "      <td>moocML</td>\n",
       "      <td>mooc</td>\n",
       "      <td>mooc</td>\n",
       "      <td>160</td>\n",
       "      <td>417</td>\n",
       "    </tr>\n",
       "    <tr>\n",
       "      <th>2</th>\n",
       "      <td>1347</td>\n",
       "      <td>516</td>\n",
       "      <td>0</td>\n",
       "      <td>moocML</td>\n",
       "      <td>mooc</td>\n",
       "      <td>mooc</td>\n",
       "      <td>160</td>\n",
       "      <td>101</td>\n",
       "    </tr>\n",
       "    <tr>\n",
       "      <th>3</th>\n",
       "      <td>1347</td>\n",
       "      <td>1274</td>\n",
       "      <td>0</td>\n",
       "      <td>moocML</td>\n",
       "      <td>mooc</td>\n",
       "      <td>mooc</td>\n",
       "      <td>160</td>\n",
       "      <td>301</td>\n",
       "    </tr>\n",
       "    <tr>\n",
       "      <th>4</th>\n",
       "      <td>1347</td>\n",
       "      <td>443</td>\n",
       "      <td>0</td>\n",
       "      <td>moocML</td>\n",
       "      <td>mooc</td>\n",
       "      <td>mooc</td>\n",
       "      <td>160</td>\n",
       "      <td>120</td>\n",
       "    </tr>\n",
       "  </tbody>\n",
       "</table>\n",
       "</div>"
      ]
     },
     "execution_count": 19,
     "metadata": {},
     "output_type": "execute_result"
    }
   ],
   "execution_count": 19
  },
  {
   "metadata": {
    "ExecuteTime": {
     "end_time": "2024-07-24T10:31:51.119281Z",
     "start_time": "2024-07-24T10:31:51.108756Z"
    }
   },
   "cell_type": "code",
   "source": "df['dataset'].value_counts()",
   "id": "21aa147fba55bb98",
   "outputs": [
    {
     "data": {
      "text/plain": [
       "dataset\n",
       "moocML     6712\n",
       "al_cpl     6375\n",
       "drive      2797\n",
       "moocDSA    2539\n",
       "Name: count, dtype: int64"
      ]
     },
     "execution_count": 20,
     "metadata": {},
     "output_type": "execute_result"
    }
   ],
   "execution_count": 20
  },
  {
   "metadata": {
    "ExecuteTime": {
     "end_time": "2024-07-24T10:32:00.168252Z",
     "start_time": "2024-07-24T10:32:00.155727Z"
    }
   },
   "cell_type": "code",
   "source": "concepts = list(set(list(df['conceptA']) + list(df['conceptB'])))",
   "id": "d020f0232c4051b3",
   "outputs": [],
   "execution_count": 21
  },
  {
   "metadata": {
    "ExecuteTime": {
     "end_time": "2024-07-24T10:32:40.340547Z",
     "start_time": "2024-07-24T10:32:40.318681Z"
    }
   },
   "cell_type": "code",
   "source": "train, test = train_test_split(df, test_size=0.2, random_state=SEED, stratify=df['dataset'])",
   "id": "943f0108cb86d6ba",
   "outputs": [],
   "execution_count": 23
  },
  {
   "metadata": {
    "ExecuteTime": {
     "end_time": "2024-07-24T10:33:22.302458Z",
     "start_time": "2024-07-24T10:33:22.292615Z"
    }
   },
   "cell_type": "code",
   "source": [
    "df.loc[train.index, '_split_set'] = 'train'\n",
    "df.loc[test.index, '_split_set'] = 'test'"
   ],
   "id": "74bb39befda2e348",
   "outputs": [],
   "execution_count": 24
  },
  {
   "metadata": {
    "ExecuteTime": {
     "end_time": "2024-07-24T10:33:31.450389Z",
     "start_time": "2024-07-24T10:33:31.438666Z"
    }
   },
   "cell_type": "code",
   "source": "df.head()",
   "id": "226e6fbc2ebe5353",
   "outputs": [
    {
     "data": {
      "text/plain": [
       "   conceptA  conceptB  isPrerequisite dataset fileA fileB conceptA_ind  \\\n",
       "0      1076      1562               1  moocML  mooc  mooc          128   \n",
       "1      1347       855               1  moocML  mooc  mooc          160   \n",
       "2      1347       516               0  moocML  mooc  mooc          160   \n",
       "3      1347      1274               0  moocML  mooc  mooc          160   \n",
       "4      1347       443               0  moocML  mooc  mooc          160   \n",
       "\n",
       "  conceptB_ind _split_set  \n",
       "0          160      train  \n",
       "1          417      train  \n",
       "2          101       test  \n",
       "3          301      train  \n",
       "4          120      train  "
      ],
      "text/html": [
       "<div>\n",
       "<style scoped>\n",
       "    .dataframe tbody tr th:only-of-type {\n",
       "        vertical-align: middle;\n",
       "    }\n",
       "\n",
       "    .dataframe tbody tr th {\n",
       "        vertical-align: top;\n",
       "    }\n",
       "\n",
       "    .dataframe thead th {\n",
       "        text-align: right;\n",
       "    }\n",
       "</style>\n",
       "<table border=\"1\" class=\"dataframe\">\n",
       "  <thead>\n",
       "    <tr style=\"text-align: right;\">\n",
       "      <th></th>\n",
       "      <th>conceptA</th>\n",
       "      <th>conceptB</th>\n",
       "      <th>isPrerequisite</th>\n",
       "      <th>dataset</th>\n",
       "      <th>fileA</th>\n",
       "      <th>fileB</th>\n",
       "      <th>conceptA_ind</th>\n",
       "      <th>conceptB_ind</th>\n",
       "      <th>_split_set</th>\n",
       "    </tr>\n",
       "  </thead>\n",
       "  <tbody>\n",
       "    <tr>\n",
       "      <th>0</th>\n",
       "      <td>1076</td>\n",
       "      <td>1562</td>\n",
       "      <td>1</td>\n",
       "      <td>moocML</td>\n",
       "      <td>mooc</td>\n",
       "      <td>mooc</td>\n",
       "      <td>128</td>\n",
       "      <td>160</td>\n",
       "      <td>train</td>\n",
       "    </tr>\n",
       "    <tr>\n",
       "      <th>1</th>\n",
       "      <td>1347</td>\n",
       "      <td>855</td>\n",
       "      <td>1</td>\n",
       "      <td>moocML</td>\n",
       "      <td>mooc</td>\n",
       "      <td>mooc</td>\n",
       "      <td>160</td>\n",
       "      <td>417</td>\n",
       "      <td>train</td>\n",
       "    </tr>\n",
       "    <tr>\n",
       "      <th>2</th>\n",
       "      <td>1347</td>\n",
       "      <td>516</td>\n",
       "      <td>0</td>\n",
       "      <td>moocML</td>\n",
       "      <td>mooc</td>\n",
       "      <td>mooc</td>\n",
       "      <td>160</td>\n",
       "      <td>101</td>\n",
       "      <td>test</td>\n",
       "    </tr>\n",
       "    <tr>\n",
       "      <th>3</th>\n",
       "      <td>1347</td>\n",
       "      <td>1274</td>\n",
       "      <td>0</td>\n",
       "      <td>moocML</td>\n",
       "      <td>mooc</td>\n",
       "      <td>mooc</td>\n",
       "      <td>160</td>\n",
       "      <td>301</td>\n",
       "      <td>train</td>\n",
       "    </tr>\n",
       "    <tr>\n",
       "      <th>4</th>\n",
       "      <td>1347</td>\n",
       "      <td>443</td>\n",
       "      <td>0</td>\n",
       "      <td>moocML</td>\n",
       "      <td>mooc</td>\n",
       "      <td>mooc</td>\n",
       "      <td>160</td>\n",
       "      <td>120</td>\n",
       "      <td>train</td>\n",
       "    </tr>\n",
       "  </tbody>\n",
       "</table>\n",
       "</div>"
      ]
     },
     "execution_count": 25,
     "metadata": {},
     "output_type": "execute_result"
    }
   ],
   "execution_count": 25
  },
  {
   "metadata": {
    "ExecuteTime": {
     "end_time": "2024-07-24T10:33:42.029067Z",
     "start_time": "2024-07-24T10:33:42.023937Z"
    }
   },
   "cell_type": "code",
   "source": "train.shape, test.shape",
   "id": "44db7d1febbe45e9",
   "outputs": [
    {
     "data": {
      "text/plain": [
       "((14738, 8), (3685, 8))"
      ]
     },
     "execution_count": 26,
     "metadata": {},
     "output_type": "execute_result"
    }
   ],
   "execution_count": 26
  },
  {
   "metadata": {
    "ExecuteTime": {
     "end_time": "2024-07-24T10:33:59.309957Z",
     "start_time": "2024-07-24T10:33:59.300561Z"
    }
   },
   "cell_type": "code",
   "source": [
    "train_conceptA = list(set(list(train['conceptA'])))\n",
    "train_conceptB = list(set(list(train['conceptB'])))\n",
    "test_conceptA = list(set(list(test['conceptA'])))\n",
    "test_conceptB = list(set(list(test['conceptB'])))"
   ],
   "id": "1f84617c6ef208fb",
   "outputs": [],
   "execution_count": 27
  },
  {
   "metadata": {
    "ExecuteTime": {
     "end_time": "2024-07-24T10:34:09.076404Z",
     "start_time": "2024-07-24T10:34:09.064352Z"
    }
   },
   "cell_type": "code",
   "source": "train['dataset'].value_counts() / test['dataset'].value_counts()",
   "id": "d18db5dec7b2244a",
   "outputs": [
    {
     "data": {
      "text/plain": [
       "dataset\n",
       "moocML     3.997766\n",
       "al_cpl     4.000000\n",
       "drive      4.003578\n",
       "moocDSA    3.998031\n",
       "Name: count, dtype: float64"
      ]
     },
     "execution_count": 28,
     "metadata": {},
     "output_type": "execute_result"
    }
   ],
   "execution_count": 28
  },
  {
   "metadata": {
    "ExecuteTime": {
     "end_time": "2024-07-24T10:34:17.598656Z",
     "start_time": "2024-07-24T10:34:17.578140Z"
    }
   },
   "cell_type": "code",
   "source": [
    "a = [x for x in test_conceptA if x not in train_conceptA]\n",
    "b = [x for x in test_conceptB if x not in train_conceptB]"
   ],
   "id": "b0b3a08a50d13ab8",
   "outputs": [],
   "execution_count": 29
  },
  {
   "metadata": {
    "ExecuteTime": {
     "end_time": "2024-07-24T10:34:23.352048Z",
     "start_time": "2024-07-24T10:34:23.343903Z"
    }
   },
   "cell_type": "code",
   "source": [
    "maskA = test['conceptA'].isin(a)\n",
    "maskB = test['conceptB'].isin(b)"
   ],
   "id": "543304131e53cace",
   "outputs": [],
   "execution_count": 30
  },
  {
   "metadata": {
    "ExecuteTime": {
     "end_time": "2024-07-24T10:34:30.492079Z",
     "start_time": "2024-07-24T10:34:30.480388Z"
    }
   },
   "cell_type": "code",
   "source": [
    "train = pd.concat([train, test[maskA | maskB]], axis=0)\n",
    "test.drop(index=test[maskA | maskB].index, inplace=True)"
   ],
   "id": "853928ed8323a522",
   "outputs": [],
   "execution_count": 31
  },
  {
   "metadata": {
    "ExecuteTime": {
     "end_time": "2024-07-24T10:34:37.835112Z",
     "start_time": "2024-07-24T10:34:37.828712Z"
    }
   },
   "cell_type": "code",
   "source": "train.shape, test.shape",
   "id": "541e8da3f7332cad",
   "outputs": [
    {
     "data": {
      "text/plain": [
       "((14846, 8), (3577, 8))"
      ]
     },
     "execution_count": 32,
     "metadata": {},
     "output_type": "execute_result"
    }
   ],
   "execution_count": 32
  },
  {
   "metadata": {
    "ExecuteTime": {
     "end_time": "2024-07-24T10:36:31.880301Z",
     "start_time": "2024-07-24T10:36:31.758985Z"
    }
   },
   "cell_type": "code",
   "source": [
    "train.sort_values(by=['conceptA']).to_csv(DATA_PATH + TRAIN_TEST_FOLDER + 'train.csv', index=False)\n",
    "test.sort_values(by=['conceptA']).to_csv(DATA_PATH + TRAIN_TEST_FOLDER + 'test.csv', index=False)\n",
    "\n",
    "df.to_csv(DATA_PATH + UNITED_DATA_FOLDER + 'united_data_encoded_embeddings_split_set.csv', index=False)"
   ],
   "id": "9818b68c56c49cc",
   "outputs": [],
   "execution_count": 35
  },
  {
   "metadata": {},
   "cell_type": "code",
   "outputs": [],
   "execution_count": null,
   "source": "",
   "id": "15a6e74fec9c4b7"
  }
 ],
 "metadata": {
  "kernelspec": {
   "display_name": "Python 3",
   "language": "python",
   "name": "python3"
  },
  "language_info": {
   "codemirror_mode": {
    "name": "ipython",
    "version": 2
   },
   "file_extension": ".py",
   "mimetype": "text/x-python",
   "name": "python",
   "nbconvert_exporter": "python",
   "pygments_lexer": "ipython2",
   "version": "2.7.6"
  }
 },
 "nbformat": 4,
 "nbformat_minor": 5
}
