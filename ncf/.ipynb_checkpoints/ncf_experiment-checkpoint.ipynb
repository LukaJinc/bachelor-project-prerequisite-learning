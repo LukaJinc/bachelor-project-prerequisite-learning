{
 "cells": [
  {
   "cell_type": "code",
   "metadata": {
    "ExecuteTime": {
     "end_time": "2024-06-27T20:27:22.403774Z",
     "start_time": "2024-06-27T20:27:07.578624Z"
    }
   },
   "source": [
    "import sys\n",
    "\n",
    "import numpy as np\n",
    "import tensorflow as tf\n",
    "tf.get_logger().setLevel('ERROR') # only show error messages\n",
    "\n",
    "import pandas as pd\n",
    "from ncf import NCF\n",
    "from dataset import Dataset as NCFDataset\n",
    "from sklearn.model_selection import train_test_split\n",
    "from sklearn.metrics import classification_report, precision_score, recall_score, f1_score\n",
    "\n",
    "print(\"System version: {}\".format(sys.version))\n",
    "print(\"Pandas version: {}\".format(pd.__version__))\n",
    "print(\"Tensorflow version: {}\".format(tf.__version__))"
   ],
   "outputs": [
    {
     "name": "stdout",
     "output_type": "stream",
     "text": [
      "System version: 3.11.2 (tags/v3.11.2:878ead1, Feb  7 2023, 16:38:35) [MSC v.1934 64 bit (AMD64)]\n",
      "Pandas version: 2.2.1\n",
      "Tensorflow version: 2.16.1\n"
     ]
    }
   ],
   "execution_count": 1
  },
  {
   "cell_type": "code",
   "metadata": {
    "tags": [
     "parameters"
    ],
    "ExecuteTime": {
     "end_time": "2024-06-27T20:27:25.534329Z",
     "start_time": "2024-06-27T20:27:25.529988Z"
    }
   },
   "source": [
    "# top k items to recommend\n",
    "TOP_K = 10\n",
    "THRESHOLD = 0.29\n",
    "\n",
    "# Model parameters\n",
    "EPOCHS = 50\n",
    "BATCH_SIZE = 256\n",
    "\n",
    "SEED = 42\n",
    "PATH = 'C:/Users/Luka/Documents/University/bachelor-project-prerequisite-learning/generated_data'"
   ],
   "outputs": [],
   "execution_count": 2
  },
  {
   "metadata": {},
   "cell_type": "markdown",
   "source": "# Train/Test Split"
  },
  {
   "cell_type": "code",
   "metadata": {
    "ExecuteTime": {
     "end_time": "2024-06-27T20:27:53.369864Z",
     "start_time": "2024-06-27T20:27:53.307876Z"
    }
   },
   "source": [
    "df = pd.read_csv(PATH + '/united_data_encoded.csv')\n",
    "\n",
    "df.head()"
   ],
   "outputs": [
    {
     "data": {
      "text/plain": [
       "   conceptA  conceptB  isPrerequisite dataset\n",
       "0      1076      1562               1  moocML\n",
       "1      1347       855               1  moocML\n",
       "2      1347       516               0  moocML\n",
       "3      1347      1274               0  moocML\n",
       "4      1347       443               0  moocML"
      ],
      "text/html": [
       "<div>\n",
       "<style scoped>\n",
       "    .dataframe tbody tr th:only-of-type {\n",
       "        vertical-align: middle;\n",
       "    }\n",
       "\n",
       "    .dataframe tbody tr th {\n",
       "        vertical-align: top;\n",
       "    }\n",
       "\n",
       "    .dataframe thead th {\n",
       "        text-align: right;\n",
       "    }\n",
       "</style>\n",
       "<table border=\"1\" class=\"dataframe\">\n",
       "  <thead>\n",
       "    <tr style=\"text-align: right;\">\n",
       "      <th></th>\n",
       "      <th>conceptA</th>\n",
       "      <th>conceptB</th>\n",
       "      <th>isPrerequisite</th>\n",
       "      <th>dataset</th>\n",
       "    </tr>\n",
       "  </thead>\n",
       "  <tbody>\n",
       "    <tr>\n",
       "      <th>0</th>\n",
       "      <td>1076</td>\n",
       "      <td>1562</td>\n",
       "      <td>1</td>\n",
       "      <td>moocML</td>\n",
       "    </tr>\n",
       "    <tr>\n",
       "      <th>1</th>\n",
       "      <td>1347</td>\n",
       "      <td>855</td>\n",
       "      <td>1</td>\n",
       "      <td>moocML</td>\n",
       "    </tr>\n",
       "    <tr>\n",
       "      <th>2</th>\n",
       "      <td>1347</td>\n",
       "      <td>516</td>\n",
       "      <td>0</td>\n",
       "      <td>moocML</td>\n",
       "    </tr>\n",
       "    <tr>\n",
       "      <th>3</th>\n",
       "      <td>1347</td>\n",
       "      <td>1274</td>\n",
       "      <td>0</td>\n",
       "      <td>moocML</td>\n",
       "    </tr>\n",
       "    <tr>\n",
       "      <th>4</th>\n",
       "      <td>1347</td>\n",
       "      <td>443</td>\n",
       "      <td>0</td>\n",
       "      <td>moocML</td>\n",
       "    </tr>\n",
       "  </tbody>\n",
       "</table>\n",
       "</div>"
      ]
     },
     "execution_count": 3,
     "metadata": {},
     "output_type": "execute_result"
    }
   ],
   "execution_count": 3
  },
  {
   "metadata": {
    "ExecuteTime": {
     "end_time": "2024-06-27T20:27:55.214034Z",
     "start_time": "2024-06-27T20:27:55.205234Z"
    }
   },
   "cell_type": "code",
   "source": "df['dataset'].value_counts()",
   "outputs": [
    {
     "data": {
      "text/plain": [
       "dataset\n",
       "moocML     6712\n",
       "al_cpl     6529\n",
       "drive      2797\n",
       "moocDSA    2540\n",
       "Name: count, dtype: int64"
      ]
     },
     "execution_count": 4,
     "metadata": {},
     "output_type": "execute_result"
    }
   ],
   "execution_count": 4
  },
  {
   "metadata": {
    "ExecuteTime": {
     "end_time": "2024-06-27T20:27:57.594186Z",
     "start_time": "2024-06-27T20:27:57.583185Z"
    }
   },
   "cell_type": "code",
   "source": "concepts = list(set(list(df['conceptA']) + list(df['conceptB'])))",
   "outputs": [],
   "execution_count": 5
  },
  {
   "metadata": {
    "ExecuteTime": {
     "end_time": "2024-06-27T20:27:58.096973Z",
     "start_time": "2024-06-27T20:27:58.070281Z"
    }
   },
   "cell_type": "code",
   "source": "train, test = train_test_split(df, test_size=0.1, random_state=SEED, stratify=df['dataset'])",
   "outputs": [],
   "execution_count": 6
  },
  {
   "metadata": {
    "ExecuteTime": {
     "end_time": "2024-06-27T20:27:58.494406Z",
     "start_time": "2024-06-27T20:27:58.480649Z"
    }
   },
   "cell_type": "code",
   "source": [
    "df.loc[train.index, '_split_set'] = 'train'\n",
    "df.loc[test.index, '_split_set'] = 'test'"
   ],
   "outputs": [],
   "execution_count": 7
  },
  {
   "metadata": {
    "ExecuteTime": {
     "end_time": "2024-06-27T20:28:00.030236Z",
     "start_time": "2024-06-27T20:28:00.025568Z"
    }
   },
   "cell_type": "code",
   "source": "train.shape, test.shape",
   "outputs": [
    {
     "data": {
      "text/plain": [
       "((16720, 4), (1858, 4))"
      ]
     },
     "execution_count": 8,
     "metadata": {},
     "output_type": "execute_result"
    }
   ],
   "execution_count": 8
  },
  {
   "metadata": {
    "ExecuteTime": {
     "end_time": "2024-06-27T20:28:01.107617Z",
     "start_time": "2024-06-27T20:28:01.096982Z"
    }
   },
   "cell_type": "code",
   "source": [
    "train_conceptA = list(set(list(train['conceptA'])))\n",
    "train_conceptB = list(set(list(train['conceptB'])))\n",
    "test_conceptA = list(set(list(test['conceptA'])))\n",
    "test_conceptB = list(set(list(test['conceptB'])))"
   ],
   "outputs": [],
   "execution_count": 9
  },
  {
   "metadata": {
    "ExecuteTime": {
     "end_time": "2024-06-27T20:28:02.646730Z",
     "start_time": "2024-06-27T20:28:02.636969Z"
    }
   },
   "cell_type": "code",
   "source": "train['dataset'].value_counts() / test['dataset'].value_counts()",
   "outputs": [
    {
     "data": {
      "text/plain": [
       "dataset\n",
       "moocML     9.002981\n",
       "al_cpl     8.998469\n",
       "drive      8.989286\n",
       "moocDSA    9.000000\n",
       "Name: count, dtype: float64"
      ]
     },
     "execution_count": 10,
     "metadata": {},
     "output_type": "execute_result"
    }
   ],
   "execution_count": 10
  },
  {
   "metadata": {
    "ExecuteTime": {
     "end_time": "2024-06-27T20:28:04.511859Z",
     "start_time": "2024-06-27T20:28:04.496949Z"
    }
   },
   "cell_type": "code",
   "source": [
    "a = [x for x in test_conceptA if x not in train_conceptA]\n",
    "b = [x for x in test_conceptB if x not in train_conceptB]"
   ],
   "outputs": [],
   "execution_count": 11
  },
  {
   "metadata": {
    "ExecuteTime": {
     "end_time": "2024-06-27T20:28:05.309843Z",
     "start_time": "2024-06-27T20:28:05.300740Z"
    }
   },
   "cell_type": "code",
   "source": [
    "maskA = test['conceptA'].isin(a)\n",
    "maskB = test['conceptB'].isin(b)"
   ],
   "outputs": [],
   "execution_count": 12
  },
  {
   "metadata": {
    "ExecuteTime": {
     "end_time": "2024-06-27T20:28:06.242057Z",
     "start_time": "2024-06-27T20:28:06.231065Z"
    }
   },
   "cell_type": "code",
   "source": [
    "train = pd.concat([train, test[maskA | maskB]], axis=0)\n",
    "test.drop(index=test[maskA | maskB].index, inplace=True)"
   ],
   "outputs": [],
   "execution_count": 13
  },
  {
   "metadata": {
    "ExecuteTime": {
     "end_time": "2024-06-27T20:28:07.192169Z",
     "start_time": "2024-06-27T20:28:07.184933Z"
    }
   },
   "cell_type": "code",
   "source": "train.shape, test.shape",
   "outputs": [
    {
     "data": {
      "text/plain": [
       "((16766, 4), (1812, 4))"
      ]
     },
     "execution_count": 14,
     "metadata": {},
     "output_type": "execute_result"
    }
   ],
   "execution_count": 14
  },
  {
   "cell_type": "markdown",
   "metadata": {},
   "source": [
    "Write datasets to csv files."
   ]
  },
  {
   "cell_type": "code",
   "metadata": {
    "ExecuteTime": {
     "end_time": "2024-06-27T20:28:12.080241Z",
     "start_time": "2024-06-27T20:28:12.043924Z"
    }
   },
   "source": [
    "train_file = PATH + f\"/united_train_{SEED}_encoded_stratify.csv\"\n",
    "test_file = PATH + f\"/united_test_{SEED}_encoded_stratify.csv\"\n",
    "train.sort_values(by=['conceptA']).to_csv(train_file, index=False)\n",
    "test.sort_values(by=['conceptA']).to_csv(test_file, index=False)"
   ],
   "outputs": [],
   "execution_count": 15
  },
  {
   "cell_type": "code",
   "metadata": {
    "ExecuteTime": {
     "end_time": "2024-06-27T20:28:30.060722Z",
     "start_time": "2024-06-27T20:28:29.973856Z"
    }
   },
   "source": "data = NCFDataset(train_file=train_file, seed=SEED, col_user='conceptA', col_item='conceptB')",
   "outputs": [
    {
     "name": "stderr",
     "output_type": "stream",
     "text": [
      "INFO:dataset:Indexing C:/Users/Luka/Documents/University/bachelor-project-prerequisite-learning/generated_data/united_train_42_encoded_stratify.csv ...\n"
     ]
    }
   ],
   "execution_count": 16
  },
  {
   "metadata": {
    "ExecuteTime": {
     "end_time": "2024-06-27T20:28:34.264469Z",
     "start_time": "2024-06-27T20:28:34.257588Z"
    }
   },
   "cell_type": "code",
   "source": "train['conceptA'].nunique(), train['conceptB'].nunique()",
   "outputs": [
    {
     "data": {
      "text/plain": [
       "(1384, 1600)"
      ]
     },
     "execution_count": 17,
     "metadata": {},
     "output_type": "execute_result"
    }
   ],
   "execution_count": 17
  },
  {
   "metadata": {
    "ExecuteTime": {
     "end_time": "2024-06-05T20:56:01.198426Z",
     "start_time": "2024-06-05T20:56:01.190110Z"
    }
   },
   "cell_type": "code",
   "source": "data.n_users, data.n_items",
   "outputs": [
    {
     "data": {
      "text/plain": [
       "(1384, 1600)"
      ]
     },
     "execution_count": 18,
     "metadata": {},
     "output_type": "execute_result"
    }
   ],
   "execution_count": 18
  },
  {
   "cell_type": "code",
   "metadata": {
    "ExecuteTime": {
     "end_time": "2024-06-05T20:56:04.419213Z",
     "start_time": "2024-06-05T20:56:01.203562Z"
    }
   },
   "source": [
    "model = NCF(\n",
    "    n_users=data.n_users, \n",
    "    n_items=data.n_items,\n",
    "    model_type=\"NeuMF\",\n",
    "    n_factors=16,\n",
    "    # previously 32\n",
    "    layer_sizes=[8,4],\n",
    "    # previously 16, 8, 4\n",
    "    n_epochs=EPOCHS,\n",
    "    batch_size=BATCH_SIZE,\n",
    "    learning_rate=1e-3,\n",
    "    verbose=10,\n",
    "    seed=SEED\n",
    ")"
   ],
   "outputs": [
    {
     "name": "stderr",
     "output_type": "stream",
     "text": [
      "C:\\Users\\Luka\\Documents\\University\\bachelor-project-prerequisite-learning\\venv\\Lib\\site-packages\\tensorflow\\python\\keras\\engine\\base_layer_v1.py:1694: UserWarning: `layer.apply` is deprecated and will be removed in a future version. Please use `layer.__call__` method instead.\n",
      "  warnings.warn('`layer.apply` is deprecated and '\n"
     ]
    }
   ],
   "execution_count": 19
  },
  {
   "cell_type": "code",
   "metadata": {
    "ExecuteTime": {
     "end_time": "2024-06-05T20:59:44.197293Z",
     "start_time": "2024-06-05T20:56:04.438130Z"
    }
   },
   "source": [
    "%%time\n",
    "\n",
    "model.fit(data)"
   ],
   "outputs": [
    {
     "name": "stderr",
     "output_type": "stream",
     "text": [
      "INFO:ncf:Epoch 10 [3.85s]: train_loss = 0.084780 \n",
      "INFO:ncf:Epoch 20 [4.14s]: train_loss = 0.031712 \n",
      "INFO:ncf:Epoch 30 [4.18s]: train_loss = 0.013488 \n",
      "INFO:ncf:Epoch 40 [3.79s]: train_loss = 0.007126 \n",
      "INFO:ncf:Epoch 50 [3.73s]: train_loss = 0.004529 \n"
     ]
    },
    {
     "name": "stdout",
     "output_type": "stream",
     "text": [
      "CPU times: total: 3min 56s\n",
      "Wall time: 3min 39s\n"
     ]
    }
   ],
   "execution_count": 20
  },
  {
   "metadata": {},
   "cell_type": "markdown",
   "source": "## Cross-Validation"
  },
  {
   "metadata": {
    "ExecuteTime": {
     "end_time": "2024-06-05T22:55:12.063432Z",
     "start_time": "2024-06-05T22:55:11.808217Z"
    }
   },
   "cell_type": "code",
   "source": [
    "from sklearn.model_selection import StratifiedKFold\n",
    "\n",
    "n_splits = 5\n",
    "skf = StratifiedKFold(n_splits=n_splits, random_state=SEED, shuffle=True)\n",
    "\n",
    "X = train[['conceptA', 'conceptB']]\n",
    "y = train['isPrerequisite']\n",
    "\n",
    "i = 0\n",
    "for train_index, test_index in skf.split(X, y):\n",
    "    train_cv = train.iloc[train_index]\n",
    "    test_cv = train.iloc[test_index] \n",
    "    train_file = PATH + f\"/cross_validation_train_{i}_split_{n_splits}.csv\"\n",
    "    test_file = PATH + f\"/cross_validation_test_{i}_split_{n_splits}.csv\"\n",
    "    i += 1\n",
    "    \n",
    "    train_conceptA = list(set(list(train_cv['conceptA'])))\n",
    "    train_conceptB = list(set(list(train_cv['conceptB'])))\n",
    "    test_conceptA = list(set(list(test_cv['conceptA'])))\n",
    "    test_conceptB = list(set(list(test_cv['conceptB'])))\n",
    "    \n",
    "    a = [x for x in test_conceptA if x not in train_conceptA]\n",
    "    b = [x for x in test_conceptB if x not in train_conceptB]\n",
    "    \n",
    "    maskA = test_cv['conceptA'].isin(a)\n",
    "    maskB = test_cv['conceptB'].isin(b)\n",
    "    \n",
    "    train_cv = pd.concat([train_cv, test_cv[maskA | maskB]], axis=0)\n",
    "    test_cv.drop(index=test_cv[maskA | maskB].index, inplace=True)\n",
    "    \n",
    "    train_cv.sort_values(by=['conceptA']).to_csv(train_file, index=False)\n",
    "    test_cv.sort_values(by=['conceptA']).to_csv(test_file, index=False)"
   ],
   "outputs": [
    {
     "name": "stderr",
     "output_type": "stream",
     "text": [
      "C:\\Users\\Luka\\AppData\\Local\\Temp\\ipykernel_18888\\297690843.py:29: SettingWithCopyWarning: \n",
      "A value is trying to be set on a copy of a slice from a DataFrame\n",
      "\n",
      "See the caveats in the documentation: https://pandas.pydata.org/pandas-docs/stable/user_guide/indexing.html#returning-a-view-versus-a-copy\n",
      "  test_cv.drop(index=test_cv[maskA | maskB].index, inplace=True)\n"
     ]
    }
   ],
   "execution_count": 40
  },
  {
   "metadata": {
    "ExecuteTime": {
     "end_time": "2024-06-05T23:11:09.006427Z",
     "start_time": "2024-06-05T23:02:12.326054Z"
    }
   },
   "cell_type": "code",
   "source": [
    "for i in range(n_splits):\n",
    "    model_cv = NCF(\n",
    "        n_users=data.n_users,\n",
    "        n_items=data.n_items,\n",
    "        model_type=\"NeuMF\",\n",
    "        n_factors=16,\n",
    "        # previously 32\n",
    "        layer_sizes=[8, 4],\n",
    "        # previously 16, 8, 4\n",
    "        n_epochs=EPOCHS,\n",
    "        batch_size=BATCH_SIZE,\n",
    "        learning_rate=1e-3,\n",
    "        verbose=10,\n",
    "        seed=SEED\n",
    "    )\n",
    "    \n",
    "    train_file = PATH + f\"/cross_validation_train_{i}_split_{n_splits}.csv\"\n",
    "    test_file = PATH + f\"/cross_validation_test_{i}_split_{n_splits}.csv\"\n",
    "    train_cv = NCFDataset(train_file=train_file, seed=SEED, col_user='conceptA', col_item='conceptB')\n",
    "    model_cv.fit(train_cv)\n",
    "    \n",
    "    test_cv = pd.read_csv(test_file)\n",
    "    predictions = [[row.conceptA, row.conceptB, model.predict(row.conceptA, row.conceptB)]\n",
    "               for (_, row) in test_cv.iterrows()]\n",
    "\n",
    "    predictions = pd.DataFrame(predictions, columns=['conceptA', 'conceptB', 'isPrerequisite_pred'])\n",
    "    predictions['pred'] = (predictions['isPrerequisite_pred'] >= THRESHOLD).astype(int)\n",
    "    print(f'f1 - split {i}', f1_score(test_cv['isPrerequisite'], predictions['pred']))"
   ],
   "outputs": [
    {
     "name": "stderr",
     "output_type": "stream",
     "text": [
      "C:\\Users\\Luka\\Documents\\University\\bachelor-project-prerequisite-learning\\venv\\Lib\\site-packages\\tensorflow\\python\\keras\\engine\\base_layer_v1.py:1694: UserWarning: `layer.apply` is deprecated and will be removed in a future version. Please use `layer.__call__` method instead.\n",
      "  warnings.warn('`layer.apply` is deprecated and '\n",
      "INFO:dataset:Indexing C:/Users/Luka/Documents/University/bachelor-project-prerequisite-learning/generated_data/cross_validation_train_0_split_5.csv ...\n",
      "INFO:ncf:Epoch 10 [1.92s]: train_loss = 0.094765 \n",
      "INFO:ncf:Epoch 20 [2.71s]: train_loss = 0.040012 \n",
      "INFO:ncf:Epoch 30 [2.42s]: train_loss = 0.016239 \n",
      "INFO:ncf:Epoch 40 [2.42s]: train_loss = 0.009295 \n",
      "INFO:ncf:Epoch 50 [1.87s]: train_loss = 0.005789 \n"
     ]
    },
    {
     "name": "stdout",
     "output_type": "stream",
     "text": [
      "f1 - split 0 0.4672131147540984\n"
     ]
    },
    {
     "name": "stderr",
     "output_type": "stream",
     "text": [
      "C:\\Users\\Luka\\Documents\\University\\bachelor-project-prerequisite-learning\\venv\\Lib\\site-packages\\tensorflow\\python\\keras\\engine\\base_layer_v1.py:1694: UserWarning: `layer.apply` is deprecated and will be removed in a future version. Please use `layer.__call__` method instead.\n",
      "  warnings.warn('`layer.apply` is deprecated and '\n",
      "INFO:dataset:Indexing C:/Users/Luka/Documents/University/bachelor-project-prerequisite-learning/generated_data/cross_validation_train_1_split_5.csv ...\n",
      "INFO:ncf:Epoch 10 [2.38s]: train_loss = 0.099104 \n",
      "INFO:ncf:Epoch 20 [2.65s]: train_loss = 0.041657 \n",
      "INFO:ncf:Epoch 30 [2.32s]: train_loss = 0.017535 \n",
      "INFO:ncf:Epoch 40 [2.11s]: train_loss = 0.009298 \n",
      "INFO:ncf:Epoch 50 [2.03s]: train_loss = 0.005311 \n"
     ]
    },
    {
     "name": "stdout",
     "output_type": "stream",
     "text": [
      "f1 - split 1 0.9983757444504602\n"
     ]
    },
    {
     "name": "stderr",
     "output_type": "stream",
     "text": [
      "C:\\Users\\Luka\\Documents\\University\\bachelor-project-prerequisite-learning\\venv\\Lib\\site-packages\\tensorflow\\python\\keras\\engine\\base_layer_v1.py:1694: UserWarning: `layer.apply` is deprecated and will be removed in a future version. Please use `layer.__call__` method instead.\n",
      "  warnings.warn('`layer.apply` is deprecated and '\n",
      "INFO:dataset:Indexing C:/Users/Luka/Documents/University/bachelor-project-prerequisite-learning/generated_data/cross_validation_train_2_split_5.csv ...\n",
      "INFO:ncf:Epoch 10 [2.10s]: train_loss = 0.096921 \n",
      "INFO:ncf:Epoch 20 [2.13s]: train_loss = 0.039401 \n",
      "INFO:ncf:Epoch 30 [2.06s]: train_loss = 0.016796 \n",
      "INFO:ncf:Epoch 40 [1.86s]: train_loss = 0.009378 \n",
      "INFO:ncf:Epoch 50 [1.85s]: train_loss = 0.006788 \n"
     ]
    },
    {
     "name": "stdout",
     "output_type": "stream",
     "text": [
      "f1 - split 2 0.9989059080962801\n"
     ]
    },
    {
     "name": "stderr",
     "output_type": "stream",
     "text": [
      "C:\\Users\\Luka\\Documents\\University\\bachelor-project-prerequisite-learning\\venv\\Lib\\site-packages\\tensorflow\\python\\keras\\engine\\base_layer_v1.py:1694: UserWarning: `layer.apply` is deprecated and will be removed in a future version. Please use `layer.__call__` method instead.\n",
      "  warnings.warn('`layer.apply` is deprecated and '\n",
      "INFO:dataset:Indexing C:/Users/Luka/Documents/University/bachelor-project-prerequisite-learning/generated_data/cross_validation_train_3_split_5.csv ...\n",
      "INFO:ncf:Epoch 10 [1.85s]: train_loss = 0.091965 \n",
      "INFO:ncf:Epoch 20 [2.22s]: train_loss = 0.036873 \n",
      "INFO:ncf:Epoch 30 [1.85s]: train_loss = 0.015553 \n",
      "INFO:ncf:Epoch 40 [1.84s]: train_loss = 0.008538 \n",
      "INFO:ncf:Epoch 50 [1.85s]: train_loss = 0.005165 \n"
     ]
    },
    {
     "name": "stdout",
     "output_type": "stream",
     "text": [
      "f1 - split 3 0.998914223669924\n"
     ]
    },
    {
     "name": "stderr",
     "output_type": "stream",
     "text": [
      "C:\\Users\\Luka\\Documents\\University\\bachelor-project-prerequisite-learning\\venv\\Lib\\site-packages\\tensorflow\\python\\keras\\engine\\base_layer_v1.py:1694: UserWarning: `layer.apply` is deprecated and will be removed in a future version. Please use `layer.__call__` method instead.\n",
      "  warnings.warn('`layer.apply` is deprecated and '\n",
      "INFO:dataset:Indexing C:/Users/Luka/Documents/University/bachelor-project-prerequisite-learning/generated_data/cross_validation_train_4_split_5.csv ...\n",
      "INFO:ncf:Epoch 10 [1.83s]: train_loss = 0.101497 \n",
      "INFO:ncf:Epoch 20 [1.86s]: train_loss = 0.040502 \n",
      "INFO:ncf:Epoch 30 [1.86s]: train_loss = 0.017031 \n",
      "INFO:ncf:Epoch 40 [1.89s]: train_loss = 0.009564 \n",
      "INFO:ncf:Epoch 50 [1.84s]: train_loss = 0.006121 \n"
     ]
    },
    {
     "name": "stdout",
     "output_type": "stream",
     "text": [
      "f1 - split 4 0.9994556341861731\n"
     ]
    }
   ],
   "execution_count": 48
  },
  {
   "cell_type": "markdown",
   "metadata": {},
   "source": "## 3.4 Prediction and Evaluation"
  },
  {
   "cell_type": "markdown",
   "metadata": {},
   "source": [
    "### 3.4.1 Prediction\n",
    "\n",
    "Now that our model is fitted, we can call `predict` to get some `predictions`. `predict` returns an internal object Prediction which can be easily converted back to a dataframe:"
   ]
  },
  {
   "metadata": {
    "ExecuteTime": {
     "end_time": "2024-06-05T20:59:57.672380Z",
     "start_time": "2024-06-05T20:59:44.199285Z"
    }
   },
   "cell_type": "code",
   "source": [
    "predictions = [[row.conceptA, row.conceptB, model.predict(row.conceptA, row.conceptB)]\n",
    "               for (_, row) in df.iterrows()]\n",
    "\n",
    "predictions = pd.DataFrame(predictions, columns=['conceptA', 'conceptB', 'isPrerequisite_pred'])\n",
    "\n",
    "predictions['isPrerequisite'] = df['isPrerequisite']\n",
    "predictions['dataset'] = df['dataset']\n",
    "predictions['_split_set'] = df['_split_set']\n",
    "sorted_predictions = predictions.sort_values(by='isPrerequisite_pred', ascending=False)\n",
    "sorted_predictions['pred'] = (sorted_predictions['isPrerequisite_pred'] >= THRESHOLD).astype(int)"
   ],
   "outputs": [],
   "execution_count": 21
  },
  {
   "metadata": {
    "ExecuteTime": {
     "end_time": "2024-06-05T20:59:57.683272Z",
     "start_time": "2024-06-05T20:59:57.674296Z"
    }
   },
   "cell_type": "code",
   "source": "sorted_predictions['isPrerequisite'].mean(), df['isPrerequisite'].mean()",
   "outputs": [
    {
     "data": {
      "text/plain": [
       "(0.2868984820755733, 0.2868984820755733)"
      ]
     },
     "execution_count": 22,
     "metadata": {},
     "output_type": "execute_result"
    }
   ],
   "execution_count": 22
  },
  {
   "metadata": {
    "ExecuteTime": {
     "end_time": "2024-06-05T20:59:57.695488Z",
     "start_time": "2024-06-05T20:59:57.686292Z"
    }
   },
   "cell_type": "code",
   "source": "sorted_predictions['dataset'].value_counts()",
   "outputs": [
    {
     "data": {
      "text/plain": [
       "dataset\n",
       "moocML     6712\n",
       "al_cpl     6529\n",
       "drive      2797\n",
       "moocDSA    2540\n",
       "Name: count, dtype: int64"
      ]
     },
     "execution_count": 23,
     "metadata": {},
     "output_type": "execute_result"
    }
   ],
   "execution_count": 23
  },
  {
   "metadata": {
    "ExecuteTime": {
     "end_time": "2024-06-05T20:59:57.715132Z",
     "start_time": "2024-06-05T20:59:57.697477Z"
    }
   },
   "cell_type": "code",
   "source": [
    "df_moocML = sorted_predictions[sorted_predictions['dataset'] == 'moocML']\n",
    "df_moocDSA = sorted_predictions[sorted_predictions['dataset'] == 'moocDSA']\n",
    "df_drive = sorted_predictions[sorted_predictions['dataset'] == 'drive']\n",
    "df_alcpl = sorted_predictions[sorted_predictions['dataset'] == 'al_cpl']"
   ],
   "outputs": [],
   "execution_count": 24
  },
  {
   "metadata": {
    "ExecuteTime": {
     "end_time": "2024-06-05T20:59:57.722664Z",
     "start_time": "2024-06-05T20:59:57.716128Z"
    }
   },
   "cell_type": "code",
   "source": "df_test = sorted_predictions[sorted_predictions['_split_set'] == 'test']",
   "outputs": [],
   "execution_count": 25
  },
  {
   "metadata": {},
   "cell_type": "markdown",
   "source": "# Check Test Set"
  },
  {
   "metadata": {
    "ExecuteTime": {
     "end_time": "2024-06-05T18:21:46.681573Z",
     "start_time": "2024-06-05T18:21:46.659763Z"
    }
   },
   "cell_type": "code",
   "source": "print(classification_report(df_test['isPrerequisite'], df_test['pred']))",
   "outputs": [
    {
     "name": "stdout",
     "output_type": "stream",
     "text": [
      "              precision    recall  f1-score   support\n",
      "\n",
      "           0       0.83      0.99      0.90      1309\n",
      "           1       0.94      0.53      0.68       549\n",
      "\n",
      "    accuracy                           0.85      1858\n",
      "   macro avg       0.89      0.76      0.79      1858\n",
      "weighted avg       0.86      0.85      0.84      1858\n",
      "\n"
     ]
    }
   ],
   "execution_count": 26
  },
  {
   "metadata": {
    "ExecuteTime": {
     "end_time": "2024-05-30T07:56:53.674214Z",
     "start_time": "2024-05-30T07:56:53.623850Z"
    }
   },
   "cell_type": "code",
   "source": "print(classification_report(df_test['isPrerequisite'], df_test['pred']))",
   "outputs": [
    {
     "name": "stdout",
     "output_type": "stream",
     "text": [
      "              precision    recall  f1-score   support\n",
      "\n",
      "           0       0.81      0.99      0.89      1309\n",
      "           1       0.94      0.46      0.62       549\n",
      "\n",
      "    accuracy                           0.83      1858\n",
      "   macro avg       0.88      0.73      0.76      1858\n",
      "weighted avg       0.85      0.83      0.81      1858\n",
      "\n"
     ]
    }
   ],
   "execution_count": 125
  },
  {
   "metadata": {
    "ExecuteTime": {
     "end_time": "2024-05-30T06:41:11.559780Z",
     "start_time": "2024-05-30T06:41:11.539227Z"
    }
   },
   "cell_type": "code",
   "source": "print(classification_report(df_test['isPrerequisite'], df_test['pred']))",
   "outputs": [
    {
     "name": "stdout",
     "output_type": "stream",
     "text": [
      "              precision    recall  f1-score   support\n",
      "\n",
      "           0       0.75      1.00      0.86      1309\n",
      "           1       0.98      0.20      0.34       549\n",
      "\n",
      "    accuracy                           0.76      1858\n",
      "   macro avg       0.87      0.60      0.60      1858\n",
      "weighted avg       0.82      0.76      0.70      1858\n",
      "\n"
     ]
    }
   ],
   "execution_count": 27
  },
  {
   "metadata": {},
   "cell_type": "markdown",
   "source": "# Check moocML"
  },
  {
   "metadata": {
    "ExecuteTime": {
     "end_time": "2024-05-30T06:41:12.954582Z",
     "start_time": "2024-05-30T06:41:12.934359Z"
    }
   },
   "cell_type": "code",
   "source": "print(classification_report(df_moocML['isPrerequisite'], df_moocML['pred']))",
   "outputs": [
    {
     "name": "stdout",
     "output_type": "stream",
     "text": [
      "              precision    recall  f1-score   support\n",
      "\n",
      "           0       0.97      1.00      0.98      4977\n",
      "           1       1.00      0.91      0.95      1735\n",
      "\n",
      "    accuracy                           0.98      6712\n",
      "   macro avg       0.98      0.95      0.97      6712\n",
      "weighted avg       0.98      0.98      0.98      6712\n",
      "\n"
     ]
    }
   ],
   "execution_count": 28
  },
  {
   "metadata": {
    "ExecuteTime": {
     "end_time": "2024-05-30T06:41:13.568073Z",
     "start_time": "2024-05-30T06:41:13.387741Z"
    }
   },
   "cell_type": "code",
   "source": [
    "moocML_test = df_moocML[df_moocML['_split_set'] == 'test']\n",
    "\n",
    "print(classification_report(moocML_test['isPrerequisite'], moocML_test['pred']))\n",
    "print('precision - ', precision_score(moocML_test['isPrerequisite'], moocML_test['pred']))\n",
    "print('recall - ', recall_score(moocML_test['isPrerequisite'], moocML_test['pred']))\n",
    "print('f1 - ', f1_score(moocML_test['isPrerequisite'], moocML_test['pred']))"
   ],
   "outputs": [
    {
     "name": "stdout",
     "output_type": "stream",
     "text": [
      "              precision    recall  f1-score   support\n",
      "\n",
      "           0       0.76      1.00      0.86       508\n",
      "           1       1.00      0.02      0.04       163\n",
      "\n",
      "    accuracy                           0.76       671\n",
      "   macro avg       0.88      0.51      0.45       671\n",
      "weighted avg       0.82      0.76      0.66       671\n",
      "\n",
      "precision -  1.0\n",
      "recall -  0.018404907975460124\n",
      "f1 -  0.03614457831325301\n"
     ]
    }
   ],
   "execution_count": 29
  },
  {
   "metadata": {
    "ExecuteTime": {
     "end_time": "2024-05-30T06:41:14.021428Z",
     "start_time": "2024-05-30T06:41:14.012615Z"
    }
   },
   "cell_type": "code",
   "source": "df.loc[(df['dataset'] == 'moocML') & (df['_split_set'] == 'test'), 'isPrerequisite'].shape",
   "outputs": [
    {
     "data": {
      "text/plain": [
       "(671,)"
      ]
     },
     "execution_count": 30,
     "metadata": {},
     "output_type": "execute_result"
    }
   ],
   "execution_count": 30
  },
  {
   "metadata": {
    "ExecuteTime": {
     "end_time": "2024-05-30T06:41:14.560331Z",
     "start_time": "2024-05-30T06:41:14.556158Z"
    }
   },
   "cell_type": "code",
   "source": "train['isPrerequisite'].sum()",
   "outputs": [
    {
     "data": {
      "text/plain": [
       "4801"
      ]
     },
     "execution_count": 31,
     "metadata": {},
     "output_type": "execute_result"
    }
   ],
   "execution_count": 31
  },
  {
   "metadata": {},
   "cell_type": "markdown",
   "source": "# Check moocDSA"
  },
  {
   "metadata": {
    "ExecuteTime": {
     "end_time": "2024-05-30T06:41:15.472349Z",
     "start_time": "2024-05-30T06:41:15.458307Z"
    }
   },
   "cell_type": "code",
   "source": "print(classification_report(df_moocDSA['isPrerequisite'], df_moocDSA['pred']))",
   "outputs": [
    {
     "name": "stdout",
     "output_type": "stream",
     "text": [
      "              precision    recall  f1-score   support\n",
      "\n",
      "           0       0.98      1.00      0.99      2061\n",
      "           1       1.00      0.91      0.95       479\n",
      "\n",
      "    accuracy                           0.98      2540\n",
      "   macro avg       0.99      0.96      0.97      2540\n",
      "weighted avg       0.98      0.98      0.98      2540\n",
      "\n"
     ]
    }
   ],
   "execution_count": 32
  },
  {
   "metadata": {
    "ExecuteTime": {
     "end_time": "2024-05-30T06:41:15.945567Z",
     "start_time": "2024-05-30T06:41:15.924086Z"
    }
   },
   "cell_type": "code",
   "source": [
    "moocDSA_test = df_moocDSA[df_moocDSA['_split_set'] == 'test']\n",
    "\n",
    "print(classification_report(moocDSA_test['isPrerequisite'], moocDSA_test['pred']))\n",
    "print('precision - ', precision_score(moocDSA_test['isPrerequisite'], moocDSA_test['pred']))\n",
    "print('recall - ', recall_score(moocDSA_test['isPrerequisite'], moocDSA_test['pred']))\n",
    "print('f1 - ', f1_score(moocDSA_test['isPrerequisite'], moocDSA_test['pred']))"
   ],
   "outputs": [
    {
     "name": "stdout",
     "output_type": "stream",
     "text": [
      "              precision    recall  f1-score   support\n",
      "\n",
      "           0       0.83      1.00      0.91       209\n",
      "           1       1.00      0.04      0.09        45\n",
      "\n",
      "    accuracy                           0.83       254\n",
      "   macro avg       0.91      0.52      0.50       254\n",
      "weighted avg       0.86      0.83      0.76       254\n",
      "\n",
      "precision -  1.0\n",
      "recall -  0.044444444444444446\n",
      "f1 -  0.0851063829787234\n"
     ]
    }
   ],
   "execution_count": 33
  },
  {
   "metadata": {},
   "cell_type": "markdown",
   "source": "# Check drive"
  },
  {
   "metadata": {
    "ExecuteTime": {
     "end_time": "2024-05-30T06:41:17.311058Z",
     "start_time": "2024-05-30T06:41:17.290025Z"
    }
   },
   "cell_type": "code",
   "source": "print(classification_report(df_drive['isPrerequisite'], df_drive['pred']))",
   "outputs": [
    {
     "name": "stdout",
     "output_type": "stream",
     "text": [
      "              precision    recall  f1-score   support\n",
      "\n",
      "           0       0.95      1.00      0.97      1684\n",
      "           1       1.00      0.92      0.96      1113\n",
      "\n",
      "    accuracy                           0.97      2797\n",
      "   macro avg       0.97      0.96      0.97      2797\n",
      "weighted avg       0.97      0.97      0.97      2797\n",
      "\n"
     ]
    }
   ],
   "execution_count": 34
  },
  {
   "metadata": {
    "ExecuteTime": {
     "end_time": "2024-05-30T06:41:17.984256Z",
     "start_time": "2024-05-30T06:41:17.958143Z"
    }
   },
   "cell_type": "code",
   "source": [
    "drive_test = df_drive[df_drive['_split_set'] == 'test']\n",
    "\n",
    "print(classification_report(drive_test['isPrerequisite'], drive_test['pred']))\n",
    "print('precision - ', precision_score(drive_test['isPrerequisite'], drive_test['pred']))\n",
    "print('recall - ', recall_score(drive_test['isPrerequisite'], drive_test['pred']))\n",
    "print('f1 - ', f1_score(drive_test['isPrerequisite'], drive_test['pred']))"
   ],
   "outputs": [
    {
     "name": "stdout",
     "output_type": "stream",
     "text": [
      "              precision    recall  f1-score   support\n",
      "\n",
      "           0       0.65      0.99      0.79       165\n",
      "           1       0.93      0.24      0.39       115\n",
      "\n",
      "    accuracy                           0.68       280\n",
      "   macro avg       0.79      0.62      0.59       280\n",
      "weighted avg       0.77      0.68      0.62       280\n",
      "\n",
      "precision -  0.9333333333333333\n",
      "recall -  0.24347826086956523\n",
      "f1 -  0.38620689655172413\n"
     ]
    }
   ],
   "execution_count": 35
  },
  {
   "metadata": {},
   "cell_type": "markdown",
   "source": "# Check AL_CPL"
  },
  {
   "metadata": {
    "ExecuteTime": {
     "end_time": "2024-05-30T06:41:19.524090Z",
     "start_time": "2024-05-30T06:41:19.491459Z"
    }
   },
   "cell_type": "code",
   "source": "print(classification_report(df_alcpl['isPrerequisite'], df_alcpl['pred']))",
   "outputs": [
    {
     "name": "stdout",
     "output_type": "stream",
     "text": [
      "              precision    recall  f1-score   support\n",
      "\n",
      "           0       0.97      1.00      0.98      4526\n",
      "           1       1.00      0.93      0.96      2003\n",
      "\n",
      "    accuracy                           0.98      6529\n",
      "   macro avg       0.98      0.96      0.97      6529\n",
      "weighted avg       0.98      0.98      0.98      6529\n",
      "\n"
     ]
    }
   ],
   "execution_count": 36
  },
  {
   "metadata": {
    "ExecuteTime": {
     "end_time": "2024-05-30T06:41:20.037268Z",
     "start_time": "2024-05-30T06:41:20.005926Z"
    }
   },
   "cell_type": "code",
   "source": [
    "alcpl_test = df_alcpl[df_alcpl['_split_set'] == 'test']\n",
    "\n",
    "print(classification_report(alcpl_test['isPrerequisite'], alcpl_test['pred']))\n",
    "print('precision - ', precision_score(alcpl_test['isPrerequisite'], alcpl_test['pred']))\n",
    "print('recall - ', recall_score(alcpl_test['isPrerequisite'], alcpl_test['pred']))\n",
    "print('f1 - ', f1_score(alcpl_test['isPrerequisite'], alcpl_test['pred']))"
   ],
   "outputs": [
    {
     "name": "stdout",
     "output_type": "stream",
     "text": [
      "              precision    recall  f1-score   support\n",
      "\n",
      "           0       0.74      1.00      0.85       427\n",
      "           1       1.00      0.35      0.52       226\n",
      "\n",
      "    accuracy                           0.77       653\n",
      "   macro avg       0.87      0.67      0.69       653\n",
      "weighted avg       0.83      0.77      0.74       653\n",
      "\n",
      "precision -  1.0\n",
      "recall -  0.3495575221238938\n",
      "f1 -  0.5180327868852459\n"
     ]
    }
   ],
   "execution_count": 37
  },
  {
   "metadata": {},
   "cell_type": "markdown",
   "source": "# Generate Pseudo Data"
  },
  {
   "metadata": {
    "ExecuteTime": {
     "end_time": "2024-05-30T06:43:06.723103Z",
     "start_time": "2024-05-30T06:43:06.713722Z"
    }
   },
   "cell_type": "code",
   "source": "train.head()",
   "outputs": [
    {
     "data": {
      "text/plain": [
       "       conceptA  conceptB  isPrerequisite  dataset\n",
       "2321        375      1086               0   moocML\n",
       "5480         87       277               1   moocML\n",
       "14445       476       392               1   al_cpl\n",
       "7352        595       214               0  moocDSA\n",
       "14136      1073       913               0   al_cpl"
      ],
      "text/html": [
       "<div>\n",
       "<style scoped>\n",
       "    .dataframe tbody tr th:only-of-type {\n",
       "        vertical-align: middle;\n",
       "    }\n",
       "\n",
       "    .dataframe tbody tr th {\n",
       "        vertical-align: top;\n",
       "    }\n",
       "\n",
       "    .dataframe thead th {\n",
       "        text-align: right;\n",
       "    }\n",
       "</style>\n",
       "<table border=\"1\" class=\"dataframe\">\n",
       "  <thead>\n",
       "    <tr style=\"text-align: right;\">\n",
       "      <th></th>\n",
       "      <th>conceptA</th>\n",
       "      <th>conceptB</th>\n",
       "      <th>isPrerequisite</th>\n",
       "      <th>dataset</th>\n",
       "    </tr>\n",
       "  </thead>\n",
       "  <tbody>\n",
       "    <tr>\n",
       "      <th>2321</th>\n",
       "      <td>375</td>\n",
       "      <td>1086</td>\n",
       "      <td>0</td>\n",
       "      <td>moocML</td>\n",
       "    </tr>\n",
       "    <tr>\n",
       "      <th>5480</th>\n",
       "      <td>87</td>\n",
       "      <td>277</td>\n",
       "      <td>1</td>\n",
       "      <td>moocML</td>\n",
       "    </tr>\n",
       "    <tr>\n",
       "      <th>14445</th>\n",
       "      <td>476</td>\n",
       "      <td>392</td>\n",
       "      <td>1</td>\n",
       "      <td>al_cpl</td>\n",
       "    </tr>\n",
       "    <tr>\n",
       "      <th>7352</th>\n",
       "      <td>595</td>\n",
       "      <td>214</td>\n",
       "      <td>0</td>\n",
       "      <td>moocDSA</td>\n",
       "    </tr>\n",
       "    <tr>\n",
       "      <th>14136</th>\n",
       "      <td>1073</td>\n",
       "      <td>913</td>\n",
       "      <td>0</td>\n",
       "      <td>al_cpl</td>\n",
       "    </tr>\n",
       "  </tbody>\n",
       "</table>\n",
       "</div>"
      ]
     },
     "execution_count": 39,
     "metadata": {},
     "output_type": "execute_result"
    }
   ],
   "execution_count": 39
  },
  {
   "metadata": {
    "ExecuteTime": {
     "end_time": "2024-05-30T07:38:50.212782Z",
     "start_time": "2024-05-30T07:38:20.900942Z"
    }
   },
   "cell_type": "code",
   "source": [
    "users, items, preds = [], [], []\n",
    "item = list(train[\"conceptB\"].unique())\n",
    "for user in train[\"conceptA\"].unique():\n",
    "    user = [user] * len(item) \n",
    "    users.extend(user)\n",
    "    items.extend(item)\n",
    "    preds.extend(list(model.predict(user, item, is_list=True)))\n",
    "\n",
    "pseudo_predictions = pd.DataFrame(data={\"conceptA\": users, \"conceptB\":items, \"isPrerequisite_pred\":preds})"
   ],
   "outputs": [],
   "execution_count": 89
  },
  {
   "metadata": {
    "ExecuteTime": {
     "end_time": "2024-05-30T07:39:04.550464Z",
     "start_time": "2024-05-30T07:39:00.534898Z"
    }
   },
   "cell_type": "code",
   "source": "pseudo_predictions.sort_values(by=['conceptA', 'isPrerequisite_pred'], ascending=[True, False], inplace=True)",
   "outputs": [],
   "execution_count": 91
  },
  {
   "metadata": {
    "ExecuteTime": {
     "end_time": "2024-05-30T07:39:07.382542Z",
     "start_time": "2024-05-30T07:39:07.360969Z"
    }
   },
   "cell_type": "code",
   "source": "vs = train.groupby('conceptA').agg('sum')['isPrerequisite'].reset_index()",
   "outputs": [],
   "execution_count": 92
  },
  {
   "metadata": {
    "ExecuteTime": {
     "end_time": "2024-05-30T07:39:10.748908Z",
     "start_time": "2024-05-30T07:39:10.735768Z"
    }
   },
   "cell_type": "code",
   "source": [
    "vs['k'] = (vs['isPrerequisite'] / 10).apply(np.ceil) \n",
    "# aq rorame max (1, np.ceil)"
   ],
   "outputs": [],
   "execution_count": 93
  },
  {
   "metadata": {
    "ExecuteTime": {
     "end_time": "2024-05-30T07:39:23.114453Z",
     "start_time": "2024-05-30T07:39:23.102982Z"
    }
   },
   "cell_type": "code",
   "source": "vs.head()",
   "outputs": [
    {
     "data": {
      "text/plain": [
       "   conceptA  isPrerequisite    k\n",
       "0         0               4  1.0\n",
       "1         1               6  1.0\n",
       "2         2               2  1.0\n",
       "3         3               2  1.0\n",
       "4         4               6  1.0"
      ],
      "text/html": [
       "<div>\n",
       "<style scoped>\n",
       "    .dataframe tbody tr th:only-of-type {\n",
       "        vertical-align: middle;\n",
       "    }\n",
       "\n",
       "    .dataframe tbody tr th {\n",
       "        vertical-align: top;\n",
       "    }\n",
       "\n",
       "    .dataframe thead th {\n",
       "        text-align: right;\n",
       "    }\n",
       "</style>\n",
       "<table border=\"1\" class=\"dataframe\">\n",
       "  <thead>\n",
       "    <tr style=\"text-align: right;\">\n",
       "      <th></th>\n",
       "      <th>conceptA</th>\n",
       "      <th>isPrerequisite</th>\n",
       "      <th>k</th>\n",
       "    </tr>\n",
       "  </thead>\n",
       "  <tbody>\n",
       "    <tr>\n",
       "      <th>0</th>\n",
       "      <td>0</td>\n",
       "      <td>4</td>\n",
       "      <td>1.0</td>\n",
       "    </tr>\n",
       "    <tr>\n",
       "      <th>1</th>\n",
       "      <td>1</td>\n",
       "      <td>6</td>\n",
       "      <td>1.0</td>\n",
       "    </tr>\n",
       "    <tr>\n",
       "      <th>2</th>\n",
       "      <td>2</td>\n",
       "      <td>2</td>\n",
       "      <td>1.0</td>\n",
       "    </tr>\n",
       "    <tr>\n",
       "      <th>3</th>\n",
       "      <td>3</td>\n",
       "      <td>2</td>\n",
       "      <td>1.0</td>\n",
       "    </tr>\n",
       "    <tr>\n",
       "      <th>4</th>\n",
       "      <td>4</td>\n",
       "      <td>6</td>\n",
       "      <td>1.0</td>\n",
       "    </tr>\n",
       "  </tbody>\n",
       "</table>\n",
       "</div>"
      ]
     },
     "execution_count": 95,
     "metadata": {},
     "output_type": "execute_result"
    }
   ],
   "execution_count": 95
  },
  {
   "metadata": {
    "ExecuteTime": {
     "end_time": "2024-05-30T08:15:42.944863Z",
     "start_time": "2024-05-30T08:15:42.900980Z"
    }
   },
   "cell_type": "code",
   "source": "vs['k'].value_counts()",
   "outputs": [
    {
     "data": {
      "text/plain": [
       "k\n",
       "1.0    909\n",
       "0.0    389\n",
       "2.0     65\n",
       "3.0     10\n",
       "4.0      4\n",
       "6.0      3\n",
       "7.0      2\n",
       "5.0      1\n",
       "9.0      1\n",
       "Name: count, dtype: int64"
      ]
     },
     "execution_count": 126,
     "metadata": {},
     "output_type": "execute_result"
    }
   ],
   "execution_count": 126
  },
  {
   "metadata": {
    "ExecuteTime": {
     "end_time": "2024-05-30T07:39:23.815773Z",
     "start_time": "2024-05-30T07:39:23.797635Z"
    }
   },
   "cell_type": "code",
   "source": "pseudo_predictions.head()",
   "outputs": [
    {
     "data": {
      "text/plain": [
       "         conceptA  conceptB  isPrerequisite_pred\n",
       "1572958         0       386             0.999976\n",
       "1573900         0       656             0.999872\n",
       "1573881         0       247             0.999083\n",
       "1573150         0      1574             0.997331\n",
       "1573791         0       253             0.996238"
      ],
      "text/html": [
       "<div>\n",
       "<style scoped>\n",
       "    .dataframe tbody tr th:only-of-type {\n",
       "        vertical-align: middle;\n",
       "    }\n",
       "\n",
       "    .dataframe tbody tr th {\n",
       "        vertical-align: top;\n",
       "    }\n",
       "\n",
       "    .dataframe thead th {\n",
       "        text-align: right;\n",
       "    }\n",
       "</style>\n",
       "<table border=\"1\" class=\"dataframe\">\n",
       "  <thead>\n",
       "    <tr style=\"text-align: right;\">\n",
       "      <th></th>\n",
       "      <th>conceptA</th>\n",
       "      <th>conceptB</th>\n",
       "      <th>isPrerequisite_pred</th>\n",
       "    </tr>\n",
       "  </thead>\n",
       "  <tbody>\n",
       "    <tr>\n",
       "      <th>1572958</th>\n",
       "      <td>0</td>\n",
       "      <td>386</td>\n",
       "      <td>0.999976</td>\n",
       "    </tr>\n",
       "    <tr>\n",
       "      <th>1573900</th>\n",
       "      <td>0</td>\n",
       "      <td>656</td>\n",
       "      <td>0.999872</td>\n",
       "    </tr>\n",
       "    <tr>\n",
       "      <th>1573881</th>\n",
       "      <td>0</td>\n",
       "      <td>247</td>\n",
       "      <td>0.999083</td>\n",
       "    </tr>\n",
       "    <tr>\n",
       "      <th>1573150</th>\n",
       "      <td>0</td>\n",
       "      <td>1574</td>\n",
       "      <td>0.997331</td>\n",
       "    </tr>\n",
       "    <tr>\n",
       "      <th>1573791</th>\n",
       "      <td>0</td>\n",
       "      <td>253</td>\n",
       "      <td>0.996238</td>\n",
       "    </tr>\n",
       "  </tbody>\n",
       "</table>\n",
       "</div>"
      ]
     },
     "execution_count": 96,
     "metadata": {},
     "output_type": "execute_result"
    }
   ],
   "execution_count": 96
  },
  {
   "metadata": {
    "ExecuteTime": {
     "end_time": "2024-05-30T07:39:53.582089Z",
     "start_time": "2024-05-30T07:39:53.159874Z"
    }
   },
   "cell_type": "code",
   "source": "pseudo_predictions = pseudo_predictions.merge(vs[['conceptA', 'k']], on='conceptA', how='left')",
   "outputs": [],
   "execution_count": 97
  },
  {
   "metadata": {
    "ExecuteTime": {
     "end_time": "2024-05-30T07:40:04.169656Z",
     "start_time": "2024-05-30T07:40:04.159232Z"
    }
   },
   "cell_type": "code",
   "source": "pseudo_predictions",
   "outputs": [
    {
     "data": {
      "text/plain": [
       "         conceptA  conceptB  isPrerequisite_pred    k\n",
       "0               0       386         9.999757e-01  1.0\n",
       "1               0       656         9.998721e-01  1.0\n",
       "2               0       247         9.990830e-01  1.0\n",
       "3               0      1574         9.973308e-01  1.0\n",
       "4               0       253         9.962379e-01  1.0\n",
       "...           ...       ...                  ...  ...\n",
       "2214395      1383      1332         4.489960e-20  1.0\n",
       "2214396      1383      1496         2.018741e-20  1.0\n",
       "2214397      1383      1338         1.537805e-20  1.0\n",
       "2214398      1383       167         1.142168e-20  1.0\n",
       "2214399      1383      1502         5.515710e-21  1.0\n",
       "\n",
       "[2214400 rows x 4 columns]"
      ],
      "text/html": [
       "<div>\n",
       "<style scoped>\n",
       "    .dataframe tbody tr th:only-of-type {\n",
       "        vertical-align: middle;\n",
       "    }\n",
       "\n",
       "    .dataframe tbody tr th {\n",
       "        vertical-align: top;\n",
       "    }\n",
       "\n",
       "    .dataframe thead th {\n",
       "        text-align: right;\n",
       "    }\n",
       "</style>\n",
       "<table border=\"1\" class=\"dataframe\">\n",
       "  <thead>\n",
       "    <tr style=\"text-align: right;\">\n",
       "      <th></th>\n",
       "      <th>conceptA</th>\n",
       "      <th>conceptB</th>\n",
       "      <th>isPrerequisite_pred</th>\n",
       "      <th>k</th>\n",
       "    </tr>\n",
       "  </thead>\n",
       "  <tbody>\n",
       "    <tr>\n",
       "      <th>0</th>\n",
       "      <td>0</td>\n",
       "      <td>386</td>\n",
       "      <td>9.999757e-01</td>\n",
       "      <td>1.0</td>\n",
       "    </tr>\n",
       "    <tr>\n",
       "      <th>1</th>\n",
       "      <td>0</td>\n",
       "      <td>656</td>\n",
       "      <td>9.998721e-01</td>\n",
       "      <td>1.0</td>\n",
       "    </tr>\n",
       "    <tr>\n",
       "      <th>2</th>\n",
       "      <td>0</td>\n",
       "      <td>247</td>\n",
       "      <td>9.990830e-01</td>\n",
       "      <td>1.0</td>\n",
       "    </tr>\n",
       "    <tr>\n",
       "      <th>3</th>\n",
       "      <td>0</td>\n",
       "      <td>1574</td>\n",
       "      <td>9.973308e-01</td>\n",
       "      <td>1.0</td>\n",
       "    </tr>\n",
       "    <tr>\n",
       "      <th>4</th>\n",
       "      <td>0</td>\n",
       "      <td>253</td>\n",
       "      <td>9.962379e-01</td>\n",
       "      <td>1.0</td>\n",
       "    </tr>\n",
       "    <tr>\n",
       "      <th>...</th>\n",
       "      <td>...</td>\n",
       "      <td>...</td>\n",
       "      <td>...</td>\n",
       "      <td>...</td>\n",
       "    </tr>\n",
       "    <tr>\n",
       "      <th>2214395</th>\n",
       "      <td>1383</td>\n",
       "      <td>1332</td>\n",
       "      <td>4.489960e-20</td>\n",
       "      <td>1.0</td>\n",
       "    </tr>\n",
       "    <tr>\n",
       "      <th>2214396</th>\n",
       "      <td>1383</td>\n",
       "      <td>1496</td>\n",
       "      <td>2.018741e-20</td>\n",
       "      <td>1.0</td>\n",
       "    </tr>\n",
       "    <tr>\n",
       "      <th>2214397</th>\n",
       "      <td>1383</td>\n",
       "      <td>1338</td>\n",
       "      <td>1.537805e-20</td>\n",
       "      <td>1.0</td>\n",
       "    </tr>\n",
       "    <tr>\n",
       "      <th>2214398</th>\n",
       "      <td>1383</td>\n",
       "      <td>167</td>\n",
       "      <td>1.142168e-20</td>\n",
       "      <td>1.0</td>\n",
       "    </tr>\n",
       "    <tr>\n",
       "      <th>2214399</th>\n",
       "      <td>1383</td>\n",
       "      <td>1502</td>\n",
       "      <td>5.515710e-21</td>\n",
       "      <td>1.0</td>\n",
       "    </tr>\n",
       "  </tbody>\n",
       "</table>\n",
       "<p>2214400 rows × 4 columns</p>\n",
       "</div>"
      ]
     },
     "execution_count": 98,
     "metadata": {},
     "output_type": "execute_result"
    }
   ],
   "execution_count": 98
  },
  {
   "metadata": {
    "ExecuteTime": {
     "end_time": "2024-05-30T07:50:11.898501Z",
     "start_time": "2024-05-30T07:50:09.245162Z"
    }
   },
   "cell_type": "code",
   "source": [
    "pseudo_pos = pseudo_predictions.groupby('conceptA').apply(lambda x : x.head(int(x['k'].values[0]))).reset_index(drop=True)\n",
    "pseudo_neg = pseudo_predictions.groupby('conceptA').apply(lambda x : x.tail(int(x['k'].values[0]))).reset_index(drop=True)"
   ],
   "outputs": [
    {
     "name": "stderr",
     "output_type": "stream",
     "text": [
      "C:\\Users\\Luka\\AppData\\Local\\Temp\\ipykernel_1928\\3514101951.py:1: DeprecationWarning: DataFrameGroupBy.apply operated on the grouping columns. This behavior is deprecated, and in a future version of pandas the grouping columns will be excluded from the operation. Either pass `include_groups=False` to exclude the groupings or explicitly select the grouping columns after groupby to silence this warning.\n",
      "  pseudo_pos = pseudo_predictions.groupby('conceptA').apply(lambda x : x.head(int(x['k'].values[0]))).reset_index(drop=True)\n",
      "C:\\Users\\Luka\\AppData\\Local\\Temp\\ipykernel_1928\\3514101951.py:2: DeprecationWarning: DataFrameGroupBy.apply operated on the grouping columns. This behavior is deprecated, and in a future version of pandas the grouping columns will be excluded from the operation. Either pass `include_groups=False` to exclude the groupings or explicitly select the grouping columns after groupby to silence this warning.\n",
      "  pseudo_neg = pseudo_predictions.groupby('conceptA').apply(lambda x : x.tail(int(x['k'].values[0]))).reset_index(drop=True)\n"
     ]
    }
   ],
   "execution_count": 117
  },
  {
   "metadata": {},
   "cell_type": "markdown",
   "source": "# Check Top K Bottom K"
  },
  {
   "metadata": {
    "ExecuteTime": {
     "end_time": "2024-05-04T14:20:44.223830Z",
     "start_time": "2024-05-04T14:20:44.217374Z"
    }
   },
   "cell_type": "code",
   "source": [
    "K = 67\n",
    "\n",
    "top_k = sorted_predictions.head(K)\n",
    "\n",
    "bottom_k = sorted_predictions.tail(K)"
   ],
   "outputs": [],
   "execution_count": 37
  },
  {
   "metadata": {
    "ExecuteTime": {
     "end_time": "2024-05-04T14:20:44.249247Z",
     "start_time": "2024-05-04T14:20:44.229703Z"
    }
   },
   "cell_type": "code",
   "source": "print(classification_report(top_k['isPrerequisite'], top_k['pred']))",
   "outputs": [
    {
     "name": "stdout",
     "output_type": "stream",
     "text": [
      "              precision    recall  f1-score   support\n",
      "\n",
      "           1       1.00      1.00      1.00        67\n",
      "\n",
      "    accuracy                           1.00        67\n",
      "   macro avg       1.00      1.00      1.00        67\n",
      "weighted avg       1.00      1.00      1.00        67\n",
      "\n"
     ]
    }
   ],
   "execution_count": 38
  },
  {
   "metadata": {
    "ExecuteTime": {
     "end_time": "2024-05-04T14:20:44.276437Z",
     "start_time": "2024-05-04T14:20:44.250241Z"
    }
   },
   "cell_type": "code",
   "source": "print(classification_report(bottom_k['isPrerequisite'], bottom_k['pred']))",
   "outputs": [
    {
     "name": "stdout",
     "output_type": "stream",
     "text": [
      "              precision    recall  f1-score   support\n",
      "\n",
      "           0       1.00      1.00      1.00        67\n",
      "\n",
      "    accuracy                           1.00        67\n",
      "   macro avg       1.00      1.00      1.00        67\n",
      "weighted avg       1.00      1.00      1.00        67\n",
      "\n"
     ]
    }
   ],
   "execution_count": 39
  },
  {
   "cell_type": "markdown",
   "metadata": {},
   "source": [
    "## 3.5 Pre-training\n",
    "\n",
    "To get better performance of NeuMF, we can adopt pre-training strategy. We first train GMF and MLP with random initializations until convergence. Then use their model parameters as the initialization for the corresponding parts of NeuMF’s parameters.  Please pay attention to the output layer, where we concatenate weights of the two models with\n",
    "\n",
    "$$h ^ { N C F } \\leftarrow \\left[ \\begin{array} { c } { \\alpha h ^ { G M F } } \\\\ { ( 1 - \\alpha ) h ^ { M L P } } \\end{array} \\right]$$\n",
    "\n",
    "where $h^{GMF}$ and $h^{MLP}$ denote the $h$ vector of the pretrained GMF and MLP model, respectively; and $\\alpha$ is a\n",
    "hyper-parameter determining the trade-off between the two pre-trained models. We set $\\alpha$ = 0.5."
   ]
  },
  {
   "cell_type": "markdown",
   "metadata": {},
   "source": [
    "### 3.5.1 Training GMF and MLP model\n",
    "`model.save`, we can set the `dir_name` to store the parameters of GMF and MLP"
   ]
  },
  {
   "cell_type": "code",
   "metadata": {
    "ExecuteTime": {
     "end_time": "2024-05-04T14:20:45.032109Z",
     "start_time": "2024-05-04T14:20:44.279477Z"
    }
   },
   "source": [
    "model = NCF(\n",
    "    n_users=data.n_users, \n",
    "    n_items=data.n_items,\n",
    "    model_type=\"GMF\",\n",
    "    n_factors=32,\n",
    "    layer_sizes=[16,8,4],\n",
    "    n_epochs=EPOCHS,\n",
    "    batch_size=BATCH_SIZE,\n",
    "    learning_rate=1e-3,\n",
    "    verbose=10,\n",
    "    seed=SEED\n",
    ")"
   ],
   "outputs": [
    {
     "name": "stderr",
     "output_type": "stream",
     "text": [
      "C:\\Users\\Luka\\Documents\\University\\bachelor-project-prerequisite-learning\\venv\\Lib\\site-packages\\tensorflow\\python\\keras\\engine\\base_layer_v1.py:1694: UserWarning: `layer.apply` is deprecated and will be removed in a future version. Please use `layer.__call__` method instead.\n",
      "  warnings.warn('`layer.apply` is deprecated and '\n"
     ]
    }
   ],
   "execution_count": 40
  },
  {
   "cell_type": "code",
   "metadata": {
    "ExecuteTime": {
     "end_time": "2024-05-04T14:23:30.429502Z",
     "start_time": "2024-05-04T14:20:45.033255Z"
    }
   },
   "source": [
    "model.fit(data)\n",
    "\n",
    "model.save(dir_name=\".pretrain/GMF\")"
   ],
   "outputs": [
    {
     "name": "stderr",
     "output_type": "stream",
     "text": [
      "INFO:ncf:Epoch 10 [4.53s]: train_loss = 0.127921 \n",
      "INFO:ncf:Epoch 20 [2.92s]: train_loss = 0.065289 \n",
      "INFO:ncf:Epoch 30 [3.52s]: train_loss = 0.022822 \n",
      "INFO:ncf:Epoch 40 [2.79s]: train_loss = 0.007226 \n",
      "INFO:ncf:Epoch 50 [2.94s]: train_loss = 0.003469 \n"
     ]
    }
   ],
   "execution_count": 41
  },
  {
   "cell_type": "code",
   "metadata": {
    "ExecuteTime": {
     "end_time": "2024-05-04T14:23:30.831739Z",
     "start_time": "2024-05-04T14:23:30.430443Z"
    }
   },
   "source": [
    "model = NCF(\n",
    "    n_users=data.n_users, \n",
    "    n_items=data.n_items,\n",
    "    model_type=\"MLP\",\n",
    "    n_factors=32,\n",
    "    layer_sizes=[16,8,4],\n",
    "    n_epochs=EPOCHS,\n",
    "    batch_size=BATCH_SIZE,\n",
    "    learning_rate=1e-3,\n",
    "    verbose=10,\n",
    "    seed=SEED\n",
    ")"
   ],
   "outputs": [],
   "execution_count": 42
  },
  {
   "cell_type": "code",
   "metadata": {
    "ExecuteTime": {
     "end_time": "2024-05-04T14:26:18.353184Z",
     "start_time": "2024-05-04T14:23:30.832736Z"
    }
   },
   "source": [
    "model.fit(data)\n",
    "\n",
    "model.save(dir_name=\".pretrain/MLP\")"
   ],
   "outputs": [
    {
     "name": "stderr",
     "output_type": "stream",
     "text": [
      "INFO:ncf:Epoch 10 [2.86s]: train_loss = 0.123431 \n",
      "INFO:ncf:Epoch 20 [2.76s]: train_loss = 0.109892 \n",
      "INFO:ncf:Epoch 30 [4.46s]: train_loss = 0.085276 \n",
      "INFO:ncf:Epoch 40 [2.68s]: train_loss = 0.065812 \n",
      "INFO:ncf:Epoch 50 [4.19s]: train_loss = 0.048528 \n"
     ]
    }
   ],
   "execution_count": 43
  },
  {
   "cell_type": "markdown",
   "metadata": {},
   "source": [
    "### 3.5.2 Load pre-trained GMF and MLP model for NeuMF\n",
    "`model.load`, we can set the `gmf_dir` and `mlp_dir` to store the parameters for NeuMF."
   ]
  },
  {
   "cell_type": "code",
   "metadata": {
    "ExecuteTime": {
     "end_time": "2024-05-04T14:26:19.686024Z",
     "start_time": "2024-05-04T14:26:18.354176Z"
    }
   },
   "source": [
    "model = NCF(\n",
    "    n_users=data.n_users, \n",
    "    n_items=data.n_items,\n",
    "    model_type=\"NeuMF\",\n",
    "    n_factors=32,\n",
    "    layer_sizes=[16,8,4],\n",
    "    n_epochs=EPOCHS,\n",
    "    batch_size=BATCH_SIZE,\n",
    "    learning_rate=1e-3,\n",
    "    verbose=10,\n",
    "    seed=SEED\n",
    ")\n",
    "\n",
    "model.load(gmf_dir=\".pretrain/GMF\", mlp_dir=\".pretrain/MLP\", alpha=0.5)"
   ],
   "outputs": [],
   "execution_count": 44
  },
  {
   "cell_type": "code",
   "metadata": {
    "ExecuteTime": {
     "end_time": "2024-05-04T14:29:38.672301Z",
     "start_time": "2024-05-04T14:26:19.687019Z"
    }
   },
   "source": "model.fit(data)",
   "outputs": [
    {
     "name": "stderr",
     "output_type": "stream",
     "text": [
      "INFO:ncf:Epoch 10 [4.18s]: train_loss = 0.002550 \n",
      "INFO:ncf:Epoch 20 [5.03s]: train_loss = 0.001300 \n",
      "INFO:ncf:Epoch 30 [3.64s]: train_loss = 0.000683 \n",
      "INFO:ncf:Epoch 40 [3.90s]: train_loss = 0.000822 \n",
      "INFO:ncf:Epoch 50 [3.74s]: train_loss = 0.000433 \n"
     ]
    }
   ],
   "execution_count": 45
  },
  {
   "cell_type": "markdown",
   "metadata": {},
   "source": [
    "### 3.5.3 Compare with not pre-trained NeuMF\n",
    "\n",
    "You can use beforementioned evaluation methods to evaluate the pre-trained `NCF` Model. Usually, we will find the performance of pre-trained NCF is better than the not pre-trained."
   ]
  },
  {
   "cell_type": "code",
   "metadata": {
    "ExecuteTime": {
     "end_time": "2024-05-04T14:29:39.674058Z",
     "start_time": "2024-05-04T14:29:38.673246Z"
    }
   },
   "source": [
    "predictions = [[row.conceptA, row.conceptB, model.predict(row.conceptA, row.conceptB)]\n",
    "               for (_, row) in test.iterrows()]\n",
    "\n",
    "predictions = pd.DataFrame(predictions, columns=['conceptA', 'conceptB', 'isPrerequisite_pred'])\n",
    "\n",
    "test.index = predictions.index\n",
    "predictions['isPrerequisite'] = test['isPrerequisite']\n",
    "sorted_predictions = predictions.sort_values(by='isPrerequisite_pred', ascending=False)\n",
    "sorted_predictions['pred'] = (sorted_predictions['isPrerequisite_pred'] >= THRESHOLD).astype(int)"
   ],
   "outputs": [],
   "execution_count": 46
  },
  {
   "cell_type": "code",
   "metadata": {
    "ExecuteTime": {
     "end_time": "2024-05-04T14:29:39.694481Z",
     "start_time": "2024-05-04T14:29:39.675080Z"
    }
   },
   "source": "print(classification_report(sorted_predictions['isPrerequisite'], sorted_predictions['pred']))",
   "outputs": [
    {
     "name": "stdout",
     "output_type": "stream",
     "text": [
      "              precision    recall  f1-score   support\n",
      "\n",
      "           0       0.76      1.00      0.86      1283\n",
      "           1       0.97      0.24      0.38       529\n",
      "\n",
      "    accuracy                           0.78      1812\n",
      "   macro avg       0.86      0.62      0.62      1812\n",
      "weighted avg       0.82      0.78      0.72      1812\n",
      "\n"
     ]
    }
   ],
   "execution_count": 47
  },
  {
   "cell_type": "code",
   "metadata": {
    "ExecuteTime": {
     "end_time": "2024-05-04T14:29:39.700464Z",
     "start_time": "2024-05-04T14:29:39.695475Z"
    }
   },
   "source": [
    "K = 67\n",
    "\n",
    "top_k = sorted_predictions.head(K)\n",
    "\n",
    "bottom_k = sorted_predictions.tail(K)"
   ],
   "outputs": [],
   "execution_count": 48
  },
  {
   "metadata": {
    "ExecuteTime": {
     "end_time": "2024-05-04T14:29:39.717646Z",
     "start_time": "2024-05-04T14:29:39.702458Z"
    }
   },
   "cell_type": "code",
   "source": "top_k",
   "outputs": [
    {
     "data": {
      "text/plain": [
       "      conceptA  conceptB  isPrerequisite_pred  isPrerequisite  pred\n",
       "111       1232      1331             1.000000               1     1\n",
       "36          75      1502             1.000000               1     1\n",
       "1734      1344      1093             0.999999               1     1\n",
       "157       1021      1289             0.999999               1     1\n",
       "1030      1273      1376             0.999994               1     1\n",
       "...        ...       ...                  ...             ...   ...\n",
       "264        307         5             0.991381               1     1\n",
       "1427       662       510             0.990228               1     1\n",
       "955       1007       879             0.989968               1     1\n",
       "425        508      1502             0.989865               1     1\n",
       "1448       150      1404             0.988634               1     1\n",
       "\n",
       "[67 rows x 5 columns]"
      ],
      "text/html": [
       "<div>\n",
       "<style scoped>\n",
       "    .dataframe tbody tr th:only-of-type {\n",
       "        vertical-align: middle;\n",
       "    }\n",
       "\n",
       "    .dataframe tbody tr th {\n",
       "        vertical-align: top;\n",
       "    }\n",
       "\n",
       "    .dataframe thead th {\n",
       "        text-align: right;\n",
       "    }\n",
       "</style>\n",
       "<table border=\"1\" class=\"dataframe\">\n",
       "  <thead>\n",
       "    <tr style=\"text-align: right;\">\n",
       "      <th></th>\n",
       "      <th>conceptA</th>\n",
       "      <th>conceptB</th>\n",
       "      <th>isPrerequisite_pred</th>\n",
       "      <th>isPrerequisite</th>\n",
       "      <th>pred</th>\n",
       "    </tr>\n",
       "  </thead>\n",
       "  <tbody>\n",
       "    <tr>\n",
       "      <th>111</th>\n",
       "      <td>1232</td>\n",
       "      <td>1331</td>\n",
       "      <td>1.000000</td>\n",
       "      <td>1</td>\n",
       "      <td>1</td>\n",
       "    </tr>\n",
       "    <tr>\n",
       "      <th>36</th>\n",
       "      <td>75</td>\n",
       "      <td>1502</td>\n",
       "      <td>1.000000</td>\n",
       "      <td>1</td>\n",
       "      <td>1</td>\n",
       "    </tr>\n",
       "    <tr>\n",
       "      <th>1734</th>\n",
       "      <td>1344</td>\n",
       "      <td>1093</td>\n",
       "      <td>0.999999</td>\n",
       "      <td>1</td>\n",
       "      <td>1</td>\n",
       "    </tr>\n",
       "    <tr>\n",
       "      <th>157</th>\n",
       "      <td>1021</td>\n",
       "      <td>1289</td>\n",
       "      <td>0.999999</td>\n",
       "      <td>1</td>\n",
       "      <td>1</td>\n",
       "    </tr>\n",
       "    <tr>\n",
       "      <th>1030</th>\n",
       "      <td>1273</td>\n",
       "      <td>1376</td>\n",
       "      <td>0.999994</td>\n",
       "      <td>1</td>\n",
       "      <td>1</td>\n",
       "    </tr>\n",
       "    <tr>\n",
       "      <th>...</th>\n",
       "      <td>...</td>\n",
       "      <td>...</td>\n",
       "      <td>...</td>\n",
       "      <td>...</td>\n",
       "      <td>...</td>\n",
       "    </tr>\n",
       "    <tr>\n",
       "      <th>264</th>\n",
       "      <td>307</td>\n",
       "      <td>5</td>\n",
       "      <td>0.991381</td>\n",
       "      <td>1</td>\n",
       "      <td>1</td>\n",
       "    </tr>\n",
       "    <tr>\n",
       "      <th>1427</th>\n",
       "      <td>662</td>\n",
       "      <td>510</td>\n",
       "      <td>0.990228</td>\n",
       "      <td>1</td>\n",
       "      <td>1</td>\n",
       "    </tr>\n",
       "    <tr>\n",
       "      <th>955</th>\n",
       "      <td>1007</td>\n",
       "      <td>879</td>\n",
       "      <td>0.989968</td>\n",
       "      <td>1</td>\n",
       "      <td>1</td>\n",
       "    </tr>\n",
       "    <tr>\n",
       "      <th>425</th>\n",
       "      <td>508</td>\n",
       "      <td>1502</td>\n",
       "      <td>0.989865</td>\n",
       "      <td>1</td>\n",
       "      <td>1</td>\n",
       "    </tr>\n",
       "    <tr>\n",
       "      <th>1448</th>\n",
       "      <td>150</td>\n",
       "      <td>1404</td>\n",
       "      <td>0.988634</td>\n",
       "      <td>1</td>\n",
       "      <td>1</td>\n",
       "    </tr>\n",
       "  </tbody>\n",
       "</table>\n",
       "<p>67 rows × 5 columns</p>\n",
       "</div>"
      ]
     },
     "execution_count": 49,
     "metadata": {},
     "output_type": "execute_result"
    }
   ],
   "execution_count": 49
  },
  {
   "metadata": {
    "ExecuteTime": {
     "end_time": "2024-05-04T14:29:39.736819Z",
     "start_time": "2024-05-04T14:29:39.718642Z"
    }
   },
   "cell_type": "code",
   "source": "print(classification_report(top_k['isPrerequisite'], top_k['pred']))",
   "outputs": [
    {
     "name": "stdout",
     "output_type": "stream",
     "text": [
      "              precision    recall  f1-score   support\n",
      "\n",
      "           0       0.00      0.00      0.00         2\n",
      "           1       0.97      1.00      0.98        65\n",
      "\n",
      "    accuracy                           0.97        67\n",
      "   macro avg       0.49      0.50      0.49        67\n",
      "weighted avg       0.94      0.97      0.96        67\n",
      "\n"
     ]
    },
    {
     "name": "stderr",
     "output_type": "stream",
     "text": [
      "C:\\Users\\Luka\\Documents\\University\\bachelor-project-prerequisite-learning\\venv\\Lib\\site-packages\\sklearn\\metrics\\_classification.py:1509: UndefinedMetricWarning: Precision is ill-defined and being set to 0.0 in labels with no predicted samples. Use `zero_division` parameter to control this behavior.\n",
      "  _warn_prf(average, modifier, f\"{metric.capitalize()} is\", len(result))\n",
      "C:\\Users\\Luka\\Documents\\University\\bachelor-project-prerequisite-learning\\venv\\Lib\\site-packages\\sklearn\\metrics\\_classification.py:1509: UndefinedMetricWarning: Precision is ill-defined and being set to 0.0 in labels with no predicted samples. Use `zero_division` parameter to control this behavior.\n",
      "  _warn_prf(average, modifier, f\"{metric.capitalize()} is\", len(result))\n",
      "C:\\Users\\Luka\\Documents\\University\\bachelor-project-prerequisite-learning\\venv\\Lib\\site-packages\\sklearn\\metrics\\_classification.py:1509: UndefinedMetricWarning: Precision is ill-defined and being set to 0.0 in labels with no predicted samples. Use `zero_division` parameter to control this behavior.\n",
      "  _warn_prf(average, modifier, f\"{metric.capitalize()} is\", len(result))\n"
     ]
    }
   ],
   "execution_count": 50
  },
  {
   "metadata": {
    "ExecuteTime": {
     "end_time": "2024-05-04T14:29:39.755779Z",
     "start_time": "2024-05-04T14:29:39.738808Z"
    }
   },
   "cell_type": "code",
   "source": "print(classification_report(bottom_k['isPrerequisite'], bottom_k['pred']))",
   "outputs": [
    {
     "name": "stdout",
     "output_type": "stream",
     "text": [
      "              precision    recall  f1-score   support\n",
      "\n",
      "           0       1.00      1.00      1.00        67\n",
      "\n",
      "    accuracy                           1.00        67\n",
      "   macro avg       1.00      1.00      1.00        67\n",
      "weighted avg       1.00      1.00      1.00        67\n",
      "\n"
     ]
    }
   ],
   "execution_count": 51
  },
  {
   "cell_type": "markdown",
   "metadata": {},
   "source": [
    "### Reference: \n",
    "1. Xiangnan He, Lizi Liao, Hanwang Zhang, Liqiang Nie, Xia Hu & Tat-Seng Chua, Neural Collaborative Filtering, 2017, https://arxiv.org/abs/1708.05031\n",
    "\n",
    "2. Official NCF implementation [Keras with Theano]: https://github.com/hexiangnan/neural_collaborative_filtering\n",
    "\n",
    "3. Other nice NCF implementation [Pytorch]: https://github.com/LaceyChen17/neural-collaborative-filtering"
   ]
  }
 ],
 "metadata": {
  "celltoolbar": "Tags",
  "interpreter": {
   "hash": "3a9a0c422ff9f08d62211b9648017c63b0a26d2c935edc37ebb8453675d13bb5"
  },
  "kernelspec": {
   "display_name": "Python 3 (ipykernel)",
   "language": "python",
   "name": "python3"
  },
  "language_info": {
   "codemirror_mode": {
    "name": "ipython",
    "version": 3
   },
   "file_extension": ".py",
   "mimetype": "text/x-python",
   "name": "python",
   "nbconvert_exporter": "python",
   "pygments_lexer": "ipython3",
   "version": "3.7.11"
  }
 },
 "nbformat": 4,
 "nbformat_minor": 4
}
