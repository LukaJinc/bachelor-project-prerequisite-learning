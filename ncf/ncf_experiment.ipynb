{
 "cells": [
  {
   "cell_type": "code",
   "metadata": {
    "ExecuteTime": {
     "end_time": "2024-07-16T04:47:58.429932Z",
     "start_time": "2024-07-16T04:47:58.423213Z"
    }
   },
   "source": [
    "import sys\n",
    "\n",
    "import numpy as np\n",
    "import tensorflow as tf\n",
    "tf.get_logger().setLevel('ERROR') # only show error messages\n",
    "\n",
    "import itertools\n",
    "\n",
    "import pandas as pd\n",
    "\n",
    "from sklearn.model_selection import train_test_split\n",
    "from sklearn.metrics import classification_report, precision_score, recall_score, f1_score\n",
    "\n",
    "from ncf import NCF\n",
    "from dataset import Dataset as NCFDataset\n",
    "\n",
    "import warnings\n",
    "warnings.filterwarnings('ignore')\n",
    "\n",
    "print(\"System version: {}\".format(sys.version))\n",
    "print(\"Pandas version: {}\".format(pd.__version__))\n",
    "print(\"Tensorflow version: {}\".format(tf.__version__))"
   ],
   "outputs": [
    {
     "name": "stdout",
     "output_type": "stream",
     "text": [
      "System version: 3.11.2 (tags/v3.11.2:878ead1, Feb  7 2023, 16:38:35) [MSC v.1934 64 bit (AMD64)]\n",
      "Pandas version: 2.2.1\n",
      "Tensorflow version: 2.16.1\n"
     ]
    }
   ],
   "execution_count": 2
  },
  {
   "cell_type": "code",
   "execution_count": 3,
   "metadata": {
    "ExecuteTime": {
     "end_time": "2024-07-03T19:25:39.721690Z",
     "start_time": "2024-07-03T19:25:39.716953Z"
    },
    "tags": [
     "parameters"
    ]
   },
   "outputs": [],
   "source": [
    "# top k items to recommend\n",
    "TOP_K = 10\n",
    "THRESHOLD = 0.29\n",
    "\n",
    "# Model parameters\n",
    "EPOCHS = 50\n",
    "BATCH_SIZE = 256\n",
    "\n",
    "n_splits = 5\n",
    "\n",
    "SEED = 42\n",
    "PATH = 'C:/Users/Luka/Documents/University/bachelor-project-prerequisite-learning/generated_data'\n",
    "train_file = PATH + f\"/united_train_{SEED}_encoded_stratify.csv\"\n",
    "test_file = PATH + f\"/united_test_{SEED}_encoded_stratify.csv\""
   ]
  },
  {
   "cell_type": "markdown",
   "metadata": {},
   "source": [
    "# Train/Test Split"
   ]
  },
  {
   "cell_type": "code",
   "execution_count": 4,
   "metadata": {
    "ExecuteTime": {
     "end_time": "2024-07-03T19:25:41.948676Z",
     "start_time": "2024-07-03T19:25:41.891741Z"
    }
   },
   "outputs": [
    {
     "data": {
      "text/html": [
       "<div>\n",
       "<style scoped>\n",
       "    .dataframe tbody tr th:only-of-type {\n",
       "        vertical-align: middle;\n",
       "    }\n",
       "\n",
       "    .dataframe tbody tr th {\n",
       "        vertical-align: top;\n",
       "    }\n",
       "\n",
       "    .dataframe thead th {\n",
       "        text-align: right;\n",
       "    }\n",
       "</style>\n",
       "<table border=\"1\" class=\"dataframe\">\n",
       "  <thead>\n",
       "    <tr style=\"text-align: right;\">\n",
       "      <th></th>\n",
       "      <th>conceptA</th>\n",
       "      <th>conceptB</th>\n",
       "      <th>isPrerequisite</th>\n",
       "      <th>dataset</th>\n",
       "    </tr>\n",
       "  </thead>\n",
       "  <tbody>\n",
       "    <tr>\n",
       "      <th>0</th>\n",
       "      <td>1076</td>\n",
       "      <td>1562</td>\n",
       "      <td>1</td>\n",
       "      <td>moocML</td>\n",
       "    </tr>\n",
       "    <tr>\n",
       "      <th>1</th>\n",
       "      <td>1347</td>\n",
       "      <td>855</td>\n",
       "      <td>1</td>\n",
       "      <td>moocML</td>\n",
       "    </tr>\n",
       "    <tr>\n",
       "      <th>2</th>\n",
       "      <td>1347</td>\n",
       "      <td>516</td>\n",
       "      <td>0</td>\n",
       "      <td>moocML</td>\n",
       "    </tr>\n",
       "    <tr>\n",
       "      <th>3</th>\n",
       "      <td>1347</td>\n",
       "      <td>1274</td>\n",
       "      <td>0</td>\n",
       "      <td>moocML</td>\n",
       "    </tr>\n",
       "    <tr>\n",
       "      <th>4</th>\n",
       "      <td>1347</td>\n",
       "      <td>443</td>\n",
       "      <td>0</td>\n",
       "      <td>moocML</td>\n",
       "    </tr>\n",
       "  </tbody>\n",
       "</table>\n",
       "</div>"
      ],
      "text/plain": [
       "   conceptA  conceptB  isPrerequisite dataset\n",
       "0      1076      1562               1  moocML\n",
       "1      1347       855               1  moocML\n",
       "2      1347       516               0  moocML\n",
       "3      1347      1274               0  moocML\n",
       "4      1347       443               0  moocML"
      ]
     },
     "execution_count": 4,
     "metadata": {},
     "output_type": "execute_result"
    }
   ],
   "source": [
    "df = pd.read_csv(PATH + '/united_data_encoded.csv')\n",
    "\n",
    "df.head()"
   ]
  },
  {
   "cell_type": "code",
   "execution_count": 5,
   "metadata": {
    "ExecuteTime": {
     "end_time": "2024-07-03T19:25:43.607410Z",
     "start_time": "2024-07-03T19:25:43.598381Z"
    }
   },
   "outputs": [
    {
     "data": {
      "text/plain": [
       "dataset\n",
       "moocML     6712\n",
       "al_cpl     6529\n",
       "drive      2797\n",
       "moocDSA    2540\n",
       "Name: count, dtype: int64"
      ]
     },
     "execution_count": 5,
     "metadata": {},
     "output_type": "execute_result"
    }
   ],
   "source": [
    "df['dataset'].value_counts()"
   ]
  },
  {
   "cell_type": "code",
   "execution_count": 6,
   "metadata": {
    "ExecuteTime": {
     "end_time": "2024-07-03T19:25:45.192345Z",
     "start_time": "2024-07-03T19:25:45.182952Z"
    }
   },
   "outputs": [],
   "source": [
    "concepts = list(set(list(df['conceptA']) + list(df['conceptB'])))"
   ]
  },
  {
   "cell_type": "code",
   "execution_count": 7,
   "metadata": {
    "ExecuteTime": {
     "end_time": "2024-07-03T19:25:45.855926Z",
     "start_time": "2024-07-03T19:25:45.833075Z"
    }
   },
   "outputs": [],
   "source": [
    "train, test = train_test_split(df, test_size=0.1, random_state=SEED, stratify=df['dataset'])"
   ]
  },
  {
   "cell_type": "code",
   "execution_count": 8,
   "metadata": {
    "ExecuteTime": {
     "end_time": "2024-07-03T19:25:46.282969Z",
     "start_time": "2024-07-03T19:25:46.270634Z"
    }
   },
   "outputs": [],
   "source": [
    "df.loc[train.index, '_split_set'] = 'train'\n",
    "df.loc[test.index, '_split_set'] = 'test'"
   ]
  },
  {
   "cell_type": "code",
   "execution_count": 9,
   "metadata": {
    "ExecuteTime": {
     "end_time": "2024-07-03T19:25:46.828071Z",
     "start_time": "2024-07-03T19:25:46.820512Z"
    }
   },
   "outputs": [
    {
     "data": {
      "text/plain": [
       "((16720, 4), (1858, 4))"
      ]
     },
     "execution_count": 9,
     "metadata": {},
     "output_type": "execute_result"
    }
   ],
   "source": [
    "train.shape, test.shape"
   ]
  },
  {
   "cell_type": "code",
   "execution_count": 10,
   "metadata": {
    "ExecuteTime": {
     "end_time": "2024-07-03T19:25:47.948483Z",
     "start_time": "2024-07-03T19:25:47.935532Z"
    }
   },
   "outputs": [],
   "source": [
    "train_conceptA = list(set(list(train['conceptA'])))\n",
    "train_conceptB = list(set(list(train['conceptB'])))\n",
    "test_conceptA = list(set(list(test['conceptA'])))\n",
    "test_conceptB = list(set(list(test['conceptB'])))"
   ]
  },
  {
   "cell_type": "code",
   "execution_count": 11,
   "metadata": {
    "ExecuteTime": {
     "end_time": "2024-07-03T19:25:49.517515Z",
     "start_time": "2024-07-03T19:25:49.508515Z"
    }
   },
   "outputs": [
    {
     "data": {
      "text/plain": [
       "dataset\n",
       "moocML     9.002981\n",
       "al_cpl     8.998469\n",
       "drive      8.989286\n",
       "moocDSA    9.000000\n",
       "Name: count, dtype: float64"
      ]
     },
     "execution_count": 11,
     "metadata": {},
     "output_type": "execute_result"
    }
   ],
   "source": [
    "train['dataset'].value_counts() / test['dataset'].value_counts()"
   ]
  },
  {
   "cell_type": "code",
   "execution_count": 12,
   "metadata": {
    "ExecuteTime": {
     "end_time": "2024-07-03T19:25:50.610672Z",
     "start_time": "2024-07-03T19:25:50.587650Z"
    }
   },
   "outputs": [],
   "source": [
    "a = [x for x in test_conceptA if x not in train_conceptA]\n",
    "b = [x for x in test_conceptB if x not in train_conceptB]"
   ]
  },
  {
   "cell_type": "code",
   "execution_count": 13,
   "metadata": {
    "ExecuteTime": {
     "end_time": "2024-07-03T19:25:51.876160Z",
     "start_time": "2024-07-03T19:25:51.869794Z"
    }
   },
   "outputs": [],
   "source": [
    "maskA = test['conceptA'].isin(a)\n",
    "maskB = test['conceptB'].isin(b)"
   ]
  },
  {
   "cell_type": "code",
   "execution_count": 14,
   "metadata": {
    "ExecuteTime": {
     "end_time": "2024-07-03T19:25:52.209981Z",
     "start_time": "2024-07-03T19:25:52.199684Z"
    }
   },
   "outputs": [],
   "source": [
    "train = pd.concat([train, test[maskA | maskB]], axis=0)\n",
    "test.drop(index=test[maskA | maskB].index, inplace=True)"
   ]
  },
  {
   "cell_type": "code",
   "execution_count": 15,
   "metadata": {
    "ExecuteTime": {
     "end_time": "2024-07-03T19:25:52.588413Z",
     "start_time": "2024-07-03T19:25:52.582647Z"
    }
   },
   "outputs": [
    {
     "data": {
      "text/plain": [
       "((16766, 4), (1812, 4))"
      ]
     },
     "execution_count": 15,
     "metadata": {},
     "output_type": "execute_result"
    }
   ],
   "source": [
    "train.shape, test.shape"
   ]
  },
  {
   "cell_type": "markdown",
   "metadata": {},
   "source": [
    "Write datasets to csv files."
   ]
  },
  {
   "cell_type": "code",
   "execution_count": 15,
   "metadata": {
    "ExecuteTime": {
     "end_time": "2024-06-27T22:20:42.858484Z",
     "start_time": "2024-06-27T22:20:42.757248Z"
    }
   },
   "outputs": [],
   "source": [
    "train.sort_values(by=['conceptA']).to_csv(train_file, index=False)\n",
    "test.sort_values(by=['conceptA']).to_csv(test_file, index=False)"
   ]
  },
  {
   "cell_type": "markdown",
   "metadata": {},
   "source": [
    "# Cross Validation"
   ]
  },
  {
   "cell_type": "markdown",
   "metadata": {},
   "source": [
    "## Write Splits In Files"
   ]
  },
  {
   "cell_type": "code",
   "execution_count": 15,
   "metadata": {
    "ExecuteTime": {
     "end_time": "2024-06-28T11:49:35.445171Z",
     "start_time": "2024-06-28T11:49:35.181705Z"
    }
   },
   "outputs": [],
   "source": [
    "from sklearn.model_selection import StratifiedKFold\n",
    "\n",
    "skf = StratifiedKFold(n_splits=n_splits, random_state=SEED, shuffle=True)\n",
    "\n",
    "X = train[['conceptA', 'conceptB']]\n",
    "y = train['isPrerequisite']\n",
    "\n",
    "i = 0\n",
    "for train_index, test_index in skf.split(X, y):\n",
    "    train_cv = train.iloc[train_index]\n",
    "    test_cv = train.iloc[test_index] \n",
    "    train_file = PATH + f\"/cross_validation_train_{i}_split_{n_splits}.csv\"\n",
    "    test_file = PATH + f\"/cross_validation_test_{i}_split_{n_splits}.csv\"\n",
    "    i += 1\n",
    "    \n",
    "    train_conceptA = list(set(list(train_cv['conceptA'])))\n",
    "    train_conceptB = list(set(list(train_cv['conceptB'])))\n",
    "    test_conceptA = list(set(list(test_cv['conceptA'])))\n",
    "    test_conceptB = list(set(list(test_cv['conceptB'])))\n",
    "    \n",
    "    a = [x for x in test_conceptA if x not in train_conceptA]\n",
    "    b = [x for x in test_conceptB if x not in train_conceptB]\n",
    "    \n",
    "    maskA = test_cv['conceptA'].isin(a)\n",
    "    maskB = test_cv['conceptB'].isin(b)\n",
    "    \n",
    "    train_cv = pd.concat([train_cv, test_cv[maskA | maskB]], axis=0)\n",
    "    test_cv.drop(index=test_cv[maskA | maskB].index, inplace=True)\n",
    "    \n",
    "    train_cv.sort_values(by=['conceptA']).to_csv(train_file, index=False)\n",
    "    test_cv.sort_values(by=['conceptA']).to_csv(test_file, index=False)"
   ]
  },
  {
   "cell_type": "markdown",
   "metadata": {},
   "source": [
    "## Cross Validate"
   ]
  },
  {
   "cell_type": "code",
   "execution_count": 16,
   "metadata": {
    "ExecuteTime": {
     "end_time": "2024-07-01T14:29:47.454905Z",
     "start_time": "2024-07-01T14:29:47.450908Z"
    }
   },
   "outputs": [],
   "source": [
    "hyper_params = {\n",
    "    # 'n_factors' : [12, 16, 20],\n",
    "    'n_factors' : [16],\n",
    "    # 'layer_sizes' : [[4], [8, 4], [16, 8, 4]],\n",
    "    'layer_sizes' : [[8, 4]],\n",
    "    # 'n_epochs' : [10, 20, 30],\n",
    "    'n_epochs' : [20],\n",
    "    # 'batch_size' : [128, 256, 512],\n",
    "    'batch_size' : [256],\n",
    "    # 'learning_rate' : [0.001, 0.01, 0.1]\n",
    "    'learning_rate' : [0.001]\n",
    "}\n"
   ]
  },
  {
   "cell_type": "code",
   "execution_count": 17,
   "metadata": {
    "ExecuteTime": {
     "end_time": "2024-07-01T14:29:48.528614Z",
     "start_time": "2024-07-01T14:29:48.521835Z"
    }
   },
   "outputs": [],
   "source": [
    "# Generate all combinations\n",
    "combinations = list(itertools.product(\n",
    "    hyper_params['n_factors'], \n",
    "    hyper_params['layer_sizes'], \n",
    "    hyper_params['n_epochs'], hyper_params['batch_size'], \n",
    "    hyper_params['learning_rate'] \n",
    "))\n",
    "\n",
    "# Format the combinations into dictionaries\n",
    "formatted_combinations = [\n",
    "    {\n",
    "        'n_factors': combo[0], \n",
    "        'layer_sizes': combo[1],\n",
    "        'n_epochs': combo[2],\n",
    "        'batch_size': combo[3],\n",
    "        'learning_rate': combo[4]\n",
    "    } for combo in combinations\n",
    "]"
   ]
  },
  {
   "cell_type": "code",
   "execution_count": 18,
   "metadata": {
    "ExecuteTime": {
     "end_time": "2024-07-01T14:41:55.037787Z",
     "start_time": "2024-07-01T14:29:50.723708Z"
    }
   },
   "outputs": [
    {
     "name": "stderr",
     "output_type": "stream",
     "text": [
      "INFO:dataset:Indexing C:/Users/Luka/Documents/University/bachelor-project-prerequisite-learning/generated_data/cross_validation_train_0_split_5.csv ...\n"
     ]
    },
    {
     "name": "stdout",
     "output_type": "stream",
     "text": [
      "{'n_factors': 12, 'layer_sizes': [8, 4], 'n_epochs': 20, 'batch_size': 256, 'learning_rate': 0.001}\n"
     ]
    },
    {
     "name": "stderr",
     "output_type": "stream",
     "text": [
      "INFO:ncf:Epoch 20 [1.97s]: train_loss = 0.055609 \n",
      "INFO:dataset:Indexing C:/Users/Luka/Documents/University/bachelor-project-prerequisite-learning/generated_data/cross_validation_train_1_split_5.csv ...\n"
     ]
    },
    {
     "name": "stdout",
     "output_type": "stream",
     "text": [
      "f1 - split 0 0.7221510883482715\n"
     ]
    },
    {
     "name": "stderr",
     "output_type": "stream",
     "text": [
      "INFO:ncf:Epoch 20 [1.98s]: train_loss = 0.061843 \n",
      "INFO:dataset:Indexing C:/Users/Luka/Documents/University/bachelor-project-prerequisite-learning/generated_data/cross_validation_train_2_split_5.csv ...\n"
     ]
    },
    {
     "name": "stdout",
     "output_type": "stream",
     "text": [
      "f1 - split 1 0.7245283018867924\n"
     ]
    },
    {
     "name": "stderr",
     "output_type": "stream",
     "text": [
      "INFO:ncf:Epoch 20 [2.06s]: train_loss = 0.056123 \n",
      "INFO:dataset:Indexing C:/Users/Luka/Documents/University/bachelor-project-prerequisite-learning/generated_data/cross_validation_train_3_split_5.csv ...\n"
     ]
    },
    {
     "name": "stdout",
     "output_type": "stream",
     "text": [
      "f1 - split 2 0.7326984126984127\n"
     ]
    },
    {
     "name": "stderr",
     "output_type": "stream",
     "text": [
      "INFO:ncf:Epoch 20 [2.05s]: train_loss = 0.057781 \n",
      "INFO:dataset:Indexing C:/Users/Luka/Documents/University/bachelor-project-prerequisite-learning/generated_data/cross_validation_train_4_split_5.csv ...\n"
     ]
    },
    {
     "name": "stdout",
     "output_type": "stream",
     "text": [
      "f1 - split 3 0.7196439923712651\n"
     ]
    },
    {
     "name": "stderr",
     "output_type": "stream",
     "text": [
      "INFO:ncf:Epoch 20 [1.96s]: train_loss = 0.059197 \n",
      "INFO:dataset:Indexing C:/Users/Luka/Documents/University/bachelor-project-prerequisite-learning/generated_data/cross_validation_train_0_split_5.csv ...\n"
     ]
    },
    {
     "name": "stdout",
     "output_type": "stream",
     "text": [
      "f1 - split 4 0.7248576850094877\n",
      "split score 0.724775896062846\n",
      "{'n_factors': 16, 'layer_sizes': [8, 4], 'n_epochs': 20, 'batch_size': 256, 'learning_rate': 0.001}\n"
     ]
    },
    {
     "name": "stderr",
     "output_type": "stream",
     "text": [
      "INFO:ncf:Epoch 20 [2.56s]: train_loss = 0.040012 \n",
      "INFO:dataset:Indexing C:/Users/Luka/Documents/University/bachelor-project-prerequisite-learning/generated_data/cross_validation_train_1_split_5.csv ...\n"
     ]
    },
    {
     "name": "stdout",
     "output_type": "stream",
     "text": [
      "f1 - split 0 0.7315823190262652\n"
     ]
    },
    {
     "name": "stderr",
     "output_type": "stream",
     "text": [
      "INFO:ncf:Epoch 20 [3.02s]: train_loss = 0.041657 \n",
      "INFO:dataset:Indexing C:/Users/Luka/Documents/University/bachelor-project-prerequisite-learning/generated_data/cross_validation_train_2_split_5.csv ...\n"
     ]
    },
    {
     "name": "stdout",
     "output_type": "stream",
     "text": [
      "f1 - split 1 0.7306967984934086\n"
     ]
    },
    {
     "name": "stderr",
     "output_type": "stream",
     "text": [
      "INFO:ncf:Epoch 20 [2.97s]: train_loss = 0.039401 \n",
      "INFO:dataset:Indexing C:/Users/Luka/Documents/University/bachelor-project-prerequisite-learning/generated_data/cross_validation_train_3_split_5.csv ...\n"
     ]
    },
    {
     "name": "stdout",
     "output_type": "stream",
     "text": [
      "f1 - split 2 0.752851711026616\n"
     ]
    },
    {
     "name": "stderr",
     "output_type": "stream",
     "text": [
      "INFO:ncf:Epoch 20 [3.07s]: train_loss = 0.036873 \n",
      "INFO:dataset:Indexing C:/Users/Luka/Documents/University/bachelor-project-prerequisite-learning/generated_data/cross_validation_train_4_split_5.csv ...\n"
     ]
    },
    {
     "name": "stdout",
     "output_type": "stream",
     "text": [
      "f1 - split 3 0.7206068268015171\n"
     ]
    },
    {
     "name": "stderr",
     "output_type": "stream",
     "text": [
      "INFO:ncf:Epoch 20 [2.86s]: train_loss = 0.040502 \n",
      "INFO:dataset:Indexing C:/Users/Luka/Documents/University/bachelor-project-prerequisite-learning/generated_data/cross_validation_train_0_split_5.csv ...\n"
     ]
    },
    {
     "name": "stdout",
     "output_type": "stream",
     "text": [
      "f1 - split 4 0.729456384323641\n",
      "split score 0.7330388079342895\n",
      "{'n_factors': 20, 'layer_sizes': [8, 4], 'n_epochs': 20, 'batch_size': 256, 'learning_rate': 0.001}\n"
     ]
    },
    {
     "name": "stderr",
     "output_type": "stream",
     "text": [
      "INFO:ncf:Epoch 20 [1.93s]: train_loss = 0.031326 \n",
      "INFO:dataset:Indexing C:/Users/Luka/Documents/University/bachelor-project-prerequisite-learning/generated_data/cross_validation_train_1_split_5.csv ...\n"
     ]
    },
    {
     "name": "stdout",
     "output_type": "stream",
     "text": [
      "f1 - split 0 0.7278603749191984\n"
     ]
    },
    {
     "name": "stderr",
     "output_type": "stream",
     "text": [
      "INFO:ncf:Epoch 20 [1.92s]: train_loss = 0.030972 \n",
      "INFO:dataset:Indexing C:/Users/Luka/Documents/University/bachelor-project-prerequisite-learning/generated_data/cross_validation_train_2_split_5.csv ...\n"
     ]
    },
    {
     "name": "stdout",
     "output_type": "stream",
     "text": [
      "f1 - split 1 0.7270408163265306\n"
     ]
    },
    {
     "name": "stderr",
     "output_type": "stream",
     "text": [
      "INFO:ncf:Epoch 20 [1.94s]: train_loss = 0.031031 \n",
      "INFO:dataset:Indexing C:/Users/Luka/Documents/University/bachelor-project-prerequisite-learning/generated_data/cross_validation_train_3_split_5.csv ...\n"
     ]
    },
    {
     "name": "stdout",
     "output_type": "stream",
     "text": [
      "f1 - split 2 0.7411689145793192\n"
     ]
    },
    {
     "name": "stderr",
     "output_type": "stream",
     "text": [
      "INFO:ncf:Epoch 20 [2.55s]: train_loss = 0.031698 \n",
      "INFO:dataset:Indexing C:/Users/Luka/Documents/University/bachelor-project-prerequisite-learning/generated_data/cross_validation_train_4_split_5.csv ...\n"
     ]
    },
    {
     "name": "stdout",
     "output_type": "stream",
     "text": [
      "f1 - split 3 0.7218710493046776\n"
     ]
    },
    {
     "name": "stderr",
     "output_type": "stream",
     "text": [
      "INFO:ncf:Epoch 20 [2.16s]: train_loss = 0.029308 \n"
     ]
    },
    {
     "name": "stdout",
     "output_type": "stream",
     "text": [
      "f1 - split 4 0.7256410256410256\n",
      "split score 0.7287164361541503\n",
      "CPU times: total: 13min 29s\n",
      "Wall time: 12min 4s\n"
     ]
    }
   ],
   "source": [
    "%%time\n",
    "\n",
    "best_combo = {}\n",
    "best_score = 0\n",
    "for combo in formatted_combinations:\n",
    "    score = 0\n",
    "    print(combo)\n",
    "    for i in range(n_splits):\n",
    "        train_file = PATH + f\"/cross_validation_train_{i}_split_{n_splits}.csv\"\n",
    "        test_file = PATH + f\"/cross_validation_test_{i}_split_{n_splits}.csv\"\n",
    "        train_cv = NCFDataset(train_file=train_file, seed=SEED, col_user='conceptA', col_item='conceptB')\n",
    "        \n",
    "        model_cv = NCF(\n",
    "            n_users=train_cv.n_users,\n",
    "            n_items=train_cv.n_items,\n",
    "            model_type=\"NeuMF\",\n",
    "            n_factors=combo['n_factors'],\n",
    "            layer_sizes=combo['layer_sizes'],\n",
    "            n_epochs=combo['n_epochs'],\n",
    "            batch_size=combo['batch_size'],\n",
    "            learning_rate=combo['learning_rate'],\n",
    "            verbose=combo['n_epochs'],\n",
    "            seed=SEED\n",
    "        )\n",
    "        \n",
    "        model_cv.fit(train_cv)\n",
    "        \n",
    "        test_cv = pd.read_csv(test_file)\n",
    "        predictions = [[row.conceptA, row.conceptB, model_cv.predict(row.conceptA, row.conceptB)]\n",
    "                   for (_, row) in test_cv.iterrows()]\n",
    "    \n",
    "        predictions = pd.DataFrame(predictions, columns=['conceptA', 'conceptB', 'isPrerequisite_pred'])\n",
    "        predictions['pred'] = (predictions['isPrerequisite_pred'] >= THRESHOLD).astype(int)\n",
    "        score_split = f1_score(test_cv['isPrerequisite'], predictions['pred'])\n",
    "        print(f'f1 - split {i}', score_split)\n",
    "        score += score_split\n",
    "    score /= n_splits\n",
    "    print('split score', score)\n",
    "    if score > best_score:\n",
    "        best_score = score\n",
    "        best_combo = combo"
   ]
  },
  {
   "cell_type": "code",
   "execution_count": 19,
   "metadata": {
    "ExecuteTime": {
     "end_time": "2024-07-01T14:41:55.043861Z",
     "start_time": "2024-07-01T14:41:55.038787Z"
    }
   },
   "outputs": [
    {
     "data": {
      "text/plain": [
       "({'n_factors': 16,\n",
       "  'layer_sizes': [8, 4],\n",
       "  'n_epochs': 20,\n",
       "  'batch_size': 256,\n",
       "  'learning_rate': 0.001},\n",
       " 0.7330388079342895)"
      ]
     },
     "execution_count": 19,
     "metadata": {},
     "output_type": "execute_result"
    }
   ],
   "source": [
    "best_combo, best_score"
   ]
  },
  {
   "cell_type": "markdown",
   "metadata": {},
   "source": [
    "# Final Model Train"
   ]
  },
  {
   "cell_type": "code",
   "execution_count": 16,
   "metadata": {
    "ExecuteTime": {
     "end_time": "2024-07-03T19:26:03.223864Z",
     "start_time": "2024-07-03T19:26:03.139767Z"
    }
   },
   "outputs": [
    {
     "name": "stderr",
     "output_type": "stream",
     "text": [
      "INFO:dataset:Indexing C:/Users/Luka/Documents/University/bachelor-project-prerequisite-learning/generated_data/united_train_42_encoded_stratify.csv ...\n"
     ]
    }
   ],
   "source": [
    "data = NCFDataset(train_file=train_file, seed=SEED, col_user='conceptA', col_item='conceptB')"
   ]
  },
  {
   "cell_type": "code",
   "execution_count": 17,
   "metadata": {
    "ExecuteTime": {
     "end_time": "2024-07-03T19:26:04.509765Z",
     "start_time": "2024-07-03T19:26:04.504544Z"
    }
   },
   "outputs": [
    {
     "data": {
      "text/plain": [
       "(1384, 1600)"
      ]
     },
     "execution_count": 17,
     "metadata": {},
     "output_type": "execute_result"
    }
   ],
   "source": [
    "data.n_users, data.n_items"
   ]
  },
  {
   "cell_type": "code",
   "execution_count": 18,
   "metadata": {
    "ExecuteTime": {
     "end_time": "2024-07-03T19:26:08.153130Z",
     "start_time": "2024-07-03T19:26:06.676356Z"
    }
   },
   "outputs": [],
   "source": [
    "model = NCF(\n",
    "    n_users=data.n_users, \n",
    "    n_items=data.n_items,\n",
    "    model_type=\"NeuMF\",\n",
    "    n_factors=16,\n",
    "    layer_sizes=[8,4],\n",
    "    # previously 16, 8, 4\n",
    "    n_epochs=20,\n",
    "    batch_size=256,\n",
    "    learning_rate=0.001,\n",
    "    verbose=20, \n",
    "    seed=SEED\n",
    ")"
   ]
  },
  {
   "cell_type": "code",
   "execution_count": 19,
   "metadata": {
    "ExecuteTime": {
     "end_time": "2024-07-03T19:27:36.239933Z",
     "start_time": "2024-07-03T19:26:08.931696Z"
    }
   },
   "outputs": [
    {
     "name": "stderr",
     "output_type": "stream",
     "text": [
      "INFO:ncf:Epoch 20 [2.37s]: train_loss = 0.031712 \n"
     ]
    },
    {
     "name": "stdout",
     "output_type": "stream",
     "text": [
      "CPU times: total: 1min 12s\n",
      "Wall time: 1min 27s\n"
     ]
    }
   ],
   "source": [
    "%%time\n",
    "\n",
    "model.fit(data)"
   ]
  },
  {
   "cell_type": "markdown",
   "metadata": {},
   "source": [
    "## 3.4 Prediction and Evaluation"
   ]
  },
  {
   "cell_type": "markdown",
   "metadata": {},
   "source": [
    "### 3.4.1 Prediction\n",
    "\n",
    "Now that our model is fitted, we can call `predict` to get some `predictions`. `predict` returns an internal object Prediction which can be easily converted back to a dataframe:"
   ]
  },
  {
   "cell_type": "code",
   "execution_count": 20,
   "metadata": {
    "ExecuteTime": {
     "end_time": "2024-07-03T19:27:36.245987Z",
     "start_time": "2024-07-03T19:27:36.240922Z"
    }
   },
   "outputs": [
    {
     "data": {
      "text/plain": [
       "0.29"
      ]
     },
     "execution_count": 20,
     "metadata": {},
     "output_type": "execute_result"
    }
   ],
   "source": [
    "THRESHOLD"
   ]
  },
  {
   "cell_type": "code",
   "execution_count": 21,
   "metadata": {
    "ExecuteTime": {
     "end_time": "2024-07-03T19:27:43.648181Z",
     "start_time": "2024-07-03T19:27:36.247185Z"
    }
   },
   "outputs": [],
   "source": [
    "predictions = [[row.conceptA, row.conceptB, model.predict(row.conceptA, row.conceptB)]\n",
    "               for (_, row) in df.iterrows()]\n",
    "\n",
    "predictions = pd.DataFrame(predictions, columns=['conceptA', 'conceptB', 'isPrerequisite_pred'])\n",
    "\n",
    "predictions['isPrerequisite'] = df['isPrerequisite']\n",
    "predictions['dataset'] = df['dataset']\n",
    "predictions['_split_set'] = df['_split_set']\n",
    "sorted_predictions = predictions.sort_values(by='isPrerequisite_pred', ascending=False)\n",
    "sorted_predictions['pred'] = (sorted_predictions['isPrerequisite_pred'] >= THRESHOLD).astype(int)"
   ]
  },
  {
   "cell_type": "code",
   "execution_count": 22,
   "metadata": {
    "ExecuteTime": {
     "end_time": "2024-07-03T19:27:43.656148Z",
     "start_time": "2024-07-03T19:27:43.650153Z"
    }
   },
   "outputs": [
    {
     "data": {
      "text/plain": [
       "(0.2868984820755733, 0.2868984820755733, 0.24457146153110715)"
      ]
     },
     "execution_count": 22,
     "metadata": {},
     "output_type": "execute_result"
    }
   ],
   "source": [
    "sorted_predictions['isPrerequisite'].mean(), df['isPrerequisite'].mean(), sorted_predictions['isPrerequisite_pred'].mean()"
   ]
  },
  {
   "cell_type": "code",
   "execution_count": 23,
   "metadata": {
    "ExecuteTime": {
     "end_time": "2024-07-03T19:27:43.666309Z",
     "start_time": "2024-07-03T19:27:43.658138Z"
    }
   },
   "outputs": [
    {
     "data": {
      "text/plain": [
       "dataset\n",
       "moocML     6712\n",
       "al_cpl     6529\n",
       "drive      2797\n",
       "moocDSA    2540\n",
       "Name: count, dtype: int64"
      ]
     },
     "execution_count": 23,
     "metadata": {},
     "output_type": "execute_result"
    }
   ],
   "source": [
    "sorted_predictions['dataset'].value_counts()"
   ]
  },
  {
   "cell_type": "code",
   "execution_count": 24,
   "metadata": {
    "ExecuteTime": {
     "end_time": "2024-07-03T19:27:43.681555Z",
     "start_time": "2024-07-03T19:27:43.667313Z"
    }
   },
   "outputs": [],
   "source": [
    "df_moocML = sorted_predictions[sorted_predictions['dataset'] == 'moocML']\n",
    "df_moocDSA = sorted_predictions[sorted_predictions['dataset'] == 'moocDSA']\n",
    "df_drive = sorted_predictions[sorted_predictions['dataset'] == 'drive']\n",
    "df_alcpl = sorted_predictions[sorted_predictions['dataset'] == 'al_cpl']"
   ]
  },
  {
   "cell_type": "code",
   "execution_count": 25,
   "metadata": {
    "ExecuteTime": {
     "end_time": "2024-07-03T19:27:43.688665Z",
     "start_time": "2024-07-03T19:27:43.682551Z"
    }
   },
   "outputs": [],
   "source": [
    "df_test = sorted_predictions[sorted_predictions['_split_set'] == 'test']"
   ]
  },
  {
   "cell_type": "markdown",
   "metadata": {},
   "source": [
    "# Check Test Set"
   ]
  },
  {
   "cell_type": "code",
   "execution_count": 26,
   "metadata": {
    "ExecuteTime": {
     "end_time": "2024-07-03T19:27:43.710391Z",
     "start_time": "2024-07-03T19:27:43.690660Z"
    }
   },
   "outputs": [
    {
     "name": "stdout",
     "output_type": "stream",
     "text": [
      "              precision    recall  f1-score   support\n",
      "\n",
      "           0       0.89      0.96      0.92      1309\n",
      "           1       0.88      0.72      0.79       549\n",
      "\n",
      "    accuracy                           0.89      1858\n",
      "   macro avg       0.89      0.84      0.86      1858\n",
      "weighted avg       0.89      0.89      0.88      1858\n",
      "\n"
     ]
    }
   ],
   "source": "print(classification_report(df_test['isPrerequisite'], df_test['pred']))"
  },
  {
   "cell_type": "code",
   "execution_count": 27,
   "metadata": {
    "ExecuteTime": {
     "end_time": "2024-07-03T19:27:59.840033Z",
     "start_time": "2024-07-03T19:27:59.827809Z"
    }
   },
   "outputs": [
    {
     "name": "stdout",
     "output_type": "stream",
     "text": [
      "0.8834080717488789 0.7176684881602914 0.7919597989949749\n"
     ]
    }
   ],
   "source": [
    "print(precision_score(df_test['isPrerequisite'], df_test['pred']), recall_score(df_test['isPrerequisite'], df_test['pred']), f1_score(df_test['isPrerequisite'], df_test['pred']))"
   ]
  },
  {
   "cell_type": "markdown",
   "metadata": {},
   "source": [
    "# Generate Pseudo Data"
   ]
  },
  {
   "cell_type": "code",
   "execution_count": 98,
   "metadata": {
    "ExecuteTime": {
     "end_time": "2024-07-03T20:23:24.659074Z",
     "start_time": "2024-07-03T20:23:24.649163Z"
    }
   },
   "outputs": [
    {
     "data": {
      "text/html": [
       "<div>\n",
       "<style scoped>\n",
       "    .dataframe tbody tr th:only-of-type {\n",
       "        vertical-align: middle;\n",
       "    }\n",
       "\n",
       "    .dataframe tbody tr th {\n",
       "        vertical-align: top;\n",
       "    }\n",
       "\n",
       "    .dataframe thead th {\n",
       "        text-align: right;\n",
       "    }\n",
       "</style>\n",
       "<table border=\"1\" class=\"dataframe\">\n",
       "  <thead>\n",
       "    <tr style=\"text-align: right;\">\n",
       "      <th></th>\n",
       "      <th>conceptA</th>\n",
       "      <th>conceptB</th>\n",
       "      <th>isPrerequisite</th>\n",
       "      <th>dataset</th>\n",
       "    </tr>\n",
       "  </thead>\n",
       "  <tbody>\n",
       "    <tr>\n",
       "      <th>2321</th>\n",
       "      <td>375</td>\n",
       "      <td>1086</td>\n",
       "      <td>0</td>\n",
       "      <td>moocML</td>\n",
       "    </tr>\n",
       "    <tr>\n",
       "      <th>5480</th>\n",
       "      <td>87</td>\n",
       "      <td>277</td>\n",
       "      <td>1</td>\n",
       "      <td>moocML</td>\n",
       "    </tr>\n",
       "    <tr>\n",
       "      <th>14445</th>\n",
       "      <td>476</td>\n",
       "      <td>392</td>\n",
       "      <td>1</td>\n",
       "      <td>al_cpl</td>\n",
       "    </tr>\n",
       "    <tr>\n",
       "      <th>7352</th>\n",
       "      <td>595</td>\n",
       "      <td>214</td>\n",
       "      <td>0</td>\n",
       "      <td>moocDSA</td>\n",
       "    </tr>\n",
       "    <tr>\n",
       "      <th>14136</th>\n",
       "      <td>1073</td>\n",
       "      <td>913</td>\n",
       "      <td>0</td>\n",
       "      <td>al_cpl</td>\n",
       "    </tr>\n",
       "  </tbody>\n",
       "</table>\n",
       "</div>"
      ],
      "text/plain": [
       "       conceptA  conceptB  isPrerequisite  dataset\n",
       "2321        375      1086               0   moocML\n",
       "5480         87       277               1   moocML\n",
       "14445       476       392               1   al_cpl\n",
       "7352        595       214               0  moocDSA\n",
       "14136      1073       913               0   al_cpl"
      ]
     },
     "execution_count": 98,
     "metadata": {},
     "output_type": "execute_result"
    }
   ],
   "source": [
    "train.head()"
   ]
  },
  {
   "cell_type": "code",
   "execution_count": 29,
   "metadata": {
    "ExecuteTime": {
     "end_time": "2024-07-03T19:36:21.193670Z",
     "start_time": "2024-07-03T19:36:01.692844Z"
    }
   },
   "outputs": [],
   "source": [
    "users, items, preds = [], [], []\n",
    "item = list(train[\"conceptB\"].unique())\n",
    "for user in train[\"conceptA\"].unique():\n",
    "    user = [user] * len(item) \n",
    "    users.extend(user)\n",
    "    items.extend(item)\n",
    "    preds.extend(list(model.predict(user, item, is_list=True)))\n",
    "\n",
    "pseudo_predictions = pd.DataFrame(data={\"conceptA\": users, \"conceptB\":items, \"isPrerequisite_pred\":preds})"
   ]
  },
  {
   "cell_type": "code",
   "execution_count": 30,
   "metadata": {
    "ExecuteTime": {
     "end_time": "2024-07-03T19:36:21.200408Z",
     "start_time": "2024-07-03T19:36:21.194684Z"
    }
   },
   "outputs": [
    {
     "data": {
      "text/plain": [
       "((2214400, 3), (16766, 4))"
      ]
     },
     "execution_count": 30,
     "metadata": {},
     "output_type": "execute_result"
    }
   ],
   "source": [
    "pseudo_predictions.shape, train.shape"
   ]
  },
  {
   "cell_type": "code",
   "execution_count": 31,
   "metadata": {
    "ExecuteTime": {
     "end_time": "2024-07-03T19:36:21.218555Z",
     "start_time": "2024-07-03T19:36:21.201402Z"
    }
   },
   "outputs": [
    {
     "data": {
      "text/plain": [
       "conceptA          1384\n",
       "conceptB          1600\n",
       "isPrerequisite       2\n",
       "dataset              4\n",
       "dtype: int64"
      ]
     },
     "execution_count": 31,
     "metadata": {},
     "output_type": "execute_result"
    }
   ],
   "source": [
    "train.nunique()"
   ]
  },
  {
   "cell_type": "code",
   "execution_count": 32,
   "metadata": {
    "ExecuteTime": {
     "end_time": "2024-07-03T19:36:23.970685Z",
     "start_time": "2024-07-03T19:36:21.220493Z"
    }
   },
   "outputs": [],
   "source": [
    "pseudo_predictions.sort_values(by=['conceptA', 'isPrerequisite_pred'], ascending=[True, False], inplace=True)"
   ]
  },
  {
   "cell_type": "code",
   "execution_count": 33,
   "metadata": {
    "ExecuteTime": {
     "end_time": "2024-07-03T19:36:23.979579Z",
     "start_time": "2024-07-03T19:36:23.971681Z"
    }
   },
   "outputs": [
    {
     "data": {
      "text/html": [
       "<div>\n",
       "<style scoped>\n",
       "    .dataframe tbody tr th:only-of-type {\n",
       "        vertical-align: middle;\n",
       "    }\n",
       "\n",
       "    .dataframe tbody tr th {\n",
       "        vertical-align: top;\n",
       "    }\n",
       "\n",
       "    .dataframe thead th {\n",
       "        text-align: right;\n",
       "    }\n",
       "</style>\n",
       "<table border=\"1\" class=\"dataframe\">\n",
       "  <thead>\n",
       "    <tr style=\"text-align: right;\">\n",
       "      <th></th>\n",
       "      <th>conceptA</th>\n",
       "      <th>conceptB</th>\n",
       "      <th>isPrerequisite_pred</th>\n",
       "    </tr>\n",
       "  </thead>\n",
       "  <tbody>\n",
       "    <tr>\n",
       "      <th>1573150</th>\n",
       "      <td>0</td>\n",
       "      <td>1574</td>\n",
       "      <td>0.987543</td>\n",
       "    </tr>\n",
       "    <tr>\n",
       "      <th>1573900</th>\n",
       "      <td>0</td>\n",
       "      <td>656</td>\n",
       "      <td>0.984856</td>\n",
       "    </tr>\n",
       "    <tr>\n",
       "      <th>1572958</th>\n",
       "      <td>0</td>\n",
       "      <td>386</td>\n",
       "      <td>0.977696</td>\n",
       "    </tr>\n",
       "    <tr>\n",
       "      <th>1572957</th>\n",
       "      <td>0</td>\n",
       "      <td>1512</td>\n",
       "      <td>0.977597</td>\n",
       "    </tr>\n",
       "    <tr>\n",
       "      <th>1573791</th>\n",
       "      <td>0</td>\n",
       "      <td>253</td>\n",
       "      <td>0.971211</td>\n",
       "    </tr>\n",
       "  </tbody>\n",
       "</table>\n",
       "</div>"
      ],
      "text/plain": [
       "         conceptA  conceptB  isPrerequisite_pred\n",
       "1573150         0      1574             0.987543\n",
       "1573900         0       656             0.984856\n",
       "1572958         0       386             0.977696\n",
       "1572957         0      1512             0.977597\n",
       "1573791         0       253             0.971211"
      ]
     },
     "execution_count": 33,
     "metadata": {},
     "output_type": "execute_result"
    }
   ],
   "source": [
    "pseudo_predictions.head()"
   ]
  },
  {
   "cell_type": "code",
   "execution_count": 55,
   "metadata": {
    "ExecuteTime": {
     "end_time": "2024-07-03T20:07:00.198917Z",
     "start_time": "2024-07-03T20:07:00.145922Z"
    }
   },
   "outputs": [],
   "source": [
    "vs = train.groupby('conceptA').agg('sum')['isPrerequisite'].reset_index()"
   ]
  },
  {
   "cell_type": "code",
   "execution_count": 56,
   "metadata": {
    "ExecuteTime": {
     "end_time": "2024-07-03T20:07:01.569040Z",
     "start_time": "2024-07-03T20:07:01.555693Z"
    }
   },
   "outputs": [
    {
     "data": {
      "text/html": [
       "<div>\n",
       "<style scoped>\n",
       "    .dataframe tbody tr th:only-of-type {\n",
       "        vertical-align: middle;\n",
       "    }\n",
       "\n",
       "    .dataframe tbody tr th {\n",
       "        vertical-align: top;\n",
       "    }\n",
       "\n",
       "    .dataframe thead th {\n",
       "        text-align: right;\n",
       "    }\n",
       "</style>\n",
       "<table border=\"1\" class=\"dataframe\">\n",
       "  <thead>\n",
       "    <tr style=\"text-align: right;\">\n",
       "      <th></th>\n",
       "      <th>conceptA</th>\n",
       "      <th>isPrerequisite</th>\n",
       "    </tr>\n",
       "  </thead>\n",
       "  <tbody>\n",
       "    <tr>\n",
       "      <th>0</th>\n",
       "      <td>0</td>\n",
       "      <td>4</td>\n",
       "    </tr>\n",
       "    <tr>\n",
       "      <th>1</th>\n",
       "      <td>1</td>\n",
       "      <td>6</td>\n",
       "    </tr>\n",
       "    <tr>\n",
       "      <th>2</th>\n",
       "      <td>2</td>\n",
       "      <td>2</td>\n",
       "    </tr>\n",
       "    <tr>\n",
       "      <th>3</th>\n",
       "      <td>3</td>\n",
       "      <td>2</td>\n",
       "    </tr>\n",
       "    <tr>\n",
       "      <th>4</th>\n",
       "      <td>4</td>\n",
       "      <td>6</td>\n",
       "    </tr>\n",
       "    <tr>\n",
       "      <th>...</th>\n",
       "      <td>...</td>\n",
       "      <td>...</td>\n",
       "    </tr>\n",
       "    <tr>\n",
       "      <th>1379</th>\n",
       "      <td>1379</td>\n",
       "      <td>0</td>\n",
       "    </tr>\n",
       "    <tr>\n",
       "      <th>1380</th>\n",
       "      <td>1380</td>\n",
       "      <td>0</td>\n",
       "    </tr>\n",
       "    <tr>\n",
       "      <th>1381</th>\n",
       "      <td>1381</td>\n",
       "      <td>2</td>\n",
       "    </tr>\n",
       "    <tr>\n",
       "      <th>1382</th>\n",
       "      <td>1382</td>\n",
       "      <td>0</td>\n",
       "    </tr>\n",
       "    <tr>\n",
       "      <th>1383</th>\n",
       "      <td>1383</td>\n",
       "      <td>1</td>\n",
       "    </tr>\n",
       "  </tbody>\n",
       "</table>\n",
       "<p>1384 rows × 2 columns</p>\n",
       "</div>"
      ],
      "text/plain": [
       "      conceptA  isPrerequisite\n",
       "0            0               4\n",
       "1            1               6\n",
       "2            2               2\n",
       "3            3               2\n",
       "4            4               6\n",
       "...        ...             ...\n",
       "1379      1379               0\n",
       "1380      1380               0\n",
       "1381      1381               2\n",
       "1382      1382               0\n",
       "1383      1383               1\n",
       "\n",
       "[1384 rows x 2 columns]"
      ]
     },
     "execution_count": 56,
     "metadata": {},
     "output_type": "execute_result"
    }
   ],
   "source": [
    "vs"
   ]
  },
  {
   "cell_type": "code",
   "execution_count": 121,
   "metadata": {
    "ExecuteTime": {
     "end_time": "2024-07-03T20:30:23.264078Z",
     "start_time": "2024-07-03T20:30:23.256584Z"
    }
   },
   "outputs": [],
   "source": [
    "def biased_coin_toss(n, p=0.25):\n",
    "    # Simulate n coin tosses with probability p of getting 1\n",
    "    results = np.random.binomial(1, p, n)\n",
    "    # Count the number of 1s\n",
    "    count_of_ones = np.sum(results)\n",
    "    return count_of_ones"
   ]
  },
  {
   "cell_type": "code",
   "execution_count": 124,
   "metadata": {
    "ExecuteTime": {
     "end_time": "2024-07-03T20:30:28.506031Z",
     "start_time": "2024-07-03T20:30:28.483345Z"
    }
   },
   "outputs": [],
   "source": [
    "np.random.seed(SEED)\n",
    "\n",
    "vs['k'] = (vs['isPrerequisite']).apply(biased_coin_toss)\n",
    "\n",
    "vs['isPrerequisite'].sum(), vs['k'].sum()"
   ]
  },
  {
   "cell_type": "code",
   "execution_count": 126,
   "metadata": {
    "ExecuteTime": {
     "end_time": "2024-07-03T20:30:48.846280Z",
     "start_time": "2024-07-03T20:30:48.838810Z"
    }
   },
   "outputs": [
    {
     "data": {
      "text/html": [
       "<div>\n",
       "<style scoped>\n",
       "    .dataframe tbody tr th:only-of-type {\n",
       "        vertical-align: middle;\n",
       "    }\n",
       "\n",
       "    .dataframe tbody tr th {\n",
       "        vertical-align: top;\n",
       "    }\n",
       "\n",
       "    .dataframe thead th {\n",
       "        text-align: right;\n",
       "    }\n",
       "</style>\n",
       "<table border=\"1\" class=\"dataframe\">\n",
       "  <thead>\n",
       "    <tr style=\"text-align: right;\">\n",
       "      <th></th>\n",
       "      <th>conceptA</th>\n",
       "      <th>conceptB</th>\n",
       "      <th>isPrerequisite_pred</th>\n",
       "    </tr>\n",
       "  </thead>\n",
       "  <tbody>\n",
       "    <tr>\n",
       "      <th>1573150</th>\n",
       "      <td>0</td>\n",
       "      <td>1574</td>\n",
       "      <td>0.987543</td>\n",
       "    </tr>\n",
       "    <tr>\n",
       "      <th>1573900</th>\n",
       "      <td>0</td>\n",
       "      <td>656</td>\n",
       "      <td>0.984856</td>\n",
       "    </tr>\n",
       "    <tr>\n",
       "      <th>1572958</th>\n",
       "      <td>0</td>\n",
       "      <td>386</td>\n",
       "      <td>0.977696</td>\n",
       "    </tr>\n",
       "    <tr>\n",
       "      <th>1572957</th>\n",
       "      <td>0</td>\n",
       "      <td>1512</td>\n",
       "      <td>0.977597</td>\n",
       "    </tr>\n",
       "    <tr>\n",
       "      <th>1573791</th>\n",
       "      <td>0</td>\n",
       "      <td>253</td>\n",
       "      <td>0.971211</td>\n",
       "    </tr>\n",
       "  </tbody>\n",
       "</table>\n",
       "</div>"
      ],
      "text/plain": [
       "         conceptA  conceptB  isPrerequisite_pred\n",
       "1573150         0      1574             0.987543\n",
       "1573900         0       656             0.984856\n",
       "1572958         0       386             0.977696\n",
       "1572957         0      1512             0.977597\n",
       "1573791         0       253             0.971211"
      ]
     },
     "execution_count": 126,
     "metadata": {},
     "output_type": "execute_result"
    }
   ],
   "source": [
    "pseudo_predictions.head()"
   ]
  },
  {
   "cell_type": "code",
   "execution_count": 127,
   "metadata": {
    "ExecuteTime": {
     "end_time": "2024-07-03T20:30:56.067861Z",
     "start_time": "2024-07-03T20:30:55.801632Z"
    }
   },
   "outputs": [],
   "source": [
    "pseudo_predictions = pseudo_predictions.merge(vs[['conceptA', 'k']], on='conceptA', how='left')"
   ]
  },
  {
   "cell_type": "code",
   "execution_count": 128,
   "metadata": {
    "ExecuteTime": {
     "end_time": "2024-07-03T20:30:56.920186Z",
     "start_time": "2024-07-03T20:30:56.905720Z"
    }
   },
   "outputs": [
    {
     "data": {
      "text/html": [
       "<div>\n",
       "<style scoped>\n",
       "    .dataframe tbody tr th:only-of-type {\n",
       "        vertical-align: middle;\n",
       "    }\n",
       "\n",
       "    .dataframe tbody tr th {\n",
       "        vertical-align: top;\n",
       "    }\n",
       "\n",
       "    .dataframe thead th {\n",
       "        text-align: right;\n",
       "    }\n",
       "</style>\n",
       "<table border=\"1\" class=\"dataframe\">\n",
       "  <thead>\n",
       "    <tr style=\"text-align: right;\">\n",
       "      <th></th>\n",
       "      <th>conceptA</th>\n",
       "      <th>conceptB</th>\n",
       "      <th>isPrerequisite_pred</th>\n",
       "      <th>k</th>\n",
       "    </tr>\n",
       "  </thead>\n",
       "  <tbody>\n",
       "    <tr>\n",
       "      <th>0</th>\n",
       "      <td>0</td>\n",
       "      <td>1574</td>\n",
       "      <td>0.987543</td>\n",
       "      <td>1</td>\n",
       "    </tr>\n",
       "    <tr>\n",
       "      <th>1</th>\n",
       "      <td>0</td>\n",
       "      <td>656</td>\n",
       "      <td>0.984856</td>\n",
       "      <td>1</td>\n",
       "    </tr>\n",
       "    <tr>\n",
       "      <th>2</th>\n",
       "      <td>0</td>\n",
       "      <td>386</td>\n",
       "      <td>0.977696</td>\n",
       "      <td>1</td>\n",
       "    </tr>\n",
       "    <tr>\n",
       "      <th>3</th>\n",
       "      <td>0</td>\n",
       "      <td>1512</td>\n",
       "      <td>0.977597</td>\n",
       "      <td>1</td>\n",
       "    </tr>\n",
       "    <tr>\n",
       "      <th>4</th>\n",
       "      <td>0</td>\n",
       "      <td>253</td>\n",
       "      <td>0.971211</td>\n",
       "      <td>1</td>\n",
       "    </tr>\n",
       "    <tr>\n",
       "      <th>...</th>\n",
       "      <td>...</td>\n",
       "      <td>...</td>\n",
       "      <td>...</td>\n",
       "      <td>...</td>\n",
       "    </tr>\n",
       "    <tr>\n",
       "      <th>2214395</th>\n",
       "      <td>1383</td>\n",
       "      <td>1086</td>\n",
       "      <td>0.000888</td>\n",
       "      <td>0</td>\n",
       "    </tr>\n",
       "    <tr>\n",
       "      <th>2214396</th>\n",
       "      <td>1383</td>\n",
       "      <td>1305</td>\n",
       "      <td>0.000880</td>\n",
       "      <td>0</td>\n",
       "    </tr>\n",
       "    <tr>\n",
       "      <th>2214397</th>\n",
       "      <td>1383</td>\n",
       "      <td>923</td>\n",
       "      <td>0.000772</td>\n",
       "      <td>0</td>\n",
       "    </tr>\n",
       "    <tr>\n",
       "      <th>2214398</th>\n",
       "      <td>1383</td>\n",
       "      <td>1266</td>\n",
       "      <td>0.000769</td>\n",
       "      <td>0</td>\n",
       "    </tr>\n",
       "    <tr>\n",
       "      <th>2214399</th>\n",
       "      <td>1383</td>\n",
       "      <td>1306</td>\n",
       "      <td>0.000700</td>\n",
       "      <td>0</td>\n",
       "    </tr>\n",
       "  </tbody>\n",
       "</table>\n",
       "<p>2214400 rows × 4 columns</p>\n",
       "</div>"
      ],
      "text/plain": [
       "         conceptA  conceptB  isPrerequisite_pred  k\n",
       "0               0      1574             0.987543  1\n",
       "1               0       656             0.984856  1\n",
       "2               0       386             0.977696  1\n",
       "3               0      1512             0.977597  1\n",
       "4               0       253             0.971211  1\n",
       "...           ...       ...                  ... ..\n",
       "2214395      1383      1086             0.000888  0\n",
       "2214396      1383      1305             0.000880  0\n",
       "2214397      1383       923             0.000772  0\n",
       "2214398      1383      1266             0.000769  0\n",
       "2214399      1383      1306             0.000700  0\n",
       "\n",
       "[2214400 rows x 4 columns]"
      ]
     },
     "execution_count": 128,
     "metadata": {},
     "output_type": "execute_result"
    }
   ],
   "source": [
    "pseudo_predictions"
   ]
  },
  {
   "cell_type": "code",
   "execution_count": 129,
   "metadata": {
    "ExecuteTime": {
     "end_time": "2024-07-03T20:31:13.729038Z",
     "start_time": "2024-07-03T20:31:12.836259Z"
    }
   },
   "outputs": [],
   "source": [
    "pseudo_pos = pseudo_predictions.groupby('conceptA').apply(lambda x : x.head(int(x['k'].values[0]))).reset_index(drop=True)\n",
    "pseudo_neg = pseudo_predictions.groupby('conceptA').apply(lambda x : x.tail(int(x['k'].values[0]))).reset_index(drop=True)"
   ]
  },
  {
   "cell_type": "markdown",
   "metadata": {},
   "source": [
    "## 3.5 Pre-training\n",
    "\n",
    "To get better performance of NeuMF, we can adopt pre-training strategy. We first train GMF and MLP with random initializations until convergence. Then use their model parameters as the initialization for the corresponding parts of NeuMF’s parameters.  Please pay attention to the output layer, where we concatenate weights of the two models with\n",
    "\n",
    "$$h ^ { N C F } \\leftarrow \\left[ \\begin{array} { c } { \\alpha h ^ { G M F } } \\\\ { ( 1 - \\alpha ) h ^ { M L P } } \\end{array} \\right]$$\n",
    "\n",
    "where $h^{GMF}$ and $h^{MLP}$ denote the $h$ vector of the pretrained GMF and MLP model, respectively; and $\\alpha$ is a\n",
    "hyper-parameter determining the trade-off between the two pre-trained models. We set $\\alpha$ = 0.5."
   ]
  },
  {
   "cell_type": "markdown",
   "metadata": {},
   "source": [
    "### 3.5.1 Training GMF and MLP model\n",
    "`model.save`, we can set the `dir_name` to store the parameters of GMF and MLP"
   ]
  },
  {
   "cell_type": "code",
   "execution_count": 40,
   "metadata": {
    "ExecuteTime": {
     "end_time": "2024-05-04T14:20:45.032109Z",
     "start_time": "2024-05-04T14:20:44.279477Z"
    }
   },
   "outputs": [
    {
     "name": "stderr",
     "output_type": "stream",
     "text": [
      "C:\\Users\\Luka\\Documents\\University\\bachelor-project-prerequisite-learning\\venv\\Lib\\site-packages\\tensorflow\\python\\keras\\engine\\base_layer_v1.py:1694: UserWarning: `layer.apply` is deprecated and will be removed in a future version. Please use `layer.__call__` method instead.\n",
      "  warnings.warn('`layer.apply` is deprecated and '\n"
     ]
    }
   ],
   "source": [
    "model = NCF(\n",
    "    n_users=data.n_users, \n",
    "    n_items=data.n_items,\n",
    "    model_type=\"GMF\",\n",
    "    n_factors=32,\n",
    "    layer_sizes=[16,8,4],\n",
    "    n_epochs=EPOCHS,\n",
    "    batch_size=BATCH_SIZE,\n",
    "    learning_rate=1e-3,\n",
    "    verbose=10,\n",
    "    seed=SEED\n",
    ")"
   ]
  },
  {
   "cell_type": "code",
   "execution_count": 41,
   "metadata": {
    "ExecuteTime": {
     "end_time": "2024-05-04T14:23:30.429502Z",
     "start_time": "2024-05-04T14:20:45.033255Z"
    }
   },
   "outputs": [
    {
     "name": "stderr",
     "output_type": "stream",
     "text": [
      "INFO:ncf:Epoch 10 [4.53s]: train_loss = 0.127921 \n",
      "INFO:ncf:Epoch 20 [2.92s]: train_loss = 0.065289 \n",
      "INFO:ncf:Epoch 30 [3.52s]: train_loss = 0.022822 \n",
      "INFO:ncf:Epoch 40 [2.79s]: train_loss = 0.007226 \n",
      "INFO:ncf:Epoch 50 [2.94s]: train_loss = 0.003469 \n"
     ]
    }
   ],
   "source": [
    "model.fit(data)\n",
    "\n",
    "model.save(dir_name=\".pretrain/GMF\")"
   ]
  },
  {
   "cell_type": "code",
   "execution_count": 42,
   "metadata": {
    "ExecuteTime": {
     "end_time": "2024-05-04T14:23:30.831739Z",
     "start_time": "2024-05-04T14:23:30.430443Z"
    }
   },
   "outputs": [],
   "source": [
    "model = NCF(\n",
    "    n_users=data.n_users, \n",
    "    n_items=data.n_items,\n",
    "    model_type=\"MLP\",\n",
    "    n_factors=32,\n",
    "    layer_sizes=[16,8,4],\n",
    "    n_epochs=EPOCHS,\n",
    "    batch_size=BATCH_SIZE,\n",
    "    learning_rate=1e-3,\n",
    "    verbose=10,\n",
    "    seed=SEED\n",
    ")"
   ]
  },
  {
   "cell_type": "code",
   "execution_count": 43,
   "metadata": {
    "ExecuteTime": {
     "end_time": "2024-05-04T14:26:18.353184Z",
     "start_time": "2024-05-04T14:23:30.832736Z"
    }
   },
   "outputs": [
    {
     "name": "stderr",
     "output_type": "stream",
     "text": [
      "INFO:ncf:Epoch 10 [2.86s]: train_loss = 0.123431 \n",
      "INFO:ncf:Epoch 20 [2.76s]: train_loss = 0.109892 \n",
      "INFO:ncf:Epoch 30 [4.46s]: train_loss = 0.085276 \n",
      "INFO:ncf:Epoch 40 [2.68s]: train_loss = 0.065812 \n",
      "INFO:ncf:Epoch 50 [4.19s]: train_loss = 0.048528 \n"
     ]
    }
   ],
   "source": [
    "model.fit(data)\n",
    "\n",
    "model.save(dir_name=\".pretrain/MLP\")"
   ]
  },
  {
   "cell_type": "markdown",
   "metadata": {},
   "source": [
    "### 3.5.2 Load pre-trained GMF and MLP model for NeuMF\n",
    "`model.load`, we can set the `gmf_dir` and `mlp_dir` to store the parameters for NeuMF."
   ]
  },
  {
   "cell_type": "code",
   "execution_count": 44,
   "metadata": {
    "ExecuteTime": {
     "end_time": "2024-05-04T14:26:19.686024Z",
     "start_time": "2024-05-04T14:26:18.354176Z"
    }
   },
   "outputs": [],
   "source": [
    "model = NCF(\n",
    "    n_users=data.n_users, \n",
    "    n_items=data.n_items,\n",
    "    model_type=\"NeuMF\",\n",
    "    n_factors=32,\n",
    "    layer_sizes=[16,8,4],\n",
    "    n_epochs=EPOCHS,\n",
    "    batch_size=BATCH_SIZE,\n",
    "    learning_rate=1e-3,\n",
    "    verbose=10,\n",
    "    seed=SEED\n",
    ")\n",
    "\n",
    "model.load(gmf_dir=\".pretrain/GMF\", mlp_dir=\".pretrain/MLP\", alpha=0.5)"
   ]
  },
  {
   "cell_type": "code",
   "execution_count": 45,
   "metadata": {
    "ExecuteTime": {
     "end_time": "2024-05-04T14:29:38.672301Z",
     "start_time": "2024-05-04T14:26:19.687019Z"
    }
   },
   "outputs": [
    {
     "name": "stderr",
     "output_type": "stream",
     "text": [
      "INFO:ncf:Epoch 10 [4.18s]: train_loss = 0.002550 \n",
      "INFO:ncf:Epoch 20 [5.03s]: train_loss = 0.001300 \n",
      "INFO:ncf:Epoch 30 [3.64s]: train_loss = 0.000683 \n",
      "INFO:ncf:Epoch 40 [3.90s]: train_loss = 0.000822 \n",
      "INFO:ncf:Epoch 50 [3.74s]: train_loss = 0.000433 \n"
     ]
    }
   ],
   "source": [
    "model.fit(data)"
   ]
  },
  {
   "cell_type": "markdown",
   "metadata": {},
   "source": [
    "### 3.5.3 Compare with not pre-trained NeuMF\n",
    "\n",
    "You can use beforementioned evaluation methods to evaluate the pre-trained `NCF` Model. Usually, we will find the performance of pre-trained NCF is better than the not pre-trained."
   ]
  },
  {
   "cell_type": "code",
   "execution_count": 46,
   "metadata": {
    "ExecuteTime": {
     "end_time": "2024-05-04T14:29:39.674058Z",
     "start_time": "2024-05-04T14:29:38.673246Z"
    }
   },
   "outputs": [],
   "source": [
    "predictions = [[row.conceptA, row.conceptB, model.predict(row.conceptA, row.conceptB)]\n",
    "               for (_, row) in test.iterrows()]\n",
    "\n",
    "predictions = pd.DataFrame(predictions, columns=['conceptA', 'conceptB', 'isPrerequisite_pred'])\n",
    "\n",
    "test.index = predictions.index\n",
    "predictions['isPrerequisite'] = test['isPrerequisite']\n",
    "sorted_predictions = predictions.sort_values(by='isPrerequisite_pred', ascending=False)\n",
    "sorted_predictions['pred'] = (sorted_predictions['isPrerequisite_pred'] >= THRESHOLD).astype(int)"
   ]
  },
  {
   "cell_type": "code",
   "execution_count": 47,
   "metadata": {
    "ExecuteTime": {
     "end_time": "2024-05-04T14:29:39.694481Z",
     "start_time": "2024-05-04T14:29:39.675080Z"
    }
   },
   "outputs": [
    {
     "name": "stdout",
     "output_type": "stream",
     "text": [
      "              precision    recall  f1-score   support\n",
      "\n",
      "           0       0.76      1.00      0.86      1283\n",
      "           1       0.97      0.24      0.38       529\n",
      "\n",
      "    accuracy                           0.78      1812\n",
      "   macro avg       0.86      0.62      0.62      1812\n",
      "weighted avg       0.82      0.78      0.72      1812\n",
      "\n"
     ]
    }
   ],
   "source": [
    "print(classification_report(sorted_predictions['isPrerequisite'], sorted_predictions['pred']))"
   ]
  },
  {
   "cell_type": "code",
   "execution_count": 48,
   "metadata": {
    "ExecuteTime": {
     "end_time": "2024-05-04T14:29:39.700464Z",
     "start_time": "2024-05-04T14:29:39.695475Z"
    }
   },
   "outputs": [],
   "source": [
    "K = 67\n",
    "\n",
    "top_k = sorted_predictions.head(K)\n",
    "\n",
    "bottom_k = sorted_predictions.tail(K)"
   ]
  },
  {
   "cell_type": "code",
   "execution_count": 49,
   "metadata": {
    "ExecuteTime": {
     "end_time": "2024-05-04T14:29:39.717646Z",
     "start_time": "2024-05-04T14:29:39.702458Z"
    }
   },
   "outputs": [
    {
     "data": {
      "text/html": [
       "<div>\n",
       "<style scoped>\n",
       "    .dataframe tbody tr th:only-of-type {\n",
       "        vertical-align: middle;\n",
       "    }\n",
       "\n",
       "    .dataframe tbody tr th {\n",
       "        vertical-align: top;\n",
       "    }\n",
       "\n",
       "    .dataframe thead th {\n",
       "        text-align: right;\n",
       "    }\n",
       "</style>\n",
       "<table border=\"1\" class=\"dataframe\">\n",
       "  <thead>\n",
       "    <tr style=\"text-align: right;\">\n",
       "      <th></th>\n",
       "      <th>conceptA</th>\n",
       "      <th>conceptB</th>\n",
       "      <th>isPrerequisite_pred</th>\n",
       "      <th>isPrerequisite</th>\n",
       "      <th>pred</th>\n",
       "    </tr>\n",
       "  </thead>\n",
       "  <tbody>\n",
       "    <tr>\n",
       "      <th>111</th>\n",
       "      <td>1232</td>\n",
       "      <td>1331</td>\n",
       "      <td>1.000000</td>\n",
       "      <td>1</td>\n",
       "      <td>1</td>\n",
       "    </tr>\n",
       "    <tr>\n",
       "      <th>36</th>\n",
       "      <td>75</td>\n",
       "      <td>1502</td>\n",
       "      <td>1.000000</td>\n",
       "      <td>1</td>\n",
       "      <td>1</td>\n",
       "    </tr>\n",
       "    <tr>\n",
       "      <th>1734</th>\n",
       "      <td>1344</td>\n",
       "      <td>1093</td>\n",
       "      <td>0.999999</td>\n",
       "      <td>1</td>\n",
       "      <td>1</td>\n",
       "    </tr>\n",
       "    <tr>\n",
       "      <th>157</th>\n",
       "      <td>1021</td>\n",
       "      <td>1289</td>\n",
       "      <td>0.999999</td>\n",
       "      <td>1</td>\n",
       "      <td>1</td>\n",
       "    </tr>\n",
       "    <tr>\n",
       "      <th>1030</th>\n",
       "      <td>1273</td>\n",
       "      <td>1376</td>\n",
       "      <td>0.999994</td>\n",
       "      <td>1</td>\n",
       "      <td>1</td>\n",
       "    </tr>\n",
       "    <tr>\n",
       "      <th>...</th>\n",
       "      <td>...</td>\n",
       "      <td>...</td>\n",
       "      <td>...</td>\n",
       "      <td>...</td>\n",
       "      <td>...</td>\n",
       "    </tr>\n",
       "    <tr>\n",
       "      <th>264</th>\n",
       "      <td>307</td>\n",
       "      <td>5</td>\n",
       "      <td>0.991381</td>\n",
       "      <td>1</td>\n",
       "      <td>1</td>\n",
       "    </tr>\n",
       "    <tr>\n",
       "      <th>1427</th>\n",
       "      <td>662</td>\n",
       "      <td>510</td>\n",
       "      <td>0.990228</td>\n",
       "      <td>1</td>\n",
       "      <td>1</td>\n",
       "    </tr>\n",
       "    <tr>\n",
       "      <th>955</th>\n",
       "      <td>1007</td>\n",
       "      <td>879</td>\n",
       "      <td>0.989968</td>\n",
       "      <td>1</td>\n",
       "      <td>1</td>\n",
       "    </tr>\n",
       "    <tr>\n",
       "      <th>425</th>\n",
       "      <td>508</td>\n",
       "      <td>1502</td>\n",
       "      <td>0.989865</td>\n",
       "      <td>1</td>\n",
       "      <td>1</td>\n",
       "    </tr>\n",
       "    <tr>\n",
       "      <th>1448</th>\n",
       "      <td>150</td>\n",
       "      <td>1404</td>\n",
       "      <td>0.988634</td>\n",
       "      <td>1</td>\n",
       "      <td>1</td>\n",
       "    </tr>\n",
       "  </tbody>\n",
       "</table>\n",
       "<p>67 rows × 5 columns</p>\n",
       "</div>"
      ],
      "text/plain": [
       "      conceptA  conceptB  isPrerequisite_pred  isPrerequisite  pred\n",
       "111       1232      1331             1.000000               1     1\n",
       "36          75      1502             1.000000               1     1\n",
       "1734      1344      1093             0.999999               1     1\n",
       "157       1021      1289             0.999999               1     1\n",
       "1030      1273      1376             0.999994               1     1\n",
       "...        ...       ...                  ...             ...   ...\n",
       "264        307         5             0.991381               1     1\n",
       "1427       662       510             0.990228               1     1\n",
       "955       1007       879             0.989968               1     1\n",
       "425        508      1502             0.989865               1     1\n",
       "1448       150      1404             0.988634               1     1\n",
       "\n",
       "[67 rows x 5 columns]"
      ]
     },
     "execution_count": 49,
     "metadata": {},
     "output_type": "execute_result"
    }
   ],
   "source": [
    "top_k"
   ]
  },
  {
   "cell_type": "code",
   "execution_count": 50,
   "metadata": {
    "ExecuteTime": {
     "end_time": "2024-05-04T14:29:39.736819Z",
     "start_time": "2024-05-04T14:29:39.718642Z"
    }
   },
   "outputs": [
    {
     "name": "stdout",
     "output_type": "stream",
     "text": [
      "              precision    recall  f1-score   support\n",
      "\n",
      "           0       0.00      0.00      0.00         2\n",
      "           1       0.97      1.00      0.98        65\n",
      "\n",
      "    accuracy                           0.97        67\n",
      "   macro avg       0.49      0.50      0.49        67\n",
      "weighted avg       0.94      0.97      0.96        67\n",
      "\n"
     ]
    },
    {
     "name": "stderr",
     "output_type": "stream",
     "text": [
      "C:\\Users\\Luka\\Documents\\University\\bachelor-project-prerequisite-learning\\venv\\Lib\\site-packages\\sklearn\\metrics\\_classification.py:1509: UndefinedMetricWarning: Precision is ill-defined and being set to 0.0 in labels with no predicted samples. Use `zero_division` parameter to control this behavior.\n",
      "  _warn_prf(average, modifier, f\"{metric.capitalize()} is\", len(result))\n",
      "C:\\Users\\Luka\\Documents\\University\\bachelor-project-prerequisite-learning\\venv\\Lib\\site-packages\\sklearn\\metrics\\_classification.py:1509: UndefinedMetricWarning: Precision is ill-defined and being set to 0.0 in labels with no predicted samples. Use `zero_division` parameter to control this behavior.\n",
      "  _warn_prf(average, modifier, f\"{metric.capitalize()} is\", len(result))\n",
      "C:\\Users\\Luka\\Documents\\University\\bachelor-project-prerequisite-learning\\venv\\Lib\\site-packages\\sklearn\\metrics\\_classification.py:1509: UndefinedMetricWarning: Precision is ill-defined and being set to 0.0 in labels with no predicted samples. Use `zero_division` parameter to control this behavior.\n",
      "  _warn_prf(average, modifier, f\"{metric.capitalize()} is\", len(result))\n"
     ]
    }
   ],
   "source": [
    "print(classification_report(top_k['isPrerequisite'], top_k['pred']))"
   ]
  },
  {
   "cell_type": "code",
   "execution_count": 51,
   "metadata": {
    "ExecuteTime": {
     "end_time": "2024-05-04T14:29:39.755779Z",
     "start_time": "2024-05-04T14:29:39.738808Z"
    }
   },
   "outputs": [
    {
     "name": "stdout",
     "output_type": "stream",
     "text": [
      "              precision    recall  f1-score   support\n",
      "\n",
      "           0       1.00      1.00      1.00        67\n",
      "\n",
      "    accuracy                           1.00        67\n",
      "   macro avg       1.00      1.00      1.00        67\n",
      "weighted avg       1.00      1.00      1.00        67\n",
      "\n"
     ]
    }
   ],
   "source": [
    "print(classification_report(bottom_k['isPrerequisite'], bottom_k['pred']))"
   ]
  },
  {
   "cell_type": "markdown",
   "metadata": {},
   "source": [
    "### Reference: \n",
    "1. Xiangnan He, Lizi Liao, Hanwang Zhang, Liqiang Nie, Xia Hu & Tat-Seng Chua, Neural Collaborative Filtering, 2017, https://arxiv.org/abs/1708.05031\n",
    "\n",
    "2. Official NCF implementation [Keras with Theano]: https://github.com/hexiangnan/neural_collaborative_filtering\n",
    "\n",
    "3. Other nice NCF implementation [Pytorch]: https://github.com/LaceyChen17/neural-collaborative-filtering"
   ]
  }
 ],
 "metadata": {
  "celltoolbar": "Tags",
  "interpreter": {
   "hash": "3a9a0c422ff9f08d62211b9648017c63b0a26d2c935edc37ebb8453675d13bb5"
  },
  "kernelspec": {
   "display_name": "Python 3 (ipykernel)",
   "language": "python",
   "name": "python3"
  },
  "language_info": {
   "codemirror_mode": {
    "name": "ipython",
    "version": 3
   },
   "file_extension": ".py",
   "mimetype": "text/x-python",
   "name": "python",
   "nbconvert_exporter": "python",
   "pygments_lexer": "ipython3",
   "version": "3.11.9"
  }
 },
 "nbformat": 4,
 "nbformat_minor": 4
}
