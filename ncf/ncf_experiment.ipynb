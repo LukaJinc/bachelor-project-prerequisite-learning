{
 "cells": [
  {
   "cell_type": "code",
   "metadata": {
    "ExecuteTime": {
     "end_time": "2024-07-24T11:21:48.174368Z",
     "start_time": "2024-07-24T11:21:38.871496Z"
    }
   },
   "source": [
    "import sys\n",
    "import pandas as pd\n",
    "import numpy as np\n",
    "import tensorflow as tf\n",
    "tf.get_logger().setLevel('ERROR') # only show error messages\n",
    "\n",
    "import itertools\n",
    "from sklearn.metrics import classification_report, precision_score, recall_score, f1_score\n",
    "\n",
    "from ncf.ncf import NCF\n",
    "from ncf.dataset import Dataset as NCFDataset\n",
    "\n",
    "from config import *\n",
    "\n",
    "import warnings\n",
    "warnings.filterwarnings('ignore')\n",
    "\n",
    "print(\"System version: {}\".format(sys.version))\n",
    "print(\"Pandas version: {}\".format(pd.__version__))\n",
    "print(\"Tensorflow version: {}\".format(tf.__version__))"
   ],
   "outputs": [
    {
     "name": "stdout",
     "output_type": "stream",
     "text": [
      "System version: 3.11.2 (tags/v3.11.2:878ead1, Feb  7 2023, 16:38:35) [MSC v.1934 64 bit (AMD64)]\n",
      "Pandas version: 2.2.1\n",
      "Tensorflow version: 2.16.1\n"
     ]
    }
   ],
   "execution_count": 1
  },
  {
   "cell_type": "markdown",
   "metadata": {},
   "source": [
    "# Cross Validation"
   ]
  },
  {
   "metadata": {
    "ExecuteTime": {
     "end_time": "2024-07-24T11:21:48.221102Z",
     "start_time": "2024-07-24T11:21:48.175895Z"
    }
   },
   "cell_type": "code",
   "source": [
    "train = pd.read_csv(DATA_PATH + TRAIN_TEST_FOLDER + 'train.csv')\n",
    "n_splits = 5"
   ],
   "outputs": [],
   "execution_count": 2
  },
  {
   "cell_type": "markdown",
   "metadata": {},
   "source": [
    "## Write Splits In Files"
   ]
  },
  {
   "metadata": {
    "ExecuteTime": {
     "end_time": "2024-07-24T11:21:48.231249Z",
     "start_time": "2024-07-24T11:21:48.222097Z"
    }
   },
   "cell_type": "code",
   "source": "DATA_PATH + CROSS_VALIDATION_FOLDER",
   "outputs": [
    {
     "data": {
      "text/plain": [
       "'C:/Users/Luka/Documents/University/bachelor-project-prerequisite-learning/data/cross_validation/'"
      ]
     },
     "execution_count": 3,
     "metadata": {},
     "output_type": "execute_result"
    }
   ],
   "execution_count": 3
  },
  {
   "cell_type": "code",
   "metadata": {
    "ExecuteTime": {
     "end_time": "2024-07-24T11:21:48.663717Z",
     "start_time": "2024-07-24T11:21:48.232245Z"
    }
   },
   "source": [
    "from sklearn.model_selection import StratifiedKFold\n",
    "\n",
    "skf = StratifiedKFold(n_splits=n_splits, random_state=SEED, shuffle=True)\n",
    "\n",
    "X = train[['conceptA', 'conceptB']]\n",
    "y = train['isPrerequisite']\n",
    "\n",
    "i = 0\n",
    "for train_index, test_index in skf.split(X, y):\n",
    "    train_cv = train.iloc[train_index]\n",
    "    test_cv = train.iloc[test_index] \n",
    "    train_file = DATA_PATH + CROSS_VALIDATION_FOLDER + f\"/cross_validation_train_{i}_split_{n_splits}.csv\"\n",
    "    test_file = DATA_PATH + CROSS_VALIDATION_FOLDER + f\"/cross_validation_test_{i}_split_{n_splits}.csv\"\n",
    "    i += 1\n",
    "    \n",
    "    train_conceptA = list(set(list(train_cv['conceptA'])))\n",
    "    train_conceptB = list(set(list(train_cv['conceptB'])))\n",
    "    test_conceptA = list(set(list(test_cv['conceptA'])))\n",
    "    test_conceptB = list(set(list(test_cv['conceptB'])))\n",
    "    \n",
    "    a = [x for x in test_conceptA if x not in train_conceptA]\n",
    "    b = [x for x in test_conceptB if x not in train_conceptB]\n",
    "    \n",
    "    maskA = test_cv['conceptA'].isin(a)\n",
    "    maskB = test_cv['conceptB'].isin(b)\n",
    "    \n",
    "    train_cv = pd.concat([train_cv, test_cv[maskA | maskB]], axis=0)\n",
    "    test_cv.drop(index=test_cv[maskA | maskB].index, inplace=True)\n",
    "    \n",
    "    train_cv.sort_values(by=['conceptA']).to_csv(train_file, index=False)\n",
    "    test_cv.sort_values(by=['conceptA']).to_csv(test_file, index=False)"
   ],
   "outputs": [],
   "execution_count": 4
  },
  {
   "cell_type": "markdown",
   "metadata": {},
   "source": [
    "## Cross Validate"
   ]
  },
  {
   "cell_type": "code",
   "metadata": {
    "ExecuteTime": {
     "end_time": "2024-07-24T13:18:28.224023Z",
     "start_time": "2024-07-24T13:18:28.220437Z"
    }
   },
   "source": [
    "hyper_params = {\n",
    "    # 'n_factors' : [12, 16, 20],\n",
    "    'n_factors' : [16],\n",
    "    # 'layer_sizes' : [[4], [8, 4], [16, 8, 4]],\n",
    "    'layer_sizes' : [[8, 4]],\n",
    "    # 'n_epochs' : [10, 20, 30],\n",
    "    'n_epochs' : [20],\n",
    "    # 'batch_size' : [128, 256, 512],\n",
    "    'batch_size' : [256],\n",
    "    # 'learning_rate' : [0.001, 0.01, 0.1]\n",
    "    # 'learning_rate' : [0.001, 0.0001, 0.00001]\n",
    "    'learning_rate' : [0.001]\n",
    "}\n"
   ],
   "outputs": [],
   "execution_count": 29
  },
  {
   "cell_type": "code",
   "metadata": {
    "ExecuteTime": {
     "end_time": "2024-07-24T13:00:03.426715Z",
     "start_time": "2024-07-24T13:00:03.422204Z"
    }
   },
   "source": [
    "# Generate all combinations\n",
    "combinations = list(itertools.product(\n",
    "    hyper_params['n_factors'], \n",
    "    hyper_params['layer_sizes'], \n",
    "    hyper_params['n_epochs'], hyper_params['batch_size'], \n",
    "    hyper_params['learning_rate'] \n",
    "))\n",
    "\n",
    "# Format the combinations into dictionaries\n",
    "formatted_combinations = [\n",
    "    {\n",
    "        'n_factors': combo[0], \n",
    "        'layer_sizes': combo[1],\n",
    "        'n_epochs': combo[2],\n",
    "        'batch_size': combo[3],\n",
    "        'learning_rate': combo[4]\n",
    "    } for combo in combinations\n",
    "]"
   ],
   "outputs": [],
   "execution_count": 26
  },
  {
   "cell_type": "code",
   "metadata": {
    "ExecuteTime": {
     "end_time": "2024-07-24T13:13:15.258239Z",
     "start_time": "2024-07-24T13:00:03.923989Z"
    }
   },
   "source": [
    "%%time\n",
    "\n",
    "best_combo = {}\n",
    "best_score = 0\n",
    "for combo in formatted_combinations:\n",
    "    score = 0\n",
    "    print(combo)\n",
    "    for i in range(n_splits):\n",
    "        train_file = DATA_PATH + CROSS_VALIDATION_FOLDER + f\"/cross_validation_train_{i}_split_{n_splits}.csv\"\n",
    "        test_file = DATA_PATH + CROSS_VALIDATION_FOLDER + f\"/cross_validation_test_{i}_split_{n_splits}.csv\"\n",
    "        train_cv = NCFDataset(train_file=train_file, seed=SEED, col_user='conceptA', col_item='conceptB')\n",
    "        \n",
    "        model_cv = NCF(\n",
    "            n_users=train_cv.n_users,\n",
    "            n_items=train_cv.n_items,\n",
    "            model_type=\"NeuMF\",\n",
    "            n_factors=combo['n_factors'],\n",
    "            layer_sizes=combo['layer_sizes'],\n",
    "            n_epochs=combo['n_epochs'],\n",
    "            batch_size=combo['batch_size'],\n",
    "            learning_rate=combo['learning_rate'],\n",
    "            verbose=combo['n_epochs'],\n",
    "            seed=SEED\n",
    "        )\n",
    "        \n",
    "        model_cv.fit(train_cv)\n",
    "        \n",
    "        test_cv = pd.read_csv(test_file)\n",
    "        predictions = [[row.conceptA, row.conceptB, model_cv.predict(row.conceptA, row.conceptB)]\n",
    "                   for (_, row) in test_cv.iterrows()]\n",
    "    \n",
    "        predictions = pd.DataFrame(predictions, columns=['conceptA', 'conceptB', 'isPrerequisite_pred'])\n",
    "        predictions['pred'] = (predictions['isPrerequisite_pred'] >= NCF_THRESHOLD).astype(int)\n",
    "        score_split = f1_score(test_cv['isPrerequisite'], predictions['pred'])\n",
    "        print(f'f1 - split {i}', score_split)\n",
    "        score += score_split\n",
    "    score /= n_splits\n",
    "    print('split score', score)\n",
    "    if score > best_score:\n",
    "        best_score = score\n",
    "        best_combo = combo"
   ],
   "outputs": [
    {
     "name": "stderr",
     "output_type": "stream",
     "text": [
      "INFO:ncf.dataset:Indexing C:/Users/Luka/Documents/University/bachelor-project-prerequisite-learning/data/cross_validation//cross_validation_train_0_split_5.csv ...\n"
     ]
    },
    {
     "name": "stdout",
     "output_type": "stream",
     "text": [
      "{'n_factors': 16, 'layer_sizes': [8, 4], 'n_epochs': 20, 'batch_size': 256, 'learning_rate': 0.001}\n"
     ]
    },
    {
     "name": "stderr",
     "output_type": "stream",
     "text": [
      "INFO:ncf.ncf:Epoch 20 [2.54s]: train_loss = 0.042704 \n",
      "INFO:ncf.dataset:Indexing C:/Users/Luka/Documents/University/bachelor-project-prerequisite-learning/data/cross_validation//cross_validation_train_1_split_5.csv ...\n"
     ]
    },
    {
     "name": "stdout",
     "output_type": "stream",
     "text": [
      "f1 - split 0 0.7087307410124725\n"
     ]
    },
    {
     "name": "stderr",
     "output_type": "stream",
     "text": [
      "INFO:ncf.ncf:Epoch 20 [2.70s]: train_loss = 0.043457 \n",
      "INFO:ncf.dataset:Indexing C:/Users/Luka/Documents/University/bachelor-project-prerequisite-learning/data/cross_validation//cross_validation_train_2_split_5.csv ...\n"
     ]
    },
    {
     "name": "stdout",
     "output_type": "stream",
     "text": [
      "f1 - split 1 0.7296511627906976\n"
     ]
    },
    {
     "name": "stderr",
     "output_type": "stream",
     "text": [
      "INFO:ncf.ncf:Epoch 20 [2.68s]: train_loss = 0.041791 \n",
      "INFO:ncf.dataset:Indexing C:/Users/Luka/Documents/University/bachelor-project-prerequisite-learning/data/cross_validation//cross_validation_train_3_split_5.csv ...\n"
     ]
    },
    {
     "name": "stdout",
     "output_type": "stream",
     "text": [
      "f1 - split 2 0.7053571428571429\n"
     ]
    },
    {
     "name": "stderr",
     "output_type": "stream",
     "text": [
      "INFO:ncf.ncf:Epoch 20 [2.61s]: train_loss = 0.043992 \n",
      "INFO:ncf.dataset:Indexing C:/Users/Luka/Documents/University/bachelor-project-prerequisite-learning/data/cross_validation//cross_validation_train_4_split_5.csv ...\n"
     ]
    },
    {
     "name": "stdout",
     "output_type": "stream",
     "text": [
      "f1 - split 3 0.6977087952697709\n"
     ]
    },
    {
     "name": "stderr",
     "output_type": "stream",
     "text": [
      "INFO:ncf.ncf:Epoch 20 [2.59s]: train_loss = 0.040066 \n",
      "INFO:ncf.dataset:Indexing C:/Users/Luka/Documents/University/bachelor-project-prerequisite-learning/data/cross_validation//cross_validation_train_0_split_5.csv ...\n"
     ]
    },
    {
     "name": "stdout",
     "output_type": "stream",
     "text": [
      "f1 - split 4 0.7226277372262774\n",
      "split score 0.7128151158312723\n",
      "{'n_factors': 16, 'layer_sizes': [8, 4], 'n_epochs': 20, 'batch_size': 256, 'learning_rate': 0.0001}\n"
     ]
    },
    {
     "name": "stderr",
     "output_type": "stream",
     "text": [
      "INFO:ncf.ncf:Epoch 20 [2.54s]: train_loss = 0.170068 \n",
      "INFO:ncf.dataset:Indexing C:/Users/Luka/Documents/University/bachelor-project-prerequisite-learning/data/cross_validation//cross_validation_train_1_split_5.csv ...\n"
     ]
    },
    {
     "name": "stdout",
     "output_type": "stream",
     "text": [
      "f1 - split 0 0.25481798715203424\n"
     ]
    },
    {
     "name": "stderr",
     "output_type": "stream",
     "text": [
      "INFO:ncf.ncf:Epoch 20 [2.46s]: train_loss = 0.171096 \n",
      "INFO:ncf.dataset:Indexing C:/Users/Luka/Documents/University/bachelor-project-prerequisite-learning/data/cross_validation//cross_validation_train_2_split_5.csv ...\n"
     ]
    },
    {
     "name": "stdout",
     "output_type": "stream",
     "text": [
      "f1 - split 1 0.23669923995656894\n"
     ]
    },
    {
     "name": "stderr",
     "output_type": "stream",
     "text": [
      "INFO:ncf.ncf:Epoch 20 [2.93s]: train_loss = 0.171202 \n",
      "INFO:ncf.dataset:Indexing C:/Users/Luka/Documents/University/bachelor-project-prerequisite-learning/data/cross_validation//cross_validation_train_3_split_5.csv ...\n"
     ]
    },
    {
     "name": "stdout",
     "output_type": "stream",
     "text": [
      "f1 - split 2 0.24973089343379978\n"
     ]
    },
    {
     "name": "stderr",
     "output_type": "stream",
     "text": [
      "INFO:ncf.ncf:Epoch 20 [2.50s]: train_loss = 0.170975 \n",
      "INFO:ncf.dataset:Indexing C:/Users/Luka/Documents/University/bachelor-project-prerequisite-learning/data/cross_validation//cross_validation_train_4_split_5.csv ...\n"
     ]
    },
    {
     "name": "stdout",
     "output_type": "stream",
     "text": [
      "f1 - split 3 0.23102310231023102\n"
     ]
    },
    {
     "name": "stderr",
     "output_type": "stream",
     "text": [
      "INFO:ncf.ncf:Epoch 20 [2.53s]: train_loss = 0.171596 \n",
      "INFO:ncf.dataset:Indexing C:/Users/Luka/Documents/University/bachelor-project-prerequisite-learning/data/cross_validation//cross_validation_train_0_split_5.csv ...\n"
     ]
    },
    {
     "name": "stdout",
     "output_type": "stream",
     "text": [
      "f1 - split 4 0.22742474916387959\n",
      "split score 0.23993919440330275\n",
      "{'n_factors': 16, 'layer_sizes': [8, 4], 'n_epochs': 20, 'batch_size': 256, 'learning_rate': 1e-05}\n"
     ]
    },
    {
     "name": "stderr",
     "output_type": "stream",
     "text": [
      "INFO:ncf.ncf:Epoch 20 [2.58s]: train_loss = 0.658026 \n",
      "INFO:ncf.dataset:Indexing C:/Users/Luka/Documents/University/bachelor-project-prerequisite-learning/data/cross_validation//cross_validation_train_1_split_5.csv ...\n"
     ]
    },
    {
     "name": "stdout",
     "output_type": "stream",
     "text": [
      "f1 - split 0 0.4426812585499316\n"
     ]
    },
    {
     "name": "stderr",
     "output_type": "stream",
     "text": [
      "INFO:ncf.ncf:Epoch 20 [2.51s]: train_loss = 0.658020 \n",
      "INFO:ncf.dataset:Indexing C:/Users/Luka/Documents/University/bachelor-project-prerequisite-learning/data/cross_validation//cross_validation_train_2_split_5.csv ...\n"
     ]
    },
    {
     "name": "stdout",
     "output_type": "stream",
     "text": [
      "f1 - split 1 0.4419496166484118\n"
     ]
    },
    {
     "name": "stderr",
     "output_type": "stream",
     "text": [
      "INFO:ncf.ncf:Epoch 20 [2.56s]: train_loss = 0.658042 \n",
      "INFO:ncf.dataset:Indexing C:/Users/Luka/Documents/University/bachelor-project-prerequisite-learning/data/cross_validation//cross_validation_train_3_split_5.csv ...\n"
     ]
    },
    {
     "name": "stdout",
     "output_type": "stream",
     "text": [
      "f1 - split 2 0.4460987041632203\n"
     ]
    },
    {
     "name": "stderr",
     "output_type": "stream",
     "text": [
      "INFO:ncf.ncf:Epoch 20 [2.44s]: train_loss = 0.658216 \n",
      "INFO:ncf.dataset:Indexing C:/Users/Luka/Documents/University/bachelor-project-prerequisite-learning/data/cross_validation//cross_validation_train_4_split_5.csv ...\n"
     ]
    },
    {
     "name": "stdout",
     "output_type": "stream",
     "text": [
      "f1 - split 3 0.4362050163576881\n"
     ]
    },
    {
     "name": "stderr",
     "output_type": "stream",
     "text": [
      "INFO:ncf.ncf:Epoch 20 [2.60s]: train_loss = 0.658065 \n"
     ]
    },
    {
     "name": "stdout",
     "output_type": "stream",
     "text": [
      "f1 - split 4 0.4376899696048632\n",
      "split score 0.440924913064823\n",
      "CPU times: total: 14min 40s\n",
      "Wall time: 13min 11s\n"
     ]
    }
   ],
   "execution_count": 27
  },
  {
   "cell_type": "code",
   "metadata": {
    "ExecuteTime": {
     "end_time": "2024-07-24T13:13:15.264657Z",
     "start_time": "2024-07-24T13:13:15.260237Z"
    }
   },
   "source": [
    "best_combo, best_score"
   ],
   "outputs": [
    {
     "data": {
      "text/plain": [
       "({'n_factors': 16,\n",
       "  'layer_sizes': [8, 4],\n",
       "  'n_epochs': 20,\n",
       "  'batch_size': 256,\n",
       "  'learning_rate': 0.001},\n",
       " 0.7128151158312723)"
      ]
     },
     "execution_count": 28,
     "metadata": {},
     "output_type": "execute_result"
    }
   ],
   "execution_count": 28
  },
  {
   "cell_type": "markdown",
   "metadata": {},
   "source": [
    "# Final Model Train"
   ]
  },
  {
   "metadata": {
    "ExecuteTime": {
     "end_time": "2024-07-24T13:18:57.583613Z",
     "start_time": "2024-07-24T13:18:57.579053Z"
    }
   },
   "cell_type": "code",
   "source": "DATA_PATH + TRAIN_TEST_FOLDER ",
   "outputs": [
    {
     "data": {
      "text/plain": [
       "'C:/Users/Luka/Documents/University/bachelor-project-prerequisite-learning/data/train_test/'"
      ]
     },
     "execution_count": 30,
     "metadata": {},
     "output_type": "execute_result"
    }
   ],
   "execution_count": 30
  },
  {
   "metadata": {
    "ExecuteTime": {
     "end_time": "2024-07-24T13:19:43.372550Z",
     "start_time": "2024-07-24T13:19:43.369341Z"
    }
   },
   "cell_type": "code",
   "source": [
    "train_file = DATA_PATH + TRAIN_TEST_FOLDER + 'train.csv'\n",
    "test_file = DATA_PATH + TRAIN_TEST_FOLDER + 'test.csv'"
   ],
   "outputs": [],
   "execution_count": 32
  },
  {
   "cell_type": "code",
   "metadata": {
    "ExecuteTime": {
     "end_time": "2024-07-24T13:19:45.298229Z",
     "start_time": "2024-07-24T13:19:45.233529Z"
    }
   },
   "source": [
    "data = NCFDataset(train_file=train_file, seed=SEED, col_user='conceptA', col_item='conceptB')"
   ],
   "outputs": [
    {
     "name": "stderr",
     "output_type": "stream",
     "text": [
      "INFO:ncf.dataset:Indexing C:/Users/Luka/Documents/University/bachelor-project-prerequisite-learning/data/train_test/train.csv ...\n"
     ]
    }
   ],
   "execution_count": 33
  },
  {
   "cell_type": "code",
   "metadata": {
    "ExecuteTime": {
     "end_time": "2024-07-24T13:19:46.143693Z",
     "start_time": "2024-07-24T13:19:46.136365Z"
    }
   },
   "source": [
    "data.n_users, data.n_items"
   ],
   "outputs": [
    {
     "data": {
      "text/plain": [
       "(1384, 1600)"
      ]
     },
     "execution_count": 34,
     "metadata": {},
     "output_type": "execute_result"
    }
   ],
   "execution_count": 34
  },
  {
   "cell_type": "code",
   "metadata": {
    "ExecuteTime": {
     "end_time": "2024-07-24T13:19:54.510861Z",
     "start_time": "2024-07-24T13:19:53.998276Z"
    }
   },
   "source": [
    "model = NCF(\n",
    "    n_users=data.n_users, \n",
    "    n_items=data.n_items,\n",
    "    model_type=\"NeuMF\",\n",
    "    n_factors=16,\n",
    "    layer_sizes=[8,4],\n",
    "    n_epochs=20,\n",
    "    batch_size=256,\n",
    "    learning_rate=0.001,\n",
    "    verbose=20, \n",
    "    seed=SEED\n",
    ")"
   ],
   "outputs": [],
   "execution_count": 35
  },
  {
   "cell_type": "code",
   "metadata": {
    "ExecuteTime": {
     "end_time": "2024-07-24T13:20:53.657811Z",
     "start_time": "2024-07-24T13:19:54.835070Z"
    }
   },
   "source": [
    "%%time\n",
    "\n",
    "model.fit(data)"
   ],
   "outputs": [
    {
     "name": "stderr",
     "output_type": "stream",
     "text": [
      "INFO:ncf.ncf:Epoch 20 [4.42s]: train_loss = 0.036004 \n"
     ]
    },
    {
     "name": "stdout",
     "output_type": "stream",
     "text": [
      "CPU times: total: 59 s\n",
      "Wall time: 58.8 s\n"
     ]
    }
   ],
   "execution_count": 36
  },
  {
   "cell_type": "markdown",
   "metadata": {},
   "source": [
    "## 3.4 Prediction and Evaluation"
   ]
  },
  {
   "cell_type": "markdown",
   "metadata": {},
   "source": [
    "### 3.4.1 Prediction\n",
    "\n",
    "Now that our model is fitted, we can call `predict` to get some `predictions`. `predict` returns an internal object Prediction which can be easily converted back to a dataframe:"
   ]
  },
  {
   "metadata": {
    "ExecuteTime": {
     "end_time": "2024-07-24T13:20:53.814774Z",
     "start_time": "2024-07-24T13:20:53.783946Z"
    }
   },
   "cell_type": "code",
   "source": "df = pd.read_csv(DATA_PATH + UNITED_DATA_FOLDER + 'united_data_encoded_embeddings_split_set.csv')",
   "outputs": [],
   "execution_count": 37
  },
  {
   "cell_type": "code",
   "metadata": {
    "ExecuteTime": {
     "end_time": "2024-07-24T13:21:17.660259Z",
     "start_time": "2024-07-24T13:21:11.396527Z"
    }
   },
   "source": [
    "predictions = [[row.conceptA, row.conceptB, model.predict(row.conceptA, row.conceptB)]\n",
    "               for (_, row) in df.iterrows()]\n",
    "\n",
    "predictions = pd.DataFrame(predictions, columns=['conceptA', 'conceptB', 'isPrerequisite_pred'])\n",
    "\n",
    "predictions['isPrerequisite'] = df['isPrerequisite']\n",
    "predictions['dataset'] = df['dataset']\n",
    "predictions['_split_set'] = df['_split_set']\n",
    "sorted_predictions = predictions.sort_values(by='isPrerequisite_pred', ascending=False)\n",
    "sorted_predictions['pred'] = (sorted_predictions['isPrerequisite_pred'] >= NCF_THRESHOLD).astype(int)"
   ],
   "outputs": [],
   "execution_count": 39
  },
  {
   "cell_type": "code",
   "metadata": {
    "ExecuteTime": {
     "end_time": "2024-07-24T13:21:18.771535Z",
     "start_time": "2024-07-24T13:21:18.765757Z"
    }
   },
   "source": [
    "sorted_predictions['isPrerequisite'].mean(), df['isPrerequisite'].mean(), sorted_predictions['isPrerequisite_pred'].mean()"
   ],
   "outputs": [
    {
     "data": {
      "text/plain": [
       "(0.2855126743744233, 0.2855126743744233, 0.2324678171464357)"
      ]
     },
     "execution_count": 40,
     "metadata": {},
     "output_type": "execute_result"
    }
   ],
   "execution_count": 40
  },
  {
   "cell_type": "code",
   "metadata": {
    "ExecuteTime": {
     "end_time": "2024-07-24T13:21:25.135736Z",
     "start_time": "2024-07-24T13:21:25.129753Z"
    }
   },
   "source": [
    "sorted_predictions['dataset'].value_counts()"
   ],
   "outputs": [
    {
     "data": {
      "text/plain": [
       "dataset\n",
       "moocML     6712\n",
       "al_cpl     6375\n",
       "drive      2797\n",
       "moocDSA    2539\n",
       "Name: count, dtype: int64"
      ]
     },
     "execution_count": 41,
     "metadata": {},
     "output_type": "execute_result"
    }
   ],
   "execution_count": 41
  },
  {
   "cell_type": "code",
   "metadata": {
    "ExecuteTime": {
     "end_time": "2024-07-24T13:21:28.903174Z",
     "start_time": "2024-07-24T13:21:28.891576Z"
    }
   },
   "source": [
    "df_moocML = sorted_predictions[sorted_predictions['dataset'] == 'moocML']\n",
    "df_moocDSA = sorted_predictions[sorted_predictions['dataset'] == 'moocDSA']\n",
    "df_drive = sorted_predictions[sorted_predictions['dataset'] == 'drive']\n",
    "df_alcpl = sorted_predictions[sorted_predictions['dataset'] == 'al_cpl']"
   ],
   "outputs": [],
   "execution_count": 42
  },
  {
   "cell_type": "code",
   "metadata": {
    "ExecuteTime": {
     "end_time": "2024-07-24T13:21:30.415525Z",
     "start_time": "2024-07-24T13:21:30.409209Z"
    }
   },
   "source": [
    "df_test = sorted_predictions[sorted_predictions['_split_set'] == 'test']"
   ],
   "outputs": [],
   "execution_count": 43
  },
  {
   "cell_type": "markdown",
   "metadata": {},
   "source": [
    "# Check Test Set"
   ]
  },
  {
   "cell_type": "code",
   "metadata": {
    "ExecuteTime": {
     "end_time": "2024-07-24T13:21:32.813585Z",
     "start_time": "2024-07-24T13:21:32.795188Z"
    }
   },
   "source": "print(classification_report(df_test['isPrerequisite'], df_test['pred']))",
   "outputs": [
    {
     "name": "stdout",
     "output_type": "stream",
     "text": [
      "              precision    recall  f1-score   support\n",
      "\n",
      "           0       0.87      0.96      0.91      2635\n",
      "           1       0.87      0.65      0.74      1050\n",
      "\n",
      "    accuracy                           0.87      3685\n",
      "   macro avg       0.87      0.80      0.83      3685\n",
      "weighted avg       0.87      0.87      0.87      3685\n",
      "\n"
     ]
    }
   ],
   "execution_count": 44
  },
  {
   "cell_type": "code",
   "metadata": {
    "ExecuteTime": {
     "end_time": "2024-07-24T13:21:43.328167Z",
     "start_time": "2024-07-24T13:21:43.312477Z"
    }
   },
   "source": [
    "print(precision_score(df_test['isPrerequisite'], df_test['pred']), recall_score(df_test['isPrerequisite'], df_test['pred']), f1_score(df_test['isPrerequisite'], df_test['pred']))"
   ],
   "outputs": [
    {
     "name": "stdout",
     "output_type": "stream",
     "text": [
      "0.8686224489795918 0.6485714285714286 0.742639040348964\n"
     ]
    }
   ],
   "execution_count": 45
  },
  {
   "cell_type": "markdown",
   "metadata": {},
   "source": [
    "### Reference: \n",
    "1. Xiangnan He, Lizi Liao, Hanwang Zhang, Liqiang Nie, Xia Hu & Tat-Seng Chua, Neural Collaborative Filtering, 2017, https://arxiv.org/abs/1708.05031\n",
    "\n",
    "2. Official NCF implementation [Keras with Theano]: https://github.com/hexiangnan/neural_collaborative_filtering\n",
    "\n",
    "3. Other nice NCF implementation [Pytorch]: https://github.com/LaceyChen17/neural-collaborative-filtering"
   ]
  },
  {
   "metadata": {},
   "cell_type": "code",
   "outputs": [],
   "execution_count": null,
   "source": ""
  }
 ],
 "metadata": {
  "celltoolbar": "Tags",
  "interpreter": {
   "hash": "3a9a0c422ff9f08d62211b9648017c63b0a26d2c935edc37ebb8453675d13bb5"
  },
  "kernelspec": {
   "display_name": "Python 3 (ipykernel)",
   "language": "python",
   "name": "python3"
  },
  "language_info": {
   "codemirror_mode": {
    "name": "ipython",
    "version": 3
   },
   "file_extension": ".py",
   "mimetype": "text/x-python",
   "name": "python",
   "nbconvert_exporter": "python",
   "pygments_lexer": "ipython3",
   "version": "3.11.9"
  }
 },
 "nbformat": 4,
 "nbformat_minor": 4
}
